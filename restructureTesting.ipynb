{
 "cells": [
  {
   "cell_type": "code",
   "execution_count": 1,
   "metadata": {
    "collapsed": false
   },
   "outputs": [
    {
     "name": "stderr",
     "output_type": "stream",
     "text": [
      "/Users/joachim/anaconda/lib/python2.7/site-packages/IPython/kernel/__init__.py:13: ShimWarning: The `IPython.kernel` package has been deprecated. You should import from ipykernel or jupyter_client instead.\n",
      "  \"You should import from ipykernel or jupyter_client instead.\", ShimWarning)\n"
     ]
    }
   ],
   "source": [
    "from AtmoBuilder import AtmoBuilder"
   ]
  },
  {
   "cell_type": "code",
   "execution_count": 2,
   "metadata": {
    "collapsed": false
   },
   "outputs": [
    {
     "name": "stdout",
     "output_type": "stream",
     "text": [
      "Found 16 MODTRAN files:\n",
      "Pachon_MODTRAN.10.7sc\n",
      "Pachon_MODTRAN.11.7sc\n",
      "Pachon_MODTRAN.12.7sc\n",
      "Pachon_MODTRAN.13.7sc\n",
      "Pachon_MODTRAN.14.7sc\n",
      "Pachon_MODTRAN.15.7sc\n",
      "Pachon_MODTRAN.16.7sc\n",
      "Pachon_MODTRAN.17.7sc\n",
      "Pachon_MODTRAN.18.7sc\n",
      "Pachon_MODTRAN.19.7sc\n",
      "Pachon_MODTRAN.20.7sc\n",
      "Pachon_MODTRAN.21.7sc\n",
      "Pachon_MODTRAN.22.7sc\n",
      "Pachon_MODTRAN.23.7sc\n",
      "Pachon_MODTRAN.24.7sc\n",
      "Pachon_MODTRAN.25.7sc\n",
      "MODTRAN files have been read.\n",
      "\n",
      "Read filter data from LSST software stack.\n",
      "Filters: ['u', 'g', 'r', 'i', 'z', 'y4']\n",
      "Read hardware data from LSST software stack.\n"
     ]
    }
   ],
   "source": [
    "ab = AtmoBuilder()"
   ]
  },
  {
   "cell_type": "code",
   "execution_count": 11,
   "metadata": {
    "collapsed": false
   },
   "outputs": [],
   "source": [
    "test = ab.buildAtmo([1.0,2.3,3.4,3.2,1.0,1.3],2.0)"
   ]
  },
  {
   "cell_type": "code",
   "execution_count": 12,
   "metadata": {
    "collapsed": false
   },
   "outputs": [
    {
     "data": {
      "text/plain": [
       "array([ 0.,  1.,  1., ...,  1.,  1.,  1.])"
      ]
     },
     "execution_count": 12,
     "metadata": {},
     "output_type": "execute_result"
    }
   ],
   "source": [
    "test.sbDict['O2']"
   ]
  },
  {
   "cell_type": "code",
   "execution_count": null,
   "metadata": {
    "collapsed": true
   },
   "outputs": [],
   "source": []
  }
 ],
 "metadata": {
  "kernelspec": {
   "display_name": "Python 2",
   "language": "python",
   "name": "python2"
  },
  "language_info": {
   "codemirror_mode": {
    "name": "ipython",
    "version": 2
   },
   "file_extension": ".py",
   "mimetype": "text/x-python",
   "name": "python",
   "nbconvert_exporter": "python",
   "pygments_lexer": "ipython2",
   "version": "2.7.10"
  }
 },
 "nbformat": 4,
 "nbformat_minor": 0
}
