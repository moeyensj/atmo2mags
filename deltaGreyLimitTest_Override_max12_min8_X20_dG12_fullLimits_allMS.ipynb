{
 "cells": [
  {
   "cell_type": "code",
   "execution_count": null,
   "metadata": {
    "collapsed": false,
    "scrolled": false
   },
   "outputs": [],
   "source": [
    "from AtmoBuilder import AtmoBuilder\n",
    "\n",
    "import numpy as np\n",
    "import matplotlib.pyplot as plt\n",
    "import copy\n",
    "\n",
    "% matplotlib inline"
   ]
  },
  {
   "cell_type": "code",
   "execution_count": null,
   "metadata": {
    "collapsed": false,
    "scrolled": false
   },
   "outputs": [],
   "source": [
    "ab = AtmoBuilder()"
   ]
  },
  {
   "cell_type": "code",
   "execution_count": null,
   "metadata": {
    "collapsed": false,
    "scrolled": false
   },
   "outputs": [],
   "source": [
    "ab.readAll()"
   ]
  },
  {
   "cell_type": "code",
   "execution_count": null,
   "metadata": {
    "collapsed": true,
    "scrolled": false
   },
   "outputs": [],
   "source": [
    "maxp = 1.2\n",
    "minp = 0.8\n",
    "airmass = 2.0\n",
    "deltaGrey_obs = 12.0\n",
    "\n",
    "def deltaGreyLimitPlot(comp, maxp=maxp, minp=minp, deltaGrey=deltaGrey_obs, deltaGreyRange=[-20.0,20.0], err=5.0, componentBins=50, deltaGreyBins=51, regressionSed='mss'):\n",
    "    \n",
    "    prange, pnum = ab._componentCheck(comp,20)\n",
    "    \n",
    "    atmo_std = ab.buildAtmo(ab.parameters, airmass)\n",
    "    \n",
    "    name_max = 'max_dGTest_allMS_OR' + str(int(maxp*100.0))\n",
    "    name_min = 'min_dGTest_allMS_OR' + str(int(minp*100.0))\n",
    "    \n",
    "    ab.computeDeltaGreyFit(comp, deltaGrey, atmo_std, deltaGreyRange=deltaGreyRange, componentBins=componentBins, \n",
    "                           deltaGreyBins=deltaGreyBins, regressionSed=regressionSed, pickleString=name_max, plotDmags=False, override=True, overrideValue=maxp)\n",
    "    ab.computeDeltaGreyFit(comp, deltaGrey, atmo_std, deltaGreyRange=deltaGreyRange, componentBins=componentBins, \n",
    "                           deltaGreyBins=deltaGreyBins, regressionSed=regressionSed, pickleString=name_min, plotDmags=False, override=True, overrideValue=minp)\n",
    "    return    "
   ]
  },
  {
   "cell_type": "markdown",
   "metadata": {},
   "source": [
    "## Components:\n",
    "- [$H_20$](#$H_2O$)\n",
    "- [$O_2$](#$O_2$)\n",
    "- [$O_3$](#$O_3$)\n",
    "- [Rayleigh](#Rayleigh)\n",
    "- [Aerosol](#Aerosol)\n",
    "- [Alpha](#Alpha)"
   ]
  },
  {
   "cell_type": "markdown",
   "metadata": {},
   "source": [
    "### $H_2O$"
   ]
  },
  {
   "cell_type": "code",
   "execution_count": null,
   "metadata": {
    "collapsed": false,
    "scrolled": false
   },
   "outputs": [],
   "source": [
    "deltaGreyLimitPlot('H2O')"
   ]
  },
  {
   "cell_type": "code",
   "execution_count": null,
   "metadata": {
    "collapsed": false
   },
   "outputs": [],
   "source": [
    "deltaGreyLimitPlot('H2O',deltaGreyBins=50)"
   ]
  },
  {
   "cell_type": "markdown",
   "metadata": {},
   "source": [
    "### $O_2$"
   ]
  },
  {
   "cell_type": "code",
   "execution_count": null,
   "metadata": {
    "collapsed": false
   },
   "outputs": [],
   "source": [
    "deltaGreyLimitPlot('O2')"
   ]
  },
  {
   "cell_type": "code",
   "execution_count": null,
   "metadata": {
    "collapsed": false
   },
   "outputs": [],
   "source": [
    "deltaGreyLimitPlot('O2',deltaGreyBins=50)"
   ]
  },
  {
   "cell_type": "markdown",
   "metadata": {},
   "source": [
    "### $O_3$"
   ]
  },
  {
   "cell_type": "code",
   "execution_count": null,
   "metadata": {
    "collapsed": true
   },
   "outputs": [],
   "source": [
    "deltaGreyLimitPlot('O3')"
   ]
  },
  {
   "cell_type": "code",
   "execution_count": null,
   "metadata": {
    "collapsed": true
   },
   "outputs": [],
   "source": [
    "deltaGreyLimitPlot('O3',deltaGreyBins=50)"
   ]
  },
  {
   "cell_type": "markdown",
   "metadata": {},
   "source": [
    "### Rayleigh"
   ]
  },
  {
   "cell_type": "code",
   "execution_count": null,
   "metadata": {
    "collapsed": true
   },
   "outputs": [],
   "source": [
    "deltaGreyLimitPlot('Rayleigh')"
   ]
  },
  {
   "cell_type": "code",
   "execution_count": null,
   "metadata": {
    "collapsed": true
   },
   "outputs": [],
   "source": [
    "deltaGreyLimitPlot('Rayleigh',deltaGreyBins=50)"
   ]
  },
  {
   "cell_type": "markdown",
   "metadata": {},
   "source": [
    "### Aerosol"
   ]
  },
  {
   "cell_type": "code",
   "execution_count": null,
   "metadata": {
    "collapsed": true
   },
   "outputs": [],
   "source": [
    "deltaGreyLimitPlot('Aerosol')"
   ]
  },
  {
   "cell_type": "code",
   "execution_count": null,
   "metadata": {
    "collapsed": true
   },
   "outputs": [],
   "source": [
    "deltaGreyLimitPlot('Aerosol',deltaGreyBins=50)"
   ]
  },
  {
   "cell_type": "markdown",
   "metadata": {},
   "source": [
    "### Alpha"
   ]
  },
  {
   "cell_type": "code",
   "execution_count": null,
   "metadata": {
    "collapsed": true
   },
   "outputs": [],
   "source": [
    "deltaGreyLimitPlot('Alpha')"
   ]
  },
  {
   "cell_type": "code",
   "execution_count": null,
   "metadata": {
    "collapsed": true
   },
   "outputs": [],
   "source": [
    "deltaGreyLimitPlot('Alpha',deltaGreyBins=50)"
   ]
  },
  {
   "cell_type": "code",
   "execution_count": null,
   "metadata": {
    "collapsed": false,
    "scrolled": false
   },
   "outputs": [],
   "source": []
  }
 ],
 "metadata": {
  "kernelspec": {
   "display_name": "Python 2",
   "language": "python",
   "name": "python2"
  },
  "language_info": {
   "codemirror_mode": {
    "name": "ipython",
    "version": 2
   },
   "file_extension": ".py",
   "mimetype": "text/x-python",
   "name": "python",
   "nbconvert_exporter": "python",
   "pygments_lexer": "ipython2",
   "version": "2.7.10"
  }
 },
 "nbformat": 4,
 "nbformat_minor": 0
}
