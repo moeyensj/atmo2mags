{
 "cells": [
  {
   "cell_type": "code",
   "execution_count": 1,
   "metadata": {
    "collapsed": false,
    "scrolled": false
   },
   "outputs": [
    {
     "name": "stderr",
     "output_type": "stream",
     "text": [
      "/Users/joachim/anaconda/lib/python2.7/site-packages/IPython/kernel/__init__.py:13: ShimWarning: The `IPython.kernel` package has been deprecated. You should import from ipykernel or jupyter_client instead.\n",
      "  \"You should import from ipykernel or jupyter_client instead.\", ShimWarning)\n"
     ]
    }
   ],
   "source": [
    "from AtmoBuilder import AtmoBuilder\n",
    "\n",
    "import numpy as np\n",
    "import matplotlib.pyplot as plt\n",
    "import copy\n",
    "\n",
    "% matplotlib inline"
   ]
  },
  {
   "cell_type": "code",
   "execution_count": 2,
   "metadata": {
    "collapsed": false,
    "scrolled": false
   },
   "outputs": [
    {
     "name": "stdout",
     "output_type": "stream",
     "text": [
      "Found 16 MODTRAN files:\n",
      "Pachon_MODTRAN.10.7sc\n",
      "Pachon_MODTRAN.11.7sc\n",
      "Pachon_MODTRAN.12.7sc\n",
      "Pachon_MODTRAN.13.7sc\n",
      "Pachon_MODTRAN.14.7sc\n",
      "Pachon_MODTRAN.15.7sc\n",
      "Pachon_MODTRAN.16.7sc\n",
      "Pachon_MODTRAN.17.7sc\n",
      "Pachon_MODTRAN.18.7sc\n",
      "Pachon_MODTRAN.19.7sc\n",
      "Pachon_MODTRAN.20.7sc\n",
      "Pachon_MODTRAN.21.7sc\n",
      "Pachon_MODTRAN.22.7sc\n",
      "Pachon_MODTRAN.23.7sc\n",
      "Pachon_MODTRAN.24.7sc\n",
      "Pachon_MODTRAN.25.7sc\n",
      "MODTRAN files have been read.\n",
      "\n",
      "Read filter data from LSST software stack.\n",
      "Filters: ['u', 'g', 'r', 'i', 'z', 'y4']\n",
      "Read hardware data from LSST software stack.\n"
     ]
    }
   ],
   "source": [
    "ab = AtmoBuilder()"
   ]
  },
  {
   "cell_type": "code",
   "execution_count": 3,
   "metadata": {
    "collapsed": false,
    "scrolled": false
   },
   "outputs": [
    {
     "name": "stdout",
     "output_type": "stream",
     "text": [
      "# Read 4855 MS stars from /Users/joachim/anaconda/opt/lsst/sims_sed_library/starSED/kurucz/\n",
      "# Read 849 white dwarfs from /Users/joachim/anaconda/opt/lsst/sims_sed_library/starSED/wDs/\n",
      "# Read 74 mlt stars from /Users/joachim/anaconda/opt/lsst/sims_sed_library/starSED/mlt/\n",
      "# Generated 2520 galaxies at redshifts between 0.000000 and 3.000000\n",
      "# Generated 76 quasars at redshifts between 0.000000 and 7.500000\n",
      "# Generated 39 sn's at redshifts between 0.000000 and 1.200000 on days ['0', '20', '40']\n"
     ]
    }
   ],
   "source": [
    "ab.readAll()"
   ]
  },
  {
   "cell_type": "code",
   "execution_count": null,
   "metadata": {
    "collapsed": true,
    "scrolled": false
   },
   "outputs": [],
   "source": [
    "maxp = 1.2\n",
    "minp = 0.8\n",
    "airmass = 2.0\n",
    "deltaGrey_obs = 12.0\n",
    "\n",
    "def deltaGreyLimitPlot(comp, maxp=maxp, minp=minp, deltaGrey=deltaGrey_obs, deltaGreyRange=[-20.0,20.0], err=5.0, componentBins=50, deltaGreyBins=51, regressionSed='mss'):\n",
    "    \n",
    "    prange, pnum = ab._componentCheck(comp,20)\n",
    "    \n",
    "    atmo_std = ab.buildAtmo(ab.parameters, airmass)\n",
    "    \n",
    "    name_max = 'max_dGTest_allMS_OR' + str(int(maxp*100.0))\n",
    "    name_min = 'min_dGTest_allMS_OR' + str(int(minp*100.0))\n",
    "    \n",
    "    ab.computeDeltaGreyFit(comp, deltaGrey, atmo_std, deltaGreyRange=deltaGreyRange, componentBins=componentBins, \n",
    "                           deltaGreyBins=deltaGreyBins, regressionSed=regressionSed, pickleString=name_max, plotDmags=False, override=True, overrideValue=maxp)\n",
    "    ab.computeDeltaGreyFit(comp, deltaGrey, atmo_std, deltaGreyRange=deltaGreyRange, componentBins=componentBins, \n",
    "                           deltaGreyBins=deltaGreyBins, regressionSed=regressionSed, pickleString=name_min, plotDmags=False, override=True, overrideValue=minp)\n",
    "    return    "
   ]
  },
  {
   "cell_type": "markdown",
   "metadata": {},
   "source": [
    "## Components:\n",
    "- [$H_20$](#$H_2O$)\n",
    "- [$O_2$](#$O_2$)\n",
    "- [$O_3$](#$O_3$)\n",
    "- [Rayleigh](#Rayleigh)\n",
    "- [Aerosol](#Aerosol)\n",
    "- [Alpha](#Alpha)"
   ]
  },
  {
   "cell_type": "markdown",
   "metadata": {},
   "source": [
    "### $H_2O$"
   ]
  },
  {
   "cell_type": "code",
   "execution_count": null,
   "metadata": {
    "collapsed": false,
    "scrolled": false
   },
   "outputs": [],
   "source": [
    "deltaGreyLimitPlot('H2O')"
   ]
  },
  {
   "cell_type": "code",
   "execution_count": null,
   "metadata": {
    "collapsed": false
   },
   "outputs": [],
   "source": [
    "deltaGreyLimitPlot('H2O',deltaGreyBins=50)"
   ]
  },
  {
   "cell_type": "markdown",
   "metadata": {},
   "source": [
    "### $O_2$"
   ]
  },
  {
   "cell_type": "code",
   "execution_count": null,
   "metadata": {
    "collapsed": false
   },
   "outputs": [],
   "source": [
    "deltaGreyLimitPlot('O2')"
   ]
  },
  {
   "cell_type": "code",
   "execution_count": null,
   "metadata": {
    "collapsed": false
   },
   "outputs": [],
   "source": [
    "deltaGreyLimitPlot('O2',deltaGreyBins=50)"
   ]
  },
  {
   "cell_type": "markdown",
   "metadata": {},
   "source": [
    "### $O_3$"
   ]
  },
  {
   "cell_type": "code",
   "execution_count": null,
   "metadata": {
    "collapsed": true
   },
   "outputs": [],
   "source": [
    "deltaGreyLimitPlot('O3')"
   ]
  },
  {
   "cell_type": "code",
   "execution_count": null,
   "metadata": {
    "collapsed": true
   },
   "outputs": [],
   "source": [
    "deltaGreyLimitPlot('O3',deltaGreyBins=50)"
   ]
  },
  {
   "cell_type": "markdown",
   "metadata": {},
   "source": [
    "### Rayleigh"
   ]
  },
  {
   "cell_type": "code",
   "execution_count": null,
   "metadata": {
    "collapsed": true
   },
   "outputs": [],
   "source": [
    "deltaGreyLimitPlot('Rayleigh')"
   ]
  },
  {
   "cell_type": "code",
   "execution_count": null,
   "metadata": {
    "collapsed": true
   },
   "outputs": [],
   "source": [
    "deltaGreyLimitPlot('Rayleigh',deltaGreyBins=50)"
   ]
  },
  {
   "cell_type": "markdown",
   "metadata": {},
   "source": [
    "### Aerosol"
   ]
  },
  {
   "cell_type": "code",
   "execution_count": null,
   "metadata": {
    "collapsed": true
   },
   "outputs": [],
   "source": [
    "deltaGreyLimitPlot('Aerosol')"
   ]
  },
  {
   "cell_type": "code",
   "execution_count": null,
   "metadata": {
    "collapsed": true
   },
   "outputs": [],
   "source": [
    "deltaGreyLimitPlot('Aerosol',deltaGreyBins=50)"
   ]
  },
  {
   "cell_type": "markdown",
   "metadata": {},
   "source": [
    "### Alpha"
   ]
  },
  {
   "cell_type": "code",
   "execution_count": null,
   "metadata": {
    "collapsed": true
   },
   "outputs": [],
   "source": [
    "deltaGreyLimitPlot('Alpha')"
   ]
  },
  {
   "cell_type": "code",
   "execution_count": null,
   "metadata": {
    "collapsed": true
   },
   "outputs": [],
   "source": [
    "deltaGreyLimitPlot('Alpha',deltaGreyBins=50)"
   ]
  },
  {
   "cell_type": "code",
   "execution_count": null,
   "metadata": {
    "collapsed": false,
    "scrolled": false
   },
   "outputs": [],
   "source": []
  }
 ],
 "metadata": {
  "kernelspec": {
   "display_name": "Python 2",
   "language": "python",
   "name": "python2"
  },
  "language_info": {
   "codemirror_mode": {
    "name": "ipython",
    "version": 2
   },
   "file_extension": ".py",
   "mimetype": "text/x-python",
   "name": "python",
   "nbconvert_exporter": "python",
   "pygments_lexer": "ipython2",
   "version": "2.7.10"
  }
 },
 "nbformat": 4,
 "nbformat_minor": 0
}
