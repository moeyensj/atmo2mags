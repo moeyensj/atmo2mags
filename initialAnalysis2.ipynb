{
 "metadata": {
  "name": ""
 },
 "nbformat": 3,
 "nbformat_minor": 0,
 "worksheets": [
  {
   "cells": [
    {
     "cell_type": "code",
     "collapsed": false,
     "input": [
      "from atmo import atmo as atm\n",
      "from AtmoCompMod import AtmoComp as ac\n",
      "from plot_dmagsMod import plot_dmags as dm\n",
      "import lsst.sims.photUtils.Sed as Sed\n",
      "import lsst.sims.photUtils.Bandpass as Bandpass\n",
      "import lsst.sims.photUtils.photUtils as photUtils\n",
      "\n",
      "import os\n",
      "import numpy\n",
      "import pylab\n",
      "import matplotlib\n",
      "\n",
      "% matplotlib inline"
     ],
     "language": "python",
     "metadata": {},
     "outputs": [],
     "prompt_number": 8
    },
    {
     "cell_type": "code",
     "collapsed": false,
     "input": [
      "# Initialize atmo function\n",
      "a = atm()\n",
      "a.readModtranFiles()\n",
      "print a.components\n",
      "print a.wavelength"
     ],
     "language": "python",
     "metadata": {},
     "outputs": [
      {
       "output_type": "stream",
       "stream": "stdout",
       "text": [
        "Found 16 MODTRAN files:\n",
        "Pachon_MODTRAN.10.7sc\n",
        "Pachon_MODTRAN.11.7sc\n",
        "Pachon_MODTRAN.12.7sc\n",
        "Pachon_MODTRAN.13.7sc\n",
        "Pachon_MODTRAN.14.7sc\n",
        "Pachon_MODTRAN.15.7sc\n",
        "Pachon_MODTRAN.16.7sc\n",
        "Pachon_MODTRAN.17.7sc\n",
        "Pachon_MODTRAN.18.7sc\n",
        "Pachon_MODTRAN.19.7sc"
       ]
      },
      {
       "output_type": "stream",
       "stream": "stdout",
       "text": [
        "\n",
        "Pachon_MODTRAN.20.7sc\n",
        "Pachon_MODTRAN.21.7sc\n",
        "Pachon_MODTRAN.22.7sc\n",
        "Pachon_MODTRAN.23.7sc\n",
        "Pachon_MODTRAN.24.7sc\n",
        "Pachon_MODTRAN.25.7sc\n",
        "MODTRAN files have been read."
       ]
      },
      {
       "output_type": "stream",
       "stream": "stdout",
       "text": [
        "\n",
        "['H2O', 'O2', 'O3', 'Rayleigh', 'Aerosol']\n",
        "[  250.    250.5   251.  ...,  1099.   1099.5  1100. ]\n"
       ]
      }
     ],
     "prompt_number": 9
    },
    {
     "cell_type": "code",
     "collapsed": false,
     "input": [
      "# Generating 7 atmospheres\n",
      "w = a.wavelength\n",
      "atmo1 = a.genAtmo(w,[2.0,0.5,0.5,0.5,0.5,2.0])\n",
      "atmo2 = a.genAtmo(w,[0.5,2.0,0.5,0.5,0.5,2.0])\n",
      "atmo3 = a.genAtmo(w,[0.5,0.5,2.0,0.5,0.5,2.0])\n",
      "atmo4 = a.genAtmo(w,[0.5,0.5,0.5,2.0,0.5,2.0])\n",
      "atmo5 = a.genAtmo(w,[0.5,0.5,0.5,0.5,2.0,2.0])\n",
      "atmo6 = a.genAtmo(w,[0.5,0.5,0.5,0.5,0.5,2.5])\n",
      "atmo7 = a.genAtmo(w,[0.5,0.5,0.5,0.5,0.5,2.0],X=2.0)"
     ],
     "language": "python",
     "metadata": {},
     "outputs": [],
     "prompt_number": 10
    },
    {
     "cell_type": "code",
     "collapsed": false,
     "input": [],
     "language": "python",
     "metadata": {},
     "outputs": []
    }
   ],
   "metadata": {}
  }
 ]
}