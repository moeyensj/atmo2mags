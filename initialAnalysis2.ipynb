{
 "metadata": {
  "name": ""
 },
 "nbformat": 3,
 "nbformat_minor": 0,
 "worksheets": [
  {
   "cells": [
    {
     "cell_type": "markdown",
     "metadata": {},
     "source": [
      "## Initial Analysis - Constraints on Atmospheric Transmissivity from Stellar Photometry - November 2014 - Part 2\n",
      "\n",
      "This ipython notebook will run through the initial analysis described in section 2.1 of the research paper titled above. Note: This notebook contains LSST stack dependencies and several imports of scripts."
     ]
    },
    {
     "cell_type": "code",
     "collapsed": false,
     "input": [
      "from atmo import atmo as atm\n",
      "from AtmoCompMod import AtmoComp as ac\n",
      "from plot_dmagsMod import plot_dmags as dm\n",
      "import lsst.sims.photUtils.Sed as Sed\n",
      "import lsst.sims.photUtils.Bandpass as Bandpass\n",
      "import lsst.sims.photUtils.photUtils as photUtils\n",
      "\n",
      "import os\n",
      "import numpy\n",
      "import pylab\n",
      "import matplotlib\n",
      "import scipy.integrate\n",
      "\n",
      "% matplotlib inline"
     ],
     "language": "python",
     "metadata": {},
     "outputs": [],
     "prompt_number": 6
    },
    {
     "cell_type": "code",
     "collapsed": false,
     "input": [
      "# Initialize atmo function\n",
      "a = atm()\n",
      "a.readModtranFiles()\n",
      "print a.components\n",
      "print a.wavelength"
     ],
     "language": "python",
     "metadata": {},
     "outputs": [
      {
       "output_type": "stream",
       "stream": "stdout",
       "text": [
        "Found 16 MODTRAN files:\n",
        "Pachon_MODTRAN.10.7sc\n",
        "Pachon_MODTRAN.11.7sc\n",
        "Pachon_MODTRAN.12.7sc\n",
        "Pachon_MODTRAN.13.7sc\n",
        "Pachon_MODTRAN.14.7sc\n",
        "Pachon_MODTRAN.15.7sc\n",
        "Pachon_MODTRAN.16.7sc\n",
        "Pachon_MODTRAN.17.7sc\n",
        "Pachon_MODTRAN.18.7sc"
       ]
      },
      {
       "output_type": "stream",
       "stream": "stdout",
       "text": [
        "\n",
        "Pachon_MODTRAN.19.7sc\n",
        "Pachon_MODTRAN.20.7sc\n",
        "Pachon_MODTRAN.21.7sc\n",
        "Pachon_MODTRAN.22.7sc\n",
        "Pachon_MODTRAN.23.7sc\n",
        "Pachon_MODTRAN.24.7sc\n",
        "Pachon_MODTRAN.25.7sc"
       ]
      },
      {
       "output_type": "stream",
       "stream": "stdout",
       "text": [
        "\n",
        "MODTRAN files have been read.\n",
        "['H2O', 'O2', 'O3', 'Rayleigh', 'Aerosol']\n",
        "[  300.    300.5   301.  ...,  1099.   1099.5  1100. ]\n"
       ]
      }
     ],
     "prompt_number": 7
    },
    {
     "cell_type": "code",
     "collapsed": false,
     "input": [
      "# Generating 7 atmospheres\n",
      "w = a.wavelength\n",
      "atmo1 = a.genAtmo(w,[2.0,0.5,0.5,0.5,0.5,2.0])\n",
      "atmo2 = a.genAtmo(w,[0.5,2.0,0.5,0.5,0.5,2.0])\n",
      "atmo3 = a.genAtmo(w,[0.5,0.5,2.0,0.5,0.5,2.0])\n",
      "atmo4 = a.genAtmo(w,[0.5,0.5,0.5,2.0,0.5,2.0])\n",
      "atmo5 = a.genAtmo(w,[0.5,0.5,0.5,0.5,2.0,2.0])\n",
      "atmo6 = a.genAtmo(w,[0.5,0.5,0.5,0.5,0.5,2.5])\n",
      "atmo7 = a.genAtmo(w,[0.5,0.5,0.5,0.5,0.5,2.0],X=2.0)"
     ],
     "language": "python",
     "metadata": {},
     "outputs": [],
     "prompt_number": 8
    },
    {
     "cell_type": "code",
     "collapsed": false,
     "input": [
      "stdx10 = open('Pachon_MODTRAN.10.7sc','r')\n",
      "components = ('H2O','O2','O3','Rayleigh','Aerosol')\n",
      "\n",
      "wave = []\n",
      "trans = {}\n",
      "\n",
      "def aerosol(w,X,alpha=1.7,aerosolNormCoeff=0.1):\n",
      "    return numpy.e**(-aerosolNormCoeff*X*(550.0/w)*alpha)\n",
      "\n",
      "for comp in components:\n",
      "    trans[comp] = []\n",
      "\n",
      "for lineNum,line in enumerate(stdx10):\n",
      "    lineEle = line.split()\n",
      "    if lineNum<4:\n",
      "        continue\n",
      "    if float(lineEle[0]) < 0.0:\n",
      "        break  \n",
      "    wave.append(float(lineEle[0]))\n",
      "    trans['H2O'].append(float(lineEle[2]))\n",
      "    trans['O2'].append(float(lineEle[3]))\n",
      "    trans['O3'].append(float(lineEle[4]))\n",
      "    trans['Rayleigh'].append(float(lineEle[8]))\n",
      "    trans['Aerosol'].append(aerosol(float(lineEle[0]),1.0))\n",
      "\n",
      "wavelen = numpy.array(wave,dtype='float')\n",
      "trans['H2O'] = numpy.array(trans['H2O'],dtype='float')\n",
      "trans['O2'] = numpy.array(trans['O2'],dtype='float')\n",
      "trans['O3'] = numpy.array(trans['O3'],dtype='float')\n",
      "trans['Rayleigh'] = numpy.array(trans['Rayleigh'],dtype='float')\n",
      "trans['Aerosol'] = numpy.array(trans['Aerosol'],dtype='float')\n",
      "\n",
      "def atmo(w,P,X=1.0,aerosolNormCoeff=0.1):\n",
      "    \"\"\" Returns combined atmospheric transmission given a list of parameters \"\"\"\n",
      "    H2Ocomp = trans['H2O']**P[0]\n",
      "    O2comp = trans['O2']**P[1]\n",
      "    O3comp = trans['O3']**(X*P[2])\n",
      "    rayleighComp = trans['Rayleigh']**(X*P[3])\n",
      "    aerosolComp = aerosol(w,X,alpha=P[5],aerosolNormCoeff=aerosolNormCoeff)**P[4]\n",
      "    return H2Ocomp*O2comp*O3comp*rayleighComp*aerosolComp"
     ],
     "language": "python",
     "metadata": {},
     "outputs": [],
     "prompt_number": 27
    },
    {
     "cell_type": "code",
     "collapsed": false,
     "input": [
      "bp = Bandpass(wavelen_step=0.5)\n",
      "# test = scipy.integrate.quad(atmo(w,[0.5,0.5,0.5,0.5,0.5,1.7]),300,1200)\n",
      "\n",
      "atmo(wavelen,[1.0,1.0,1.0,1.0,1.0,1.7])"
     ],
     "language": "python",
     "metadata": {},
     "outputs": [
      {
       "metadata": {},
       "output_type": "pyout",
       "prompt_number": 28,
       "text": [
        "array([ 0.        ,  0.        ,  0.        , ...,  0.88257336,\n",
        "        0.87583933,  0.87861714])"
       ]
      }
     ],
     "prompt_number": 28
    },
    {
     "cell_type": "code",
     "collapsed": false,
     "input": [],
     "language": "python",
     "metadata": {},
     "outputs": []
    }
   ],
   "metadata": {}
  }
 ]
}