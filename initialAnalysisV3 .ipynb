{
 "metadata": {
  "name": "",
  "signature": "sha256:dd5a5e71529b537760d3b4c06eb11e773bdc9ff37227bf7505f64b4ea35408fe"
 },
 "nbformat": 3,
 "nbformat_minor": 0,
 "worksheets": [
  {
   "cells": [
    {
     "cell_type": "markdown",
     "metadata": {},
     "source": [
      "## Initial Analysis - Constraints on Atmospheric Transmissivity from Stellar Photometry - January 2015\n",
      "\n",
      "This ipython notebook will run through the initial analysis described in section 2.2 of the research paper titled above. Note: This notebook contains LSST stack dependencies and several script imports; this notebook uses the atmoBuilder class contrary to the original initialAnalysis notebook. Furthermore, this notebook will focus on integrating principles from AstroML:  Chapter 8 on linear and nonlinear regressions with log-likelihood functions.\n",
      "\n",
      "Global variables in Sed.py, Bandpass.py must be set to following in order to match MODTRAN data: \n",
      "\n",
      "- WMIN = 300\n",
      "- WMAX = 1100.5\n",
      "- W_STEP = 0.5"
     ]
    },
    {
     "cell_type": "code",
     "collapsed": false,
     "input": [
      "import numpy as np\n"
     ],
     "language": "python",
     "metadata": {},
     "outputs": [],
     "prompt_number": 1
    },
    {
     "cell_type": "code",
     "collapsed": false,
     "input": [],
     "language": "python",
     "metadata": {},
     "outputs": []
    }
   ],
   "metadata": {}
  }
 ]
}