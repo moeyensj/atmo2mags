{
 "metadata": {
  "name": "",
  "signature": "sha256:f716dbe01a164810857c9757b614d25697cdb798204b28cafed77fa0ca251056"
 },
 "nbformat": 3,
 "nbformat_minor": 0,
 "worksheets": [
  {
   "cells": [
    {
     "cell_type": "code",
     "collapsed": false,
     "input": [
      "import numpy as np\n",
      "from matplotlib import pyplot as plt\n",
      "\n",
      "from astroML.datasets import generate_mu_z\n",
      "from astroML.cosmology import Cosmology\n",
      "from astroML.plotting.mcmc import convert_to_stdev\n",
      "from astroML.decorators import pickle_results\n",
      "\n",
      "% matplotlib inline"
     ],
     "language": "python",
     "metadata": {},
     "outputs": [],
     "prompt_number": 17
    },
    {
     "cell_type": "code",
     "collapsed": false,
     "input": [
      "#----------------------------------------------------------------------\n",
      "# This function adjusts matplotlib settings for a uniform feel in the textbook.\n",
      "# Note that with usetex=True, fonts are rendered with LaTeX.  This may\n",
      "# result in an error if LaTeX is not installed on your system.  In that case,\n",
      "# you can set usetex to False.\n",
      "from astroML.plotting import setup_text_plots\n",
      "setup_text_plots(fontsize=8, usetex=True)\n",
      "\n",
      "#------------------------------------------------------------\n",
      "# Generate the data\n",
      "z_sample, mu_sample, dmu = generate_mu_z(100, z0=0.3,\n",
      "                                         dmu_0=0.05, dmu_1=0.004,\n",
      "                                         random_state=1)\n",
      "\n",
      "\n",
      "#------------------------------------------------------------\n",
      "# define a log likelihood in terms of the parameters\n",
      "#  beta = [omegaM, omegaL]\n",
      "def compute_logL(beta):\n",
      "    cosmo = Cosmology(omegaM=beta[0], omegaL=beta[1])\n",
      "    mu_pred = np.array(map(cosmo.mu, z_sample))\n",
      "    return - np.sum(0.5 * ((mu_sample - mu_pred) / dmu) ** 2)\n",
      "\n",
      "\n",
      "#------------------------------------------------------------\n",
      "# Define a function to compute (and save to file) the log-likelihood\n",
      "@pickle_results('mu_z_nonlinear2.pkl')\n",
      "def compute_mu_z_nonlinear(Nbins=20):\n",
      "    omegaM = np.linspace(0.05, 0.75, Nbins)\n",
      "    omegaL = np.linspace(0.4, 1.1, Nbins)\n",
      "\n",
      "    logL = np.empty((Nbins, Nbins))\n",
      "\n",
      "    for i in range(len(omegaM)):\n",
      "        #print '%i / %i' % (i + 1, len(omegaM))\n",
      "        for j in range(len(omegaL)):\n",
      "            logL[i, j] = compute_logL([omegaM[i], omegaL[j]])\n",
      "\n",
      "    return omegaM, omegaL, logL\n",
      "\n",
      "omegaM, omegaL, res = compute_mu_z_nonlinear()\n",
      "res -= np.max(res)\n",
      "\n",
      "#------------------------------------------------------------\n",
      "# Plot the results\n",
      "fig = plt.figure(figsize=(5, 2.5))\n",
      "fig.subplots_adjust(left=0.1, right=0.95, wspace=0.25,\n",
      "                    bottom=0.15, top=0.9)\n",
      "\n",
      "# left plot: the data and best-fit\n",
      "ax = fig.add_subplot(121)\n",
      "whr = np.where(res == np.max(res))\n",
      "omegaM_best = omegaM[whr[0][0]]\n",
      "omegaL_best = omegaL[whr[1][0]]\n",
      "cosmo = Cosmology(omegaM=omegaM_best, omegaL=omegaL_best)\n",
      "\n",
      "z_fit = np.linspace(0.04, 2, 100)\n",
      "mu_fit = np.asarray(map(cosmo.mu, z_fit))\n",
      "\n",
      "ax.plot(z_fit, mu_fit, '-k')\n",
      "ax.errorbar(z_sample, mu_sample, dmu, fmt='.k', ecolor='gray')\n",
      "\n",
      "ax.set_xlim(0, 1.8)\n",
      "ax.set_ylim(36, 46)\n",
      "\n",
      "ax.set_xlabel(r'$z$')\n",
      "ax.set_ylabel(r'$\\mu$')\n",
      "\n",
      "ax.text(0.04, 0.96, \"%i observations\" % len(z_sample),\n",
      "        ha='left', va='top', transform=ax.transAxes)\n",
      "\n",
      "# right plot: the likelihood\n",
      "ax = fig.add_subplot(122)\n",
      "\n",
      "ax.contour(omegaM, omegaL, convert_to_stdev(res.T),\n",
      "           levels=(0.683, 0.955, 0.997),\n",
      "           colors='k')\n",
      "\n",
      "ax.plot([0, 1], [1, 0], '--k')\n",
      "ax.plot([0, 1], [0.73, 0.73], ':k')\n",
      "ax.plot([0.27, 0.27], [0, 2], ':k')\n",
      "\n",
      "ax.set_xlim(0.05, 0.75)\n",
      "ax.set_ylim(0.4, 1.1)\n",
      "\n",
      "ax.set_xlabel(r'$\\Omega_M$')\n",
      "ax.set_ylabel(r'$\\Omega_\\Lambda$')"
     ],
     "language": "python",
     "metadata": {},
     "outputs": [
      {
       "output_type": "stream",
       "stream": "stdout",
       "text": [
        "@pickle_results: computing results and saving to 'mu_z_nonlinear2.pkl'\n"
       ]
      },
      {
       "metadata": {},
       "output_type": "pyout",
       "prompt_number": 18,
       "text": [
        "<matplotlib.text.Text at 0x10b599bd0>"
       ]
      },
      {
       "metadata": {},
       "output_type": "display_data",
       "png": "[encoded data removed]",
       "text": [
        "<matplotlib.figure.Figure at 0x10b3f7f90>"
       ]
      }
     ],
     "prompt_number": 18
    },
    {
     "cell_type": "code",
     "collapsed": false,
     "input": [
      "Cosmology().mu?"
     ],
     "language": "python",
     "metadata": {},
     "outputs": [
      {
       "output_type": "stream",
       "stream": "stdout",
       "text": [
        "Object `mu` not found.\n"
       ]
      }
     ],
     "prompt_number": 7
    },
    {
     "cell_type": "code",
     "collapsed": false,
     "input": [
      "Cosmology().mu"
     ],
     "language": "python",
     "metadata": {},
     "outputs": []
    },
    {
     "cell_type": "code",
     "collapsed": false,
     "input": [
      "cosmo = Cosmology(omegaM=3, omegaL=2)"
     ],
     "language": "python",
     "metadata": {},
     "outputs": [],
     "prompt_number": 10
    },
    {
     "cell_type": "code",
     "collapsed": false,
     "input": [
      "print cosmo.mu(3)"
     ],
     "language": "python",
     "metadata": {},
     "outputs": [
      {
       "output_type": "stream",
       "stream": "stdout",
       "text": [
        "44.5390189688\n"
       ]
      }
     ],
     "prompt_number": 15
    },
    {
     "cell_type": "code",
     "collapsed": false,
     "input": [
      "print cosmo.mu"
     ],
     "language": "python",
     "metadata": {},
     "outputs": []
    },
    {
     "cell_type": "code",
     "collapsed": false,
     "input": [],
     "language": "python",
     "metadata": {},
     "outputs": []
    }
   ],
   "metadata": {}
  }
 ]
}