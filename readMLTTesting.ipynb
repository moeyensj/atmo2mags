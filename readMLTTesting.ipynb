{
 "metadata": {
  "name": "",
  "signature": "sha256:3a698686b6d88c9686b948fcc6899726047885bd87f67b0eb5be21c141274bac"
 },
 "nbformat": 3,
 "nbformat_minor": 0,
 "worksheets": [
  {
   "cells": [
    {
     "cell_type": "code",
     "collapsed": false,
     "input": [
      "import os\n",
      "import lsst.sims.photUtils.Sed as Sed\n",
      "import lsst.sims.photUtils.Bandpass as Bandpass\n",
      "import lsst.sims.photUtils.photUtils as photUtils"
     ],
     "language": "python",
     "metadata": {},
     "outputs": [],
     "prompt_number": 1
    },
    {
     "cell_type": "code",
     "collapsed": false,
     "input": [
      "def read_mlt():\n",
      "    # read mlt stars - only keep 'm's\n",
      "    # find the filenames and mark 'm', 'l', 't' stars separately\n",
      "    homedir = os.getenv(\"SIMS_SED_LIBRARY_DIR\")\n",
      "    mltdir = os.path.join(homedir, \"starSED/mlt/\")\n",
      "    allfilelist = os.listdir(mltdir)\n",
      "    mltlist = []\n",
      "    mlist = []\n",
      "    llist = []\n",
      "    tlist = []\n",
      "    for filename in allfilelist:\n",
      "        if filename.startswith('m'):\n",
      "            mlist.append(filename)\n",
      "        elif filename.startswith('L'):\n",
      "            llist.append(filename)\n",
      "        elif filename.startswith('burrows'):\n",
      "            tlist.append(filename)\n",
      "    mltlist = mlist # + llist + tlist\n",
      "    # read the mlt seds from disk\n",
      "    mlts = {}\n",
      "    for s in mltlist:\n",
      "        mlts[s] = Sed()\n",
      "        mlts[s].readSED_flambda(os.path.join(mltdir, s))\n",
      "    print \"# Read %d mlt stars from %s\" %(len(mltlist), mltdir)\n",
      "    # resample onto the standard bandpass for Bandpass obj's and calculate fnu to speed later calculations\n",
      "    for s in mltlist:\n",
      "        mlts[s].synchronizeSED(wavelen_min=WMIN, wavelen_max=WMAX, wavelen_step=WSTEP)\n",
      "    return mlts, mltlist, mlist, llist, tlist"
     ],
     "language": "python",
     "metadata": {},
     "outputs": [],
     "prompt_number": 2
    },
    {
     "cell_type": "code",
     "collapsed": false,
     "input": [
      "from AtmoBuilder import Atmo"
     ],
     "language": "python",
     "metadata": {},
     "outputs": [
      {
       "output_type": "stream",
       "stream": "stdout",
       "text": [
        "# Read 74 mlt stars from /Users/joachim/lsst/DarwinX86/sims_sed_library/2014.10.06/starSED/mlt/\n"
       ]
      },
      {
       "ename": "NameError",
       "evalue": "global name 'WMIN' is not defined",
       "output_type": "pyerr",
       "traceback": [
        "\u001b[0;31m---------------------------------------------------------------------------\u001b[0m\n\u001b[0;31mNameError\u001b[0m                                 Traceback (most recent call last)",
        "\u001b[0;32m<ipython-input-9-d0c3c31825db>\u001b[0m in \u001b[0;36m<module>\u001b[0;34m()\u001b[0m\n\u001b[0;32m----> 1\u001b[0;31m \u001b[0mread_mlt\u001b[0m\u001b[0;34m(\u001b[0m\u001b[0;34m)\u001b[0m\u001b[0;34m\u001b[0m\u001b[0m\n\u001b[0m",
        "\u001b[0;32m<ipython-input-8-fd384028463e>\u001b[0m in \u001b[0;36mread_mlt\u001b[0;34m()\u001b[0m\n\u001b[1;32m     25\u001b[0m     \u001b[0;31m# resample onto the standard bandpass for Bandpass obj's and calculate fnu to speed later calculations\u001b[0m\u001b[0;34m\u001b[0m\u001b[0;34m\u001b[0m\u001b[0m\n\u001b[1;32m     26\u001b[0m     \u001b[0;32mfor\u001b[0m \u001b[0ms\u001b[0m \u001b[0;32min\u001b[0m \u001b[0mmltlist\u001b[0m\u001b[0;34m:\u001b[0m\u001b[0;34m\u001b[0m\u001b[0m\n\u001b[0;32m---> 27\u001b[0;31m         \u001b[0mmlts\u001b[0m\u001b[0;34m[\u001b[0m\u001b[0ms\u001b[0m\u001b[0;34m]\u001b[0m\u001b[0;34m.\u001b[0m\u001b[0msynchronizeSED\u001b[0m\u001b[0;34m(\u001b[0m\u001b[0mwavelen_min\u001b[0m\u001b[0;34m=\u001b[0m\u001b[0mWMIN\u001b[0m\u001b[0;34m,\u001b[0m \u001b[0mwavelen_max\u001b[0m\u001b[0;34m=\u001b[0m\u001b[0mWMAX\u001b[0m\u001b[0;34m,\u001b[0m \u001b[0mwavelen_step\u001b[0m\u001b[0;34m=\u001b[0m\u001b[0mWSTEP\u001b[0m\u001b[0;34m)\u001b[0m\u001b[0;34m\u001b[0m\u001b[0m\n\u001b[0m\u001b[1;32m     28\u001b[0m     \u001b[0;32mreturn\u001b[0m \u001b[0mmlts\u001b[0m\u001b[0;34m,\u001b[0m \u001b[0mmltlist\u001b[0m\u001b[0;34m,\u001b[0m \u001b[0mmlist\u001b[0m\u001b[0;34m,\u001b[0m \u001b[0mllist\u001b[0m\u001b[0;34m,\u001b[0m \u001b[0mtlist\u001b[0m\u001b[0;34m\u001b[0m\u001b[0m\n",
        "\u001b[0;31mNameError\u001b[0m: global name 'WMIN' is not defined"
       ]
      }
     ],
     "prompt_number": 9
    },
    {
     "cell_type": "code",
     "collapsed": false,
     "input": [],
     "language": "python",
     "metadata": {},
     "outputs": []
    }
   ],
   "metadata": {}
  }
 ]
}