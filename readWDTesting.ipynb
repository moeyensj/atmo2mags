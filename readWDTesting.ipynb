{
 "metadata": {
  "name": "",
  "signature": "sha256:d842ae57150b12fd6c731234553ea6d0da1d78cc533897b696f7a6398922f8df"
 },
 "nbformat": 3,
 "nbformat_minor": 0,
 "worksheets": [
  {
   "cells": [
    {
     "cell_type": "code",
     "collapsed": false,
     "input": [
      "import os"
     ],
     "language": "python",
     "metadata": {},
     "outputs": [],
     "prompt_number": 1
    },
    {
     "cell_type": "code",
     "collapsed": false,
     "input": [
      "homedir = os.getenv(\"SIMS_SED_LIBRARY_DIR\")\n",
      "whitedwarfdir = os.path.join(homedir, \"starSED/wDs/\")\n",
      "\n",
      "allfilelist = os.listdir(whitedwarfdir)"
     ],
     "language": "python",
     "metadata": {},
     "outputs": [],
     "prompt_number": 3
    },
    {
     "cell_type": "code",
     "collapsed": false,
     "input": [
      "test = allfilelist[100]"
     ],
     "language": "python",
     "metadata": {},
     "outputs": [],
     "prompt_number": 14
    },
    {
     "cell_type": "code",
     "collapsed": false,
     "input": [
      "temp = test.split('_')\n",
      "print temp"
     ],
     "language": "python",
     "metadata": {},
     "outputs": [
      {
       "output_type": "stream",
       "stream": "stdout",
       "text": [
        "['bergeron', '13000', '80.dat', '13400.gz']\n"
       ]
      }
     ],
     "prompt_number": 15
    },
    {
     "cell_type": "code",
     "collapsed": false,
     "input": [
      "# read white dwarf bergeron models\n",
      "homedir = os.getenv(\"SIMS_SED_LIBRARY_DIR\")\n",
      "whitedwarfdir = os.path.join(homedir, \"seds/wDs\")\n",
      "\n",
      "allfilelist = os.listdir(whitedwarfdir)\n",
      "hlist = []\n",
      "helist = []\n",
      "temperatures = []\n",
      "loggs = []\n",
      "\n",
      "for filename in allfilelist:\n",
      "    temp = filename.split('_')\n",
      "    if len(temp) == 4: # H dwarfs\n",
      "        temperature = float(tmp[1])\n",
      "        logg = float(tmp[2].split('.')[0])\n",
      "        logg = logg/10.0\n",
      "        if (logg > 7.0) & (temperature>5000):\n",
      "            hlist.append(filename)\n",
      "            temperatures.append(temperature)\n",
      "            loggs.append(logg)\n",
      "            \n",
      "    if len(temp) == 5: # He dwarfs\n",
      "        tmp = filename.split('_')\n",
      "        temperature = float(tmp[2])\n",
      "        logg = float(tmp[3].split('.')[0])\n",
      "        logg = logg/10.0\n",
      "        if (logg > 7.0) & (temperature>5000):\n",
      "            helist.append(filename)                        \n",
      "            temperatures.append(temperature)\n",
      "            loggs.append(logg)\n",
      "\n",
      "temperatures = numpy.array(temperatures)\n",
      "loggs = numpy.array(loggs)\n",
      "wdlist = hlist + helist\n",
      "wds = {}\n",
      "for w in wdlist:\n",
      "    wds[w] = Sed()\n",
      "    if w in hlist:\n",
      "        wds[w].readSED_flambda(os.path.join(whitedwarfdir, w))\n",
      "    if w in helist:\n",
      "        wds[w].readSED_flambda(os.path.join(whitedwarfdir, w))\n",
      "# synchronize seds for faster mag calcs later\n",
      "for w in wdlist:\n",
      "    wds[w].synchronizeSED(wavelen_min=MINWAVELEN, wavelen_max=MAXWAVELEN, wavelen_step=WAVELENSTEP)\n",
      "return wds, wdlist, hlist, helist, temperatures, loggs"
     ],
     "language": "python",
     "metadata": {},
     "outputs": [
      {
       "ename": "OSError",
       "evalue": "[Errno 2] No such file or directory: '/Users/joachim/lsst/DarwinX86/sims_sed_library/2014.10.06/seds/wDs'",
       "output_type": "pyerr",
       "traceback": [
        "\u001b[0;31m---------------------------------------------------------------------------\u001b[0m\n\u001b[0;31mOSError\u001b[0m                                   Traceback (most recent call last)",
        "\u001b[0;32m<ipython-input-16-21d2ce004344>\u001b[0m in \u001b[0;36m<module>\u001b[0;34m()\u001b[0m\n\u001b[1;32m      3\u001b[0m \u001b[0mwhitedwarfdir\u001b[0m \u001b[0;34m=\u001b[0m \u001b[0mos\u001b[0m\u001b[0;34m.\u001b[0m\u001b[0mpath\u001b[0m\u001b[0;34m.\u001b[0m\u001b[0mjoin\u001b[0m\u001b[0;34m(\u001b[0m\u001b[0mhomedir\u001b[0m\u001b[0;34m,\u001b[0m \u001b[0;34m\"seds/wDs\"\u001b[0m\u001b[0;34m)\u001b[0m\u001b[0;34m\u001b[0m\u001b[0m\n\u001b[1;32m      4\u001b[0m \u001b[0;34m\u001b[0m\u001b[0m\n\u001b[0;32m----> 5\u001b[0;31m \u001b[0mallfilelist\u001b[0m \u001b[0;34m=\u001b[0m \u001b[0mos\u001b[0m\u001b[0;34m.\u001b[0m\u001b[0mlistdir\u001b[0m\u001b[0;34m(\u001b[0m\u001b[0mwhitedwarfdir\u001b[0m\u001b[0;34m)\u001b[0m\u001b[0;34m\u001b[0m\u001b[0m\n\u001b[0m\u001b[1;32m      6\u001b[0m \u001b[0mhlist\u001b[0m \u001b[0;34m=\u001b[0m \u001b[0;34m[\u001b[0m\u001b[0;34m]\u001b[0m\u001b[0;34m\u001b[0m\u001b[0m\n\u001b[1;32m      7\u001b[0m \u001b[0mhelist\u001b[0m \u001b[0;34m=\u001b[0m \u001b[0;34m[\u001b[0m\u001b[0;34m]\u001b[0m\u001b[0;34m\u001b[0m\u001b[0m\n",
        "\u001b[0;31mOSError\u001b[0m: [Errno 2] No such file or directory: '/Users/joachim/lsst/DarwinX86/sims_sed_library/2014.10.06/seds/wDs'"
       ]
      }
     ],
     "prompt_number": 16
    },
    {
     "cell_type": "code",
     "collapsed": false,
     "input": [
      "from AtmoBuilder import AtmoBuilder"
     ],
     "language": "python",
     "metadata": {},
     "outputs": [],
     "prompt_number": 1
    },
    {
     "cell_type": "code",
     "collapsed": false,
     "input": [
      "ab = AtmoBuilder()"
     ],
     "language": "python",
     "metadata": {},
     "outputs": [
      {
       "output_type": "stream",
       "stream": "stdout",
       "text": [
        "Found 16 MODTRAN files:\n",
        "Pachon_MODTRAN.10.7sc\n",
        "Pachon_MODTRAN.11.7sc\n",
        "Pachon_MODTRAN.12.7sc\n",
        "Pachon_MODTRAN.13.7sc\n",
        "Pachon_MODTRAN.14.7sc\n",
        "Pachon_MODTRAN.15.7sc\n",
        "Pachon_MODTRAN.16.7sc\n",
        "Pachon_MODTRAN.17.7sc\n",
        "Pachon_MODTRAN.18.7sc"
       ]
      },
      {
       "output_type": "stream",
       "stream": "stdout",
       "text": [
        "\n",
        "Pachon_MODTRAN.19.7sc\n",
        "Pachon_MODTRAN.20.7sc\n",
        "Pachon_MODTRAN.21.7sc\n",
        "Pachon_MODTRAN.22.7sc\n",
        "Pachon_MODTRAN.23.7sc\n",
        "Pachon_MODTRAN.24.7sc\n",
        "Pachon_MODTRAN.25.7sc\n",
        "MODTRAN files have been read."
       ]
      },
      {
       "output_type": "stream",
       "stream": "stdout",
       "text": [
        "\n"
       ]
      }
     ],
     "prompt_number": 2
    },
    {
     "cell_type": "code",
     "collapsed": false,
     "input": [
      "ab.readWhiteDwarf()"
     ],
     "language": "python",
     "metadata": {},
     "outputs": [
      {
       "output_type": "stream",
       "stream": "stdout",
       "text": [
        "# Read 849 white dwarfs from /Users/joachim/lsst/DarwinX86/sims_sed_library/2014.10.06/starSED/wDs/\n"
       ]
      }
     ],
     "prompt_number": 3
    },
    {
     "cell_type": "code",
     "collapsed": false,
     "input": [],
     "language": "python",
     "metadata": {},
     "outputs": []
    }
   ],
   "metadata": {}
  }
 ]
}