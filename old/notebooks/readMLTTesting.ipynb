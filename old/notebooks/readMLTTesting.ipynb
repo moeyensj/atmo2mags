{
 "metadata": {
  "name": "",
  "signature": "sha256:7da83ff227c054075245b98cf64b1d12e6ee32a6dcfb5cc247bab6033b22beb2"
 },
 "nbformat": 3,
 "nbformat_minor": 0,
 "worksheets": [
  {
   "cells": [
    {
     "cell_type": "code",
     "collapsed": false,
     "input": [
      "import os\n",
      "import lsst.sims.photUtils.Sed as Sed\n",
      "import lsst.sims.photUtils.Bandpass as Bandpass\n",
      "import lsst.sims.photUtils.photUtils as photUtils"
     ],
     "language": "python",
     "metadata": {},
     "outputs": [],
     "prompt_number": 1
    },
    {
     "cell_type": "code",
     "collapsed": false,
     "input": [
      "def read_mlt():\n",
      "    # read mlt stars - only keep 'm's\n",
      "    # find the filenames and mark 'm', 'l', 't' stars separately\n",
      "    homedir = os.getenv(\"SIMS_SED_LIBRARY_DIR\")\n",
      "    mltdir = os.path.join(homedir, \"starSED/mlt/\")\n",
      "    allfilelist = os.listdir(mltdir)\n",
      "    mltlist = []\n",
      "    mlist = []\n",
      "    llist = []\n",
      "    tlist = []\n",
      "    for filename in allfilelist:\n",
      "        if filename.startswith('m'):\n",
      "            mlist.append(filename)\n",
      "        elif filename.startswith('L'):\n",
      "            llist.append(filename)\n",
      "        elif filename.startswith('burrows'):\n",
      "            tlist.append(filename)\n",
      "    mltlist = mlist # + llist + tlist\n",
      "    # read the mlt seds from disk\n",
      "    mlts = {}\n",
      "    for s in mltlist:\n",
      "        mlts[s] = Sed()\n",
      "        mlts[s].readSED_flambda(os.path.join(mltdir, s))\n",
      "    print \"# Read %d mlt stars from %s\" %(len(mltlist), mltdir)\n",
      "    # resample onto the standard bandpass for Bandpass obj's and calculate fnu to speed later calculations\n",
      "    for s in mltlist:\n",
      "        mlts[s].synchronizeSED(wavelen_min=WMIN, wavelen_max=WMAX, wavelen_step=WSTEP)\n",
      "    return mlts, mltlist, mlist, llist, tlist"
     ],
     "language": "python",
     "metadata": {},
     "outputs": [],
     "prompt_number": 2
    },
    {
     "cell_type": "code",
     "collapsed": false,
     "input": [
      "from AtmoBuilder import AtmoBuilder"
     ],
     "language": "python",
     "metadata": {},
     "outputs": [],
     "prompt_number": 3
    },
    {
     "cell_type": "code",
     "collapsed": false,
     "input": [
      "ab = AtmoBuilder()"
     ],
     "language": "python",
     "metadata": {},
     "outputs": [
      {
       "output_type": "stream",
       "stream": "stdout",
       "text": [
        "Found 16 MODTRAN files:\n",
        "Pachon_MODTRAN.10.7sc\n",
        "Pachon_MODTRAN.11.7sc\n",
        "Pachon_MODTRAN.12.7sc\n",
        "Pachon_MODTRAN.13.7sc\n",
        "Pachon_MODTRAN.14.7sc\n",
        "Pachon_MODTRAN.15.7sc\n",
        "Pachon_MODTRAN.16.7sc\n",
        "Pachon_MODTRAN.17.7sc"
       ]
      },
      {
       "output_type": "stream",
       "stream": "stdout",
       "text": [
        "\n",
        "Pachon_MODTRAN.18.7sc\n",
        "Pachon_MODTRAN.19.7sc\n",
        "Pachon_MODTRAN.20.7sc\n",
        "Pachon_MODTRAN.21.7sc\n",
        "Pachon_MODTRAN.22.7sc\n",
        "Pachon_MODTRAN.23.7sc\n",
        "Pachon_MODTRAN.24.7sc\n",
        "Pachon_MODTRAN.25.7sc"
       ]
      },
      {
       "output_type": "stream",
       "stream": "stdout",
       "text": [
        "\n",
        "MODTRAN files have been read.\n"
       ]
      }
     ],
     "prompt_number": 4
    },
    {
     "cell_type": "code",
     "collapsed": false,
     "input": [
      "ab.readMLT()"
     ],
     "language": "python",
     "metadata": {},
     "outputs": [
      {
       "output_type": "stream",
       "stream": "stdout",
       "text": [
        "# Read 74 mlt stars from /Users/joachim/lsst/DarwinX86/sims_sed_library/2014.10.06/starSED/mlt/\n"
       ]
      }
     ],
     "prompt_number": 5
    },
    {
     "cell_type": "code",
     "collapsed": false,
     "input": [
      "print ab.mlts"
     ],
     "language": "python",
     "metadata": {},
     "outputs": [
      {
       "output_type": "stream",
       "stream": "stdout",
       "text": [
        "{'m5.4Full.dat.gz': <lsst.sims.photUtils.Sed.Sed object at 0x110336090>, 'm4.7Full.dat.gz': <lsst.sims.photUtils.Sed.Sed object at 0x11031ded0>, 'm5.1Full.dat.gz': <lsst.sims.photUtils.Sed.Sed object at 0x11031df90>, 'm0.1Full.dat.gz': <lsst.sims.photUtils.Sed.Sed object at 0x11031d390>, 'm3.0Full.dat.gz': <lsst.sims.photUtils.Sed.Sed object at 0x11031da10>, 'm5.5Full.dat.gz': <lsst.sims.photUtils.Sed.Sed object at 0x110336110>, 'm5.9Full.dat.gz': <lsst.sims.photUtils.Sed.Sed object at 0x1103361d0>, 'm4.3Full.dat.gz': <lsst.sims.photUtils.Sed.Sed object at 0x11031ddd0>, 'm2.0Full.dat.gz': <lsst.sims.photUtils.Sed.Sed object at 0x11031d710>, 'm7.2Full.dat.gz': <lsst.sims.photUtils.Sed.Sed object at 0x110336550>, 'm5.7Full.dat.gz': <lsst.sims.photUtils.Sed.Sed object at 0x110336190>, 'm3.7Full.dat.gz': <lsst.sims.photUtils.Sed.Sed object at 0x11031db50>, 'm2.5Full.dat.gz': <lsst.sims.photUtils.Sed.Sed object at 0x11031d890>, 'm1.4Full.dat.gz': <lsst.sims.photUtils.Sed.Sed object at 0x11031d6d0>, 'm1.1Full.dat.gz': <lsst.sims.photUtils.Sed.Sed object at 0x11031d610>, 'm0.9Full.dat.gz': <lsst.sims.photUtils.Sed.Sed object at 0x11031d550>, 'm3.1Full.dat.gz': <lsst.sims.photUtils.Sed.Sed object at 0x11031da90>, 'm4.9Full.dat.gz': <lsst.sims.photUtils.Sed.Sed object at 0x11031de50>, 'm4.5Full.dat.gz': <lsst.sims.photUtils.Sed.Sed object at 0x11031dcd0>, 'm0.7Full.dat.gz': <lsst.sims.photUtils.Sed.Sed object at 0x11031d4d0>, 'm4.2Full.dat.gz': <lsst.sims.photUtils.Sed.Sed object at 0x11031dd90>, 'm1.8Full.dat.gz': <lsst.sims.photUtils.Sed.Sed object at 0x11031d790>, 'm5.0Full.dat.gz': <lsst.sims.photUtils.Sed.Sed object at 0x11031df50>, 'm0.4Full.dat.gz': <lsst.sims.photUtils.Sed.Sed object at 0x11031d690>, 'm5.2Full.dat.gz': <lsst.sims.photUtils.Sed.Sed object at 0x11031dfd0>, 'm0.0Full.dat.gz': <lsst.sims.photUtils.Sed.Sed object at 0x11031d310>, 'm6.1Full.dat.gz': <lsst.sims.photUtils.Sed.Sed object at 0x110336250>, 'm3.5Full.dat.gz': <lsst.sims.photUtils.Sed.Sed object at 0x11031dbd0>, 'm1.7Full.dat.gz': <lsst.sims.photUtils.Sed.Sed object at 0x11031d750>, 'm0.3Full.dat.gz': <lsst.sims.photUtils.Sed.Sed object at 0x11031d410>, 'm3.4Full.dat.gz': <lsst.sims.photUtils.Sed.Sed object at 0x11031db90>, 'm1.3Full.dat.gz': <lsst.sims.photUtils.Sed.Sed object at 0x11031d650>, 'm3.2Full.dat.gz': <lsst.sims.photUtils.Sed.Sed object at 0x11031db10>, 'm2.9Full.dat.gz': <lsst.sims.photUtils.Sed.Sed object at 0x11031da50>, 'm2.2Full.dat.gz': <lsst.sims.photUtils.Sed.Sed object at 0x11031d850>, 'm2.4Full.dat.gz': <lsst.sims.photUtils.Sed.Sed object at 0x11031d910>, 'm1.2Full.dat.gz': <lsst.sims.photUtils.Sed.Sed object at 0x11031d5d0>, 'm2.8Full.dat.gz': <lsst.sims.photUtils.Sed.Sed object at 0x11031d990>, 'm7.1Full.dat.gz': <lsst.sims.photUtils.Sed.Sed object at 0x110336510>, 'm2.1Full.dat.gz': <lsst.sims.photUtils.Sed.Sed object at 0x11031d810>, 'm3.8Full.dat.gz': <lsst.sims.photUtils.Sed.Sed object at 0x11031dc90>, 'm1.0Full.dat.gz': <lsst.sims.photUtils.Sed.Sed object at 0x11031d590>, 'm4.6Full.dat.gz': <lsst.sims.photUtils.Sed.Sed object at 0x11031de90>, 'm3.9Full.dat.gz': <lsst.sims.photUtils.Sed.Sed object at 0x11031dc50>, 'm4.4Full.dat.gz': <lsst.sims.photUtils.Sed.Sed object at 0x11031de10>, 'm2.3Full.dat.gz': <lsst.sims.photUtils.Sed.Sed object at 0x11031d8d0>, 'm5.8Full.dat.gz': <lsst.sims.photUtils.Sed.Sed object at 0x110336150>, 'm0.2Full.dat.gz': <lsst.sims.photUtils.Sed.Sed object at 0x11031d3d0>, 'm7.3Full.dat.gz': <lsst.sims.photUtils.Sed.Sed object at 0x1103364d0>, 'm1.6Full.dat.gz': <lsst.sims.photUtils.Sed.Sed object at 0x11031d250>, 'm4.0Full.dat.gz': <lsst.sims.photUtils.Sed.Sed object at 0x11031dd10>, 'm6.2Full.dat.gz': <lsst.sims.photUtils.Sed.Sed object at 0x110336290>, 'm2.7Full.dat.gz': <lsst.sims.photUtils.Sed.Sed object at 0x11031d9d0>, 'm0.5Full.dat.gz': <lsst.sims.photUtils.Sed.Sed object at 0x11031d490>, 'm7.0Full.dat.gz': <lsst.sims.photUtils.Sed.Sed object at 0x110336410>, 'm6.6Full.dat.gz': <lsst.sims.photUtils.Sed.Sed object at 0x110336350>, 'm6.0Full.dat.gz': <lsst.sims.photUtils.Sed.Sed object at 0x110336210>, 'm1.9Full.dat.gz': <lsst.sims.photUtils.Sed.Sed object at 0x11031d7d0>, 'm6.5Full.dat.gz': <lsst.sims.photUtils.Sed.Sed object at 0x110336390>, 'm0.8Full.dat.gz': <lsst.sims.photUtils.Sed.Sed object at 0x11031d510>, 'm5.3Full.dat.gz': <lsst.sims.photUtils.Sed.Sed object at 0x11031d350>, 'm6.9Full.dat.gz': <lsst.sims.photUtils.Sed.Sed object at 0x110336490>, 'm4.1Full.dat.gz': <lsst.sims.photUtils.Sed.Sed object at 0x11031dd50>, 'm3.3Full.dat.gz': <lsst.sims.photUtils.Sed.Sed object at 0x11031dad0>, 'm4.8Full.dat.gz': <lsst.sims.photUtils.Sed.Sed object at 0x11031df10>, 'm1.5Full.dat.gz': <lsst.sims.photUtils.Sed.Sed object at 0x11031d290>, 'm6.7Full.dat.gz': <lsst.sims.photUtils.Sed.Sed object at 0x1103363d0>, 'm0.6Full.dat.gz': <lsst.sims.photUtils.Sed.Sed object at 0x11031d450>, 'm6.4Full.dat.gz': <lsst.sims.photUtils.Sed.Sed object at 0x110336310>, 'm3.6Full.dat.gz': <lsst.sims.photUtils.Sed.Sed object at 0x11031dc10>, 'm6.3Full.dat.gz': <lsst.sims.photUtils.Sed.Sed object at 0x1103362d0>, 'm2.6Full.dat.gz': <lsst.sims.photUtils.Sed.Sed object at 0x11031d950>, 'm6.8Full.dat.gz': <lsst.sims.photUtils.Sed.Sed object at 0x110336450>, 'm5.6Full.dat.gz': <lsst.sims.photUtils.Sed.Sed object at 0x1103360d0>}\n"
       ]
      }
     ],
     "prompt_number": 6
    },
    {
     "cell_type": "code",
     "collapsed": false,
     "input": [],
     "language": "python",
     "metadata": {},
     "outputs": []
    }
   ],
   "metadata": {}
  }
 ]
}