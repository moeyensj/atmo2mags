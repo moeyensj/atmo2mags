{
 "metadata": {
  "name": "",
  "signature": "sha256:6971fc3df499032d15bba06363e913aa8c16b1332852b8b00d7c0d0d9499df4d"
 },
 "nbformat": 3,
 "nbformat_minor": 0,
 "worksheets": [
  {
   "cells": [
    {
     "cell_type": "code",
     "collapsed": false,
     "input": [
      "import os\n",
      "import numpy\n",
      "import lsst.sims.photUtils.Sed as Sed\n",
      "import lsst.sims.photUtils.Bandpass as Bandpass\n",
      "import lsst.sims.photUtils.photUtils as photUtils"
     ],
     "language": "python",
     "metadata": {},
     "outputs": [],
     "prompt_number": 11
    },
    {
     "cell_type": "code",
     "collapsed": false,
     "input": [
      "homedir = os.getenv(\"SIMS_SED_LIBRARY_DIR\")\n",
      "galdir = os.path.join(homedir, \"galaxySED/\")"
     ],
     "language": "python",
     "metadata": {},
     "outputs": [],
     "prompt_number": 12
    },
    {
     "cell_type": "code",
     "collapsed": false,
     "input": [
      "# read sn spectra and redshift\n",
      "allfilelist = os.listdir(galdir)\n",
      "gallist_base = []\n",
      "metal = ['002Z', '04Z', '25Z']\n",
      "gtype = ['Const', 'Inst', 'Burst', 'Exp']\n",
      "redshifts= numpy.arange(0, 1.7, 0.3)\n",
      "# pull out the filenames we want\n",
      "for filename in allfilelist:\n",
      "    if filename.endswith('.spec.gz'):\n",
      "        tmp = filename.split('.')\n",
      "        metallicity = tmp[2]\n",
      "        galaxytype = tmp[0]\n",
      "        if (metallicity in metal) & (galaxytype in gtype):\n",
      "            gallist_base.append(filename)\n",
      "# read base SEDs for these  galaxies\n",
      "gals_base = {}\n",
      "for g in gallist_base:\n",
      "    gals_base[g] = Sed()\n",
      "    gals_base[g].readSED_flambda(os.path.join(galdir, g))\n",
      "# and redshift\n",
      "gals = {}\n",
      "gallist = []\n",
      "for g in gallist_base:\n",
      "    for z in redshifts:\n",
      "        gal_name = \"%s_%.1f\" %(g, z)\n",
      "        wavelen, flambda = gals_base[g].redshiftSED(z, wavelen=gals_base[g].wavelen,\n",
      "                                                    flambda=gals_base[g].flambda)\n",
      "        gals[gal_name] = Sed(wavelen=wavelen, flambda=flambda)\n",
      "        gallist.append(gal_name)\n",
      "print \"# Generated %d galaxies at redshifts between %f and %f\" %(len(gallist),\n",
      "                                                                 redshifts.min(), redshifts.max())\n",
      "# resample onto the standard bandpass for Bandpass obj's and calculate fnu to speed later calculations\n",
      "for g in gallist:\n",
      "    gals[g].synchronizeSED(wavelen_min=WMIN, wavelen_max=WMAX, wavelen_step=WSTEP)\n",
      "# add dust\n",
      "ax, bx = gals[gallist[0]].setupCCMab()\n",
      "for g in gallist:\n",
      "    gals[g].addCCMDust(ax, bx, A_v=0.02)"
     ],
     "language": "python",
     "metadata": {},
     "outputs": [
      {
       "output_type": "stream",
       "stream": "stdout",
       "text": [
        "# Generated 2880 galaxies at redshifts between 0.000000 and 1.500000\n"
       ]
      },
      {
       "ename": "NameError",
       "evalue": "name 'WMIN' is not defined",
       "output_type": "pyerr",
       "traceback": [
        "\u001b[0;31m---------------------------------------------------------------------------\u001b[0m\n\u001b[0;31mNameError\u001b[0m                                 Traceback (most recent call last)",
        "\u001b[0;32m<ipython-input-3-44291005afdf>\u001b[0m in \u001b[0;36m<module>\u001b[0;34m()\u001b[0m\n\u001b[1;32m     32\u001b[0m \u001b[0;31m# resample onto the standard bandpass for Bandpass obj's and calculate fnu to speed later calculations\u001b[0m\u001b[0;34m\u001b[0m\u001b[0;34m\u001b[0m\u001b[0m\n\u001b[1;32m     33\u001b[0m \u001b[0;32mfor\u001b[0m \u001b[0mg\u001b[0m \u001b[0;32min\u001b[0m \u001b[0mgallist\u001b[0m\u001b[0;34m:\u001b[0m\u001b[0;34m\u001b[0m\u001b[0m\n\u001b[0;32m---> 34\u001b[0;31m     \u001b[0mgals\u001b[0m\u001b[0;34m[\u001b[0m\u001b[0mg\u001b[0m\u001b[0;34m]\u001b[0m\u001b[0;34m.\u001b[0m\u001b[0msynchronizeSED\u001b[0m\u001b[0;34m(\u001b[0m\u001b[0mwavelen_min\u001b[0m\u001b[0;34m=\u001b[0m\u001b[0mWMIN\u001b[0m\u001b[0;34m,\u001b[0m \u001b[0mwavelen_max\u001b[0m\u001b[0;34m=\u001b[0m\u001b[0mWMAX\u001b[0m\u001b[0;34m,\u001b[0m \u001b[0mwavelen_step\u001b[0m\u001b[0;34m=\u001b[0m\u001b[0mWSTEP\u001b[0m\u001b[0;34m)\u001b[0m\u001b[0;34m\u001b[0m\u001b[0m\n\u001b[0m\u001b[1;32m     35\u001b[0m \u001b[0;31m# add dust\u001b[0m\u001b[0;34m\u001b[0m\u001b[0;34m\u001b[0m\u001b[0m\n\u001b[1;32m     36\u001b[0m \u001b[0max\u001b[0m\u001b[0;34m,\u001b[0m \u001b[0mbx\u001b[0m \u001b[0;34m=\u001b[0m \u001b[0mgals\u001b[0m\u001b[0;34m[\u001b[0m\u001b[0mgallist\u001b[0m\u001b[0;34m[\u001b[0m\u001b[0;36m0\u001b[0m\u001b[0;34m]\u001b[0m\u001b[0;34m]\u001b[0m\u001b[0;34m.\u001b[0m\u001b[0msetupCCMab\u001b[0m\u001b[0;34m(\u001b[0m\u001b[0;34m)\u001b[0m\u001b[0;34m\u001b[0m\u001b[0m\n",
        "\u001b[0;31mNameError\u001b[0m: name 'WMIN' is not defined"
       ]
      }
     ],
     "prompt_number": 3
    },
    {
     "cell_type": "code",
     "collapsed": false,
     "input": [
      "print allfilelist"
     ],
     "language": "python",
     "metadata": {},
     "outputs": [
      {
       "output_type": "stream",
       "stream": "stdout",
       "text": [
        "['.DS_Store', 'Burst.10E07.0005Z.spec.gz', 'Burst.10E07.002Z.spec.gz', 'Burst.10E07.02Z.spec.gz', 'Burst.10E07.04Z.spec.gz', 'Burst.10E07.1Z.spec.gz', 'Burst.10E07.25Z.spec.gz', 'Burst.10E08.0005Z.spec.gz', 'Burst.10E08.002Z.spec.gz', 'Burst.10E08.02Z.spec.gz', 'Burst.10E08.04Z.spec.gz', 'Burst.10E08.1Z.spec.gz', 'Burst.10E08.25Z.spec.gz', 'Burst.10E09.0005Z.spec.gz', 'Burst.10E09.002Z.spec.gz', 'Burst.10E09.02Z.spec.gz', 'Burst.10E09.04Z.spec.gz', 'Burst.10E09.1Z.spec.gz', 'Burst.10E09.25Z.spec.gz', 'Burst.10E10.0005Z.spec.gz', 'Burst.10E10.002Z.spec.gz', 'Burst.10E10.02Z.spec.gz', 'Burst.10E10.04Z.spec.gz', 'Burst.10E10.1Z.spec.gz', 'Burst.10E10.25Z.spec.gz', 'Burst.12E07.0005Z.spec.gz', 'Burst.12E07.002Z.spec.gz', 'Burst.12E07.02Z.spec.gz', 'Burst.12E07.04Z.spec.gz', 'Burst.12E07.1Z.spec.gz', 'Burst.12E07.25Z.spec.gz', 'Burst.12E08.0005Z.spec.gz', 'Burst.12E08.002Z.spec.gz', 'Burst.12E08.02Z.spec.gz', 'Burst.12E08.04Z.spec.gz', 'Burst.12E08.1Z.spec.gz', 'Burst.12E08.25Z.spec.gz', 'Burst.12E09.0005Z.spec.gz', 'Burst.12E09.002Z.spec.gz', 'Burst.12E09.02Z.spec.gz', 'Burst.12E09.04Z.spec.gz', 'Burst.12E09.1Z.spec.gz', 'Burst.12E09.25Z.spec.gz', 'Burst.12E10.0005Z.spec.gz', 'Burst.12E10.002Z.spec.gz', 'Burst.12E10.02Z.spec.gz', 'Burst.12E10.04Z.spec.gz', 'Burst.12E10.1Z.spec.gz', 'Burst.12E10.25Z.spec.gz', 'Burst.15E06.0005Z.spec.gz', 'Burst.15E06.002Z.spec.gz', 'Burst.15E06.02Z.spec.gz', 'Burst.15E06.04Z.spec.gz', 'Burst.15E06.1Z.spec.gz', 'Burst.15E06.25Z.spec.gz', 'Burst.15E07.0005Z.spec.gz', 'Burst.15E07.002Z.spec.gz', 'Burst.15E07.02Z.spec.gz', 'Burst.15E07.04Z.spec.gz', 'Burst.15E07.1Z.spec.gz', 'Burst.15E07.25Z.spec.gz', 'Burst.16E08.0005Z.spec.gz', 'Burst.16E08.002Z.spec.gz', 'Burst.16E08.02Z.spec.gz', 'Burst.16E08.04Z.spec.gz', 'Burst.16E08.1Z.spec.gz', 'Burst.16E08.25Z.spec.gz', 'Burst.16E09.0005Z.spec.gz', 'Burst.16E09.002Z.spec.gz', 'Burst.16E09.02Z.spec.gz', 'Burst.16E09.04Z.spec.gz', 'Burst.16E09.1Z.spec.gz', 'Burst.16E09.25Z.spec.gz', 'Burst.19E06.0005Z.spec.gz', 'Burst.19E06.002Z.spec.gz', 'Burst.19E06.02Z.spec.gz', 'Burst.19E06.04Z.spec.gz', 'Burst.19E06.1Z.spec.gz', 'Burst.19E06.25Z.spec.gz', 'Burst.19E07.0005Z.spec.gz', 'Burst.19E07.002Z.spec.gz', 'Burst.19E07.02Z.spec.gz', 'Burst.19E07.04Z.spec.gz', 'Burst.19E07.1Z.spec.gz', 'Burst.19E07.25Z.spec.gz', 'Burst.20E08.0005Z.spec.gz', 'Burst.20E08.002Z.spec.gz', 'Burst.20E08.02Z.spec.gz', 'Burst.20E08.04Z.spec.gz', 'Burst.20E08.1Z.spec.gz', 'Burst.20E08.25Z.spec.gz', 'Burst.20E09.0005Z.spec.gz', 'Burst.20E09.002Z.spec.gz', 'Burst.20E09.02Z.spec.gz', 'Burst.20E09.04Z.spec.gz', 'Burst.20E09.1Z.spec.gz', 'Burst.20E09.25Z.spec.gz', 'Burst.25E06.0005Z.spec.gz', 'Burst.25E06.002Z.spec.gz', 'Burst.25E06.02Z.spec.gz', 'Burst.25E06.04Z.spec.gz', 'Burst.25E06.1Z.spec.gz', 'Burst.25E06.25Z.spec.gz', 'Burst.25E07.0005Z.spec.gz', 'Burst.25E07.002Z.spec.gz', 'Burst.25E07.02Z.spec.gz', 'Burst.25E07.04Z.spec.gz', 'Burst.25E07.1Z.spec.gz', 'Burst.25E07.25Z.spec.gz', 'Burst.25E08.0005Z.spec.gz', 'Burst.25E08.002Z.spec.gz', 'Burst.25E08.02Z.spec.gz', 'Burst.25E08.04Z.spec.gz', 'Burst.25E08.1Z.spec.gz', 'Burst.25E08.25Z.spec.gz', 'Burst.25E09.0005Z.spec.gz', 'Burst.25E09.002Z.spec.gz', 'Burst.25E09.02Z.spec.gz', 'Burst.25E09.04Z.spec.gz', 'Burst.25E09.1Z.spec.gz', 'Burst.25E09.25Z.spec.gz', 'Burst.31E06.0005Z.spec.gz', 'Burst.31E06.002Z.spec.gz', 'Burst.31E06.02Z.spec.gz', 'Burst.31E06.04Z.spec.gz', 'Burst.31E06.1Z.spec.gz', 'Burst.31E06.25Z.spec.gz', 'Burst.32E07.0005Z.spec.gz', 'Burst.32E07.002Z.spec.gz', 'Burst.32E07.02Z.spec.gz', 'Burst.32E07.04Z.spec.gz', 'Burst.32E07.1Z.spec.gz', 'Burst.32E07.25Z.spec.gz', 'Burst.32E08.0005Z.spec.gz', 'Burst.32E08.002Z.spec.gz', 'Burst.32E08.02Z.spec.gz', 'Burst.32E08.04Z.spec.gz', 'Burst.32E08.1Z.spec.gz', 'Burst.32E08.25Z.spec.gz', 'Burst.32E09.0005Z.spec.gz', 'Burst.32E09.002Z.spec.gz', 'Burst.32E09.02Z.spec.gz', 'Burst.32E09.04Z.spec.gz', 'Burst.32E09.1Z.spec.gz', 'Burst.32E09.25Z.spec.gz', 'Burst.39E06.0005Z.spec.gz', 'Burst.39E06.002Z.spec.gz', 'Burst.39E06.02Z.spec.gz', 'Burst.39E06.04Z.spec.gz', 'Burst.39E06.1Z.spec.gz', 'Burst.39E06.25Z.spec.gz', 'Burst.40E07.0005Z.spec.gz', 'Burst.40E07.002Z.spec.gz', 'Burst.40E07.02Z.spec.gz', 'Burst.40E07.04Z.spec.gz', 'Burst.40E07.1Z.spec.gz', 'Burst.40E07.25Z.spec.gz', 'Burst.40E08.0005Z.spec.gz', 'Burst.40E08.002Z.spec.gz', 'Burst.40E08.02Z.spec.gz', 'Burst.40E08.04Z.spec.gz', 'Burst.40E08.1Z.spec.gz', 'Burst.40E08.25Z.spec.gz', 'Burst.40E09.0005Z.spec.gz', 'Burst.40E09.002Z.spec.gz', 'Burst.40E09.02Z.spec.gz', 'Burst.40E09.04Z.spec.gz', 'Burst.40E09.1Z.spec.gz', 'Burst.40E09.25Z.spec.gz', 'Burst.50E06.0005Z.spec.gz', 'Burst.50E06.002Z.spec.gz', 'Burst.50E06.02Z.spec.gz', 'Burst.50E06.04Z.spec.gz', 'Burst.50E06.1Z.spec.gz', 'Burst.50E06.25Z.spec.gz', 'Burst.50E07.0005Z.spec.gz', 'Burst.50E07.002Z.spec.gz', 'Burst.50E07.02Z.spec.gz', 'Burst.50E07.04Z.spec.gz', 'Burst.50E07.1Z.spec.gz', 'Burst.50E07.25Z.spec.gz', 'Burst.50E08.0005Z.spec.gz', 'Burst.50E08.002Z.spec.gz', 'Burst.50E08.02Z.spec.gz', 'Burst.50E08.04Z.spec.gz', 'Burst.50E08.1Z.spec.gz', 'Burst.50E08.25Z.spec.gz', 'Burst.50E09.0005Z.spec.gz', 'Burst.50E09.002Z.spec.gz', 'Burst.50E09.02Z.spec.gz', 'Burst.50E09.04Z.spec.gz', 'Burst.50E09.1Z.spec.gz', 'Burst.50E09.25Z.spec.gz', 'Burst.62E09.0005Z.spec.gz', 'Burst.62E09.002Z.spec.gz', 'Burst.62E09.02Z.spec.gz', 'Burst.62E09.04Z.spec.gz', 'Burst.62E09.1Z.spec.gz', 'Burst.62E09.25Z.spec.gz', 'Burst.63E06.0005Z.spec.gz', 'Burst.63E06.002Z.spec.gz', 'Burst.63E06.02Z.spec.gz', 'Burst.63E06.04Z.spec.gz', 'Burst.63E06.1Z.spec.gz', 'Burst.63E06.25Z.spec.gz', 'Burst.64E07.0005Z.spec.gz', 'Burst.64E07.002Z.spec.gz', 'Burst.64E07.02Z.spec.gz', 'Burst.64E07.04Z.spec.gz', 'Burst.64E07.1Z.spec.gz', 'Burst.64E07.25Z.spec.gz', 'Burst.64E08.0005Z.spec.gz', 'Burst.64E08.002Z.spec.gz', 'Burst.64E08.02Z.spec.gz', 'Burst.64E08.04Z.spec.gz', 'Burst.64E08.1Z.spec.gz', 'Burst.64E08.25Z.spec.gz', 'Burst.79E06.0005Z.spec.gz', 'Burst.79E06.002Z.spec.gz', 'Burst.79E06.02Z.spec.gz', 'Burst.79E06.04Z.spec.gz', 'Burst.79E06.1Z.spec.gz', 'Burst.79E06.25Z.spec.gz', 'Burst.80E07.0005Z.spec.gz', 'Burst.80E07.002Z.spec.gz', 'Burst.80E07.02Z.spec.gz', 'Burst.80E07.04Z.spec.gz', 'Burst.80E07.1Z.spec.gz', 'Burst.80E07.25Z.spec.gz', 'Burst.80E08.0005Z.spec.gz', 'Burst.80E08.002Z.spec.gz', 'Burst.80E08.02Z.spec.gz', 'Burst.80E08.04Z.spec.gz', 'Burst.80E08.1Z.spec.gz', 'Burst.80E08.25Z.spec.gz', 'Burst.80E09.0005Z.spec.gz', 'Burst.80E09.002Z.spec.gz', 'Burst.80E09.02Z.spec.gz', 'Burst.80E09.04Z.spec.gz', 'Burst.80E09.1Z.spec.gz', 'Burst.80E09.25Z.spec.gz', 'Const.10E07.0005Z.spec.gz', 'Const.10E07.002Z.spec.gz', 'Const.10E07.02Z.spec.gz', 'Const.10E07.04Z.spec.gz', 'Const.10E07.1Z.spec.gz', 'Const.10E07.25Z.spec.gz', 'Const.10E08.0005Z.spec.gz', 'Const.10E08.002Z.spec.gz', 'Const.10E08.02Z.spec.gz', 'Const.10E08.04Z.spec.gz', 'Const.10E08.1Z.spec.gz', 'Const.10E08.25Z.spec.gz', 'Const.10E09.0005Z.spec.gz', 'Const.10E09.002Z.spec.gz', 'Const.10E09.02Z.spec.gz', 'Const.10E09.04Z.spec.gz', 'Const.10E09.1Z.spec.gz', 'Const.10E09.25Z.spec.gz', 'Const.10E10.0005Z.spec.gz', 'Const.10E10.002Z.spec.gz', 'Const.10E10.02Z.spec.gz', 'Const.10E10.04Z.spec.gz', 'Const.10E10.1Z.spec.gz', 'Const.10E10.25Z.spec.gz', 'Const.12E07.0005Z.spec.gz', 'Const.12E07.002Z.spec.gz', 'Const.12E07.02Z.spec.gz', 'Const.12E07.04Z.spec.gz', 'Const.12E07.1Z.spec.gz', 'Const.12E07.25Z.spec.gz', 'Const.12E08.0005Z.spec.gz', 'Const.12E08.002Z.spec.gz', 'Const.12E08.02Z.spec.gz', 'Const.12E08.04Z.spec.gz', 'Const.12E08.1Z.spec.gz', 'Const.12E08.25Z.spec.gz', 'Const.12E09.0005Z.spec.gz', 'Const.12E09.002Z.spec.gz', 'Const.12E09.02Z.spec.gz', 'Const.12E09.04Z.spec.gz', 'Const.12E09.1Z.spec.gz', 'Const.12E09.25Z.spec.gz', 'Const.12E10.0005Z.spec.gz', 'Const.12E10.002Z.spec.gz', 'Const.12E10.02Z.spec.gz', 'Const.12E10.04Z.spec.gz', 'Const.12E10.1Z.spec.gz', 'Const.12E10.25Z.spec.gz', 'Const.15E06.0005Z.spec.gz', 'Const.15E06.002Z.spec.gz', 'Const.15E06.02Z.spec.gz', 'Const.15E06.04Z.spec.gz', 'Const.15E06.1Z.spec.gz', 'Const.15E06.25Z.spec.gz', 'Const.15E07.0005Z.spec.gz', 'Const.15E07.002Z.spec.gz', 'Const.15E07.02Z.spec.gz', 'Const.15E07.04Z.spec.gz', 'Const.15E07.1Z.spec.gz', 'Const.15E07.25Z.spec.gz', 'Const.16E08.0005Z.spec.gz', 'Const.16E08.002Z.spec.gz', 'Const.16E08.02Z.spec.gz', 'Const.16E08.04Z.spec.gz', 'Const.16E08.1Z.spec.gz', 'Const.16E08.25Z.spec.gz', 'Const.16E09.0005Z.spec.gz', 'Const.16E09.002Z.spec.gz', 'Const.16E09.02Z.spec.gz', 'Const.16E09.04Z.spec.gz', 'Const.16E09.1Z.spec.gz', 'Const.16E09.25Z.spec.gz', 'Const.19E06.0005Z.spec.gz', 'Const.19E06.002Z.spec.gz', 'Const.19E06.02Z.spec.gz', 'Const.19E06.04Z.spec.gz', 'Const.19E06.1Z.spec.gz', 'Const.19E06.25Z.spec.gz', 'Const.19E07.0005Z.spec.gz', 'Const.19E07.002Z.spec.gz', 'Const.19E07.02Z.spec.gz', 'Const.19E07.04Z.spec.gz', 'Const.19E07.1Z.spec.gz', 'Const.19E07.25Z.spec.gz', 'Const.20E08.0005Z.spec.gz', 'Const.20E08.002Z.spec.gz', 'Const.20E08.02Z.spec.gz', 'Const.20E08.04Z.spec.gz', 'Const.20E08.1Z.spec.gz', 'Const.20E08.25Z.spec.gz', 'Const.20E09.0005Z.spec.gz', 'Const.20E09.002Z.spec.gz', 'Const.20E09.02Z.spec.gz', 'Const.20E09.04Z.spec.gz', 'Const.20E09.1Z.spec.gz', 'Const.20E09.25Z.spec.gz', 'Const.25E06.0005Z.spec.gz', 'Const.25E06.002Z.spec.gz', 'Const.25E06.02Z.spec.gz', 'Const.25E06.04Z.spec.gz', 'Const.25E06.1Z.spec.gz', 'Const.25E06.25Z.spec.gz', 'Const.25E07.0005Z.spec.gz', 'Const.25E07.002Z.spec.gz', 'Const.25E07.02Z.spec.gz', 'Const.25E07.04Z.spec.gz', 'Const.25E07.1Z.spec.gz', 'Const.25E07.25Z.spec.gz', 'Const.25E08.0005Z.spec.gz', 'Const.25E08.002Z.spec.gz', 'Const.25E08.02Z.spec.gz', 'Const.25E08.04Z.spec.gz', 'Const.25E08.1Z.spec.gz', 'Const.25E08.25Z.spec.gz', 'Const.25E09.0005Z.spec.gz', 'Const.25E09.002Z.spec.gz', 'Const.25E09.02Z.spec.gz', 'Const.25E09.04Z.spec.gz', 'Const.25E09.1Z.spec.gz', 'Const.25E09.25Z.spec.gz', 'Const.31E06.0005Z.spec.gz', 'Const.31E06.002Z.spec.gz', 'Const.31E06.02Z.spec.gz', 'Const.31E06.04Z.spec.gz', 'Const.31E06.1Z.spec.gz', 'Const.31E06.25Z.spec.gz', 'Const.32E07.0005Z.spec.gz', 'Const.32E07.002Z.spec.gz', 'Const.32E07.02Z.spec.gz', 'Const.32E07.04Z.spec.gz', 'Const.32E07.1Z.spec.gz', 'Const.32E07.25Z.spec.gz', 'Const.32E08.0005Z.spec.gz', 'Const.32E08.002Z.spec.gz', 'Const.32E08.02Z.spec.gz', 'Const.32E08.04Z.spec.gz', 'Const.32E08.1Z.spec.gz', 'Const.32E08.25Z.spec.gz', 'Const.32E09.0005Z.spec.gz', 'Const.32E09.002Z.spec.gz', 'Const.32E09.02Z.spec.gz', 'Const.32E09.04Z.spec.gz', 'Const.32E09.1Z.spec.gz', 'Const.32E09.25Z.spec.gz', 'Const.39E06.0005Z.spec.gz', 'Const.39E06.002Z.spec.gz', 'Const.39E06.02Z.spec.gz', 'Const.39E06.04Z.spec.gz', 'Const.39E06.1Z.spec.gz', 'Const.39E06.25Z.spec.gz', 'Const.40E07.0005Z.spec.gz', 'Const.40E07.002Z.spec.gz', 'Const.40E07.02Z.spec.gz', 'Const.40E07.04Z.spec.gz', 'Const.40E07.1Z.spec.gz', 'Const.40E07.25Z.spec.gz', 'Const.40E08.0005Z.spec.gz', 'Const.40E08.002Z.spec.gz', 'Const.40E08.02Z.spec.gz', 'Const.40E08.04Z.spec.gz', 'Const.40E08.1Z.spec.gz', 'Const.40E08.25Z.spec.gz', 'Const.40E09.0005Z.spec.gz', 'Const.40E09.002Z.spec.gz', 'Const.40E09.02Z.spec.gz', 'Const.40E09.04Z.spec.gz', 'Const.40E09.1Z.spec.gz', 'Const.40E09.25Z.spec.gz', 'Const.50E06.0005Z.spec.gz', 'Const.50E06.002Z.spec.gz', 'Const.50E06.02Z.spec.gz', 'Const.50E06.04Z.spec.gz', 'Const.50E06.1Z.spec.gz', 'Const.50E06.25Z.spec.gz', 'Const.50E07.0005Z.spec.gz', 'Const.50E07.002Z.spec.gz', 'Const.50E07.02Z.spec.gz', 'Const.50E07.04Z.spec.gz', 'Const.50E07.1Z.spec.gz', 'Const.50E07.25Z.spec.gz', 'Const.50E08.0005Z.spec.gz', 'Const.50E08.002Z.spec.gz', 'Const.50E08.02Z.spec.gz', 'Const.50E08.04Z.spec.gz', 'Const.50E08.1Z.spec.gz', 'Const.50E08.25Z.spec.gz', 'Const.50E09.0005Z.spec.gz', 'Const.50E09.002Z.spec.gz', 'Const.50E09.02Z.spec.gz', 'Const.50E09.04Z.spec.gz', 'Const.50E09.1Z.spec.gz', 'Const.50E09.25Z.spec.gz', 'Const.62E09.0005Z.spec.gz', 'Const.62E09.002Z.spec.gz', 'Const.62E09.02Z.spec.gz', 'Const.62E09.04Z.spec.gz', 'Const.62E09.1Z.spec.gz', 'Const.62E09.25Z.spec.gz', 'Const.63E06.0005Z.spec.gz', 'Const.63E06.002Z.spec.gz', 'Const.63E06.02Z.spec.gz', 'Const.63E06.04Z.spec.gz', 'Const.63E06.1Z.spec.gz', 'Const.63E06.25Z.spec.gz', 'Const.64E07.0005Z.spec.gz', 'Const.64E07.002Z.spec.gz', 'Const.64E07.02Z.spec.gz', 'Const.64E07.04Z.spec.gz', 'Const.64E07.1Z.spec.gz', 'Const.64E07.25Z.spec.gz', 'Const.64E08.0005Z.spec.gz', 'Const.64E08.002Z.spec.gz', 'Const.64E08.02Z.spec.gz', 'Const.64E08.04Z.spec.gz', 'Const.64E08.1Z.spec.gz', 'Const.64E08.25Z.spec.gz', 'Const.79E06.0005Z.spec.gz', 'Const.79E06.002Z.spec.gz', 'Const.79E06.02Z.spec.gz', 'Const.79E06.04Z.spec.gz', 'Const.79E06.1Z.spec.gz', 'Const.79E06.25Z.spec.gz', 'Const.80E07.0005Z.spec.gz', 'Const.80E07.002Z.spec.gz', 'Const.80E07.02Z.spec.gz', 'Const.80E07.04Z.spec.gz', 'Const.80E07.1Z.spec.gz', 'Const.80E07.25Z.spec.gz', 'Const.80E08.0005Z.spec.gz', 'Const.80E08.002Z.spec.gz', 'Const.80E08.02Z.spec.gz', 'Const.80E08.04Z.spec.gz', 'Const.80E08.1Z.spec.gz', 'Const.80E08.25Z.spec.gz', 'Const.80E09.0005Z.spec.gz', 'Const.80E09.002Z.spec.gz', 'Const.80E09.02Z.spec.gz', 'Const.80E09.04Z.spec.gz', 'Const.80E09.1Z.spec.gz', 'Const.80E09.25Z.spec.gz', 'Exp.10E07.0005Z.spec.gz', 'Exp.10E07.002Z.spec.gz', 'Exp.10E07.02Z.spec.gz', 'Exp.10E07.04Z.spec.gz', 'Exp.10E07.1Z.spec.gz', 'Exp.10E07.25Z.spec.gz', 'Exp.10E08.0005Z.spec.gz', 'Exp.10E08.002Z.spec.gz', 'Exp.10E08.02Z.spec.gz', 'Exp.10E08.04Z.spec.gz', 'Exp.10E08.1Z.spec.gz', 'Exp.10E08.25Z.spec.gz', 'Exp.10E09.0005Z.spec.gz', 'Exp.10E09.002Z.spec.gz', 'Exp.10E09.02Z.spec.gz', 'Exp.10E09.04Z.spec.gz', 'Exp.10E09.1Z.spec.gz', 'Exp.10E09.25Z.spec.gz', 'Exp.10E10.0005Z.spec.gz', 'Exp.10E10.002Z.spec.gz', 'Exp.10E10.02Z.spec.gz', 'Exp.10E10.04Z.spec.gz', 'Exp.10E10.1Z.spec.gz', 'Exp.10E10.25Z.spec.gz', 'Exp.12E07.0005Z.spec.gz', 'Exp.12E07.002Z.spec.gz', 'Exp.12E07.02Z.spec.gz', 'Exp.12E07.04Z.spec.gz', 'Exp.12E07.1Z.spec.gz', 'Exp.12E07.25Z.spec.gz', 'Exp.12E08.0005Z.spec.gz', 'Exp.12E08.002Z.spec.gz', 'Exp.12E08.02Z.spec.gz', 'Exp.12E08.04Z.spec.gz', 'Exp.12E08.1Z.spec.gz', 'Exp.12E08.25Z.spec.gz', 'Exp.12E09.0005Z.spec.gz', 'Exp.12E09.002Z.spec.gz', 'Exp.12E09.02Z.spec.gz', 'Exp.12E09.04Z.spec.gz', 'Exp.12E09.1Z.spec.gz', 'Exp.12E09.25Z.spec.gz', 'Exp.12E10.0005Z.spec.gz', 'Exp.12E10.002Z.spec.gz', 'Exp.12E10.02Z.spec.gz', 'Exp.12E10.04Z.spec.gz', 'Exp.12E10.1Z.spec.gz', 'Exp.12E10.25Z.spec.gz', 'Exp.15E06.0005Z.spec.gz', 'Exp.15E06.002Z.spec.gz', 'Exp.15E06.02Z.spec.gz', 'Exp.15E06.04Z.spec.gz', 'Exp.15E06.1Z.spec.gz', 'Exp.15E06.25Z.spec.gz', 'Exp.15E07.0005Z.spec.gz', 'Exp.15E07.002Z.spec.gz', 'Exp.15E07.02Z.spec.gz', 'Exp.15E07.04Z.spec.gz', 'Exp.15E07.1Z.spec.gz', 'Exp.15E07.25Z.spec.gz', 'Exp.16E08.0005Z.spec.gz', 'Exp.16E08.002Z.spec.gz', 'Exp.16E08.02Z.spec.gz', 'Exp.16E08.04Z.spec.gz', 'Exp.16E08.1Z.spec.gz', 'Exp.16E08.25Z.spec.gz', 'Exp.16E09.0005Z.spec.gz', 'Exp.16E09.002Z.spec.gz', 'Exp.16E09.02Z.spec.gz', 'Exp.16E09.04Z.spec.gz', 'Exp.16E09.1Z.spec.gz', 'Exp.16E09.25Z.spec.gz', 'Exp.19E06.0005Z.spec.gz', 'Exp.19E06.002Z.spec.gz', 'Exp.19E06.02Z.spec.gz', 'Exp.19E06.04Z.spec.gz', 'Exp.19E06.1Z.spec.gz', 'Exp.19E06.25Z.spec.gz', 'Exp.19E07.0005Z.spec.gz', 'Exp.19E07.002Z.spec.gz', 'Exp.19E07.02Z.spec.gz', 'Exp.19E07.04Z.spec.gz', 'Exp.19E07.1Z.spec.gz', 'Exp.19E07.25Z.spec.gz', 'Exp.20E08.0005Z.spec.gz', 'Exp.20E08.002Z.spec.gz', 'Exp.20E08.02Z.spec.gz', 'Exp.20E08.04Z.spec.gz', 'Exp.20E08.1Z.spec.gz', 'Exp.20E08.25Z.spec.gz', 'Exp.20E09.0005Z.spec.gz', 'Exp.20E09.002Z.spec.gz', 'Exp.20E09.02Z.spec.gz', 'Exp.20E09.04Z.spec.gz', 'Exp.20E09.1Z.spec.gz', 'Exp.20E09.25Z.spec.gz', 'Exp.25E06.0005Z.spec.gz', 'Exp.25E06.002Z.spec.gz', 'Exp.25E06.02Z.spec.gz', 'Exp.25E06.04Z.spec.gz', 'Exp.25E06.1Z.spec.gz', 'Exp.25E06.25Z.spec.gz', 'Exp.25E07.0005Z.spec.gz', 'Exp.25E07.002Z.spec.gz', 'Exp.25E07.02Z.spec.gz', 'Exp.25E07.04Z.spec.gz', 'Exp.25E07.1Z.spec.gz', 'Exp.25E07.25Z.spec.gz', 'Exp.25E08.0005Z.spec.gz', 'Exp.25E08.002Z.spec.gz', 'Exp.25E08.02Z.spec.gz', 'Exp.25E08.04Z.spec.gz', 'Exp.25E08.1Z.spec.gz', 'Exp.25E08.25Z.spec.gz', 'Exp.25E09.0005Z.spec.gz', 'Exp.25E09.002Z.spec.gz', 'Exp.25E09.02Z.spec.gz', 'Exp.25E09.04Z.spec.gz', 'Exp.25E09.1Z.spec.gz', 'Exp.25E09.25Z.spec.gz', 'Exp.31E06.0005Z.spec.gz', 'Exp.31E06.002Z.spec.gz', 'Exp.31E06.02Z.spec.gz', 'Exp.31E06.04Z.spec.gz', 'Exp.31E06.1Z.spec.gz', 'Exp.31E06.25Z.spec.gz', 'Exp.32E07.0005Z.spec.gz', 'Exp.32E07.002Z.spec.gz', 'Exp.32E07.02Z.spec.gz', 'Exp.32E07.04Z.spec.gz', 'Exp.32E07.1Z.spec.gz', 'Exp.32E07.25Z.spec.gz', 'Exp.32E08.0005Z.spec.gz', 'Exp.32E08.002Z.spec.gz', 'Exp.32E08.02Z.spec.gz', 'Exp.32E08.04Z.spec.gz', 'Exp.32E08.1Z.spec.gz', 'Exp.32E08.25Z.spec.gz', 'Exp.32E09.0005Z.spec.gz', 'Exp.32E09.002Z.spec.gz', 'Exp.32E09.02Z.spec.gz', 'Exp.32E09.04Z.spec.gz', 'Exp.32E09.1Z.spec.gz', 'Exp.32E09.25Z.spec.gz', 'Exp.39E06.0005Z.spec.gz', 'Exp.39E06.002Z.spec.gz', 'Exp.39E06.02Z.spec.gz', 'Exp.39E06.04Z.spec.gz', 'Exp.39E06.1Z.spec.gz', 'Exp.39E06.25Z.spec.gz', 'Exp.40E07.0005Z.spec.gz', 'Exp.40E07.002Z.spec.gz', 'Exp.40E07.02Z.spec.gz', 'Exp.40E07.04Z.spec.gz', 'Exp.40E07.1Z.spec.gz', 'Exp.40E07.25Z.spec.gz', 'Exp.40E08.0005Z.spec.gz', 'Exp.40E08.002Z.spec.gz', 'Exp.40E08.02Z.spec.gz', 'Exp.40E08.04Z.spec.gz', 'Exp.40E08.1Z.spec.gz', 'Exp.40E08.25Z.spec.gz', 'Exp.40E09.0005Z.spec.gz', 'Exp.40E09.002Z.spec.gz', 'Exp.40E09.02Z.spec.gz', 'Exp.40E09.04Z.spec.gz', 'Exp.40E09.1Z.spec.gz', 'Exp.40E09.25Z.spec.gz', 'Exp.50E06.0005Z.spec.gz', 'Exp.50E06.002Z.spec.gz', 'Exp.50E06.02Z.spec.gz', 'Exp.50E06.04Z.spec.gz', 'Exp.50E06.1Z.spec.gz', 'Exp.50E06.25Z.spec.gz', 'Exp.50E07.0005Z.spec.gz', 'Exp.50E07.002Z.spec.gz', 'Exp.50E07.02Z.spec.gz', 'Exp.50E07.04Z.spec.gz', 'Exp.50E07.1Z.spec.gz', 'Exp.50E07.25Z.spec.gz', 'Exp.50E08.0005Z.spec.gz', 'Exp.50E08.002Z.spec.gz', 'Exp.50E08.02Z.spec.gz', 'Exp.50E08.04Z.spec.gz', 'Exp.50E08.1Z.spec.gz', 'Exp.50E08.25Z.spec.gz', 'Exp.50E09.0005Z.spec.gz', 'Exp.50E09.002Z.spec.gz', 'Exp.50E09.02Z.spec.gz', 'Exp.50E09.04Z.spec.gz', 'Exp.50E09.1Z.spec.gz', 'Exp.50E09.25Z.spec.gz', 'Exp.62E09.0005Z.spec.gz', 'Exp.62E09.002Z.spec.gz', 'Exp.62E09.02Z.spec.gz', 'Exp.62E09.04Z.spec.gz', 'Exp.62E09.1Z.spec.gz', 'Exp.62E09.25Z.spec.gz', 'Exp.63E06.0005Z.spec.gz', 'Exp.63E06.002Z.spec.gz', 'Exp.63E06.02Z.spec.gz', 'Exp.63E06.04Z.spec.gz', 'Exp.63E06.1Z.spec.gz', 'Exp.63E06.25Z.spec.gz', 'Exp.64E07.0005Z.spec.gz', 'Exp.64E07.002Z.spec.gz', 'Exp.64E07.02Z.spec.gz', 'Exp.64E07.04Z.spec.gz', 'Exp.64E07.1Z.spec.gz', 'Exp.64E07.25Z.spec.gz', 'Exp.64E08.0005Z.spec.gz', 'Exp.64E08.002Z.spec.gz', 'Exp.64E08.02Z.spec.gz', 'Exp.64E08.04Z.spec.gz', 'Exp.64E08.1Z.spec.gz', 'Exp.64E08.25Z.spec.gz', 'Exp.79E06.0005Z.spec.gz', 'Exp.79E06.002Z.spec.gz', 'Exp.79E06.02Z.spec.gz', 'Exp.79E06.04Z.spec.gz', 'Exp.79E06.1Z.spec.gz', 'Exp.79E06.25Z.spec.gz', 'Exp.80E07.0005Z.spec.gz', 'Exp.80E07.002Z.spec.gz', 'Exp.80E07.02Z.spec.gz', 'Exp.80E07.04Z.spec.gz', 'Exp.80E07.1Z.spec.gz', 'Exp.80E07.25Z.spec.gz', 'Exp.80E08.0005Z.spec.gz', 'Exp.80E08.002Z.spec.gz', 'Exp.80E08.02Z.spec.gz', 'Exp.80E08.04Z.spec.gz', 'Exp.80E08.1Z.spec.gz', 'Exp.80E08.25Z.spec.gz', 'Exp.80E09.0005Z.spec.gz', 'Exp.80E09.002Z.spec.gz', 'Exp.80E09.02Z.spec.gz', 'Exp.80E09.04Z.spec.gz', 'Exp.80E09.1Z.spec.gz', 'Exp.80E09.25Z.spec.gz', 'Inst.10E07.0005Z.spec.gz', 'Inst.10E07.002Z.spec.gz', 'Inst.10E07.02Z.spec.gz', 'Inst.10E07.04Z.spec.gz', 'Inst.10E07.1Z.spec.gz', 'Inst.10E07.25Z.spec.gz', 'Inst.10E08.0005Z.spec.gz', 'Inst.10E08.002Z.spec.gz', 'Inst.10E08.02Z.spec.gz', 'Inst.10E08.04Z.spec.gz', 'Inst.10E08.1Z.spec.gz', 'Inst.10E08.25Z.spec.gz', 'Inst.10E09.0005Z.spec.gz', 'Inst.10E09.002Z.spec.gz', 'Inst.10E09.02Z.spec.gz', 'Inst.10E09.04Z.spec.gz', 'Inst.10E09.1Z.spec.gz', 'Inst.10E09.25Z.spec.gz', 'Inst.10E10.0005Z.spec.gz', 'Inst.10E10.002Z.spec.gz', 'Inst.10E10.02Z.spec.gz', 'Inst.10E10.04Z.spec.gz', 'Inst.10E10.1Z.spec.gz', 'Inst.10E10.25Z.spec.gz', 'Inst.12E07.0005Z.spec.gz', 'Inst.12E07.002Z.spec.gz', 'Inst.12E07.02Z.spec.gz', 'Inst.12E07.04Z.spec.gz', 'Inst.12E07.1Z.spec.gz', 'Inst.12E07.25Z.spec.gz', 'Inst.12E08.0005Z.spec.gz', 'Inst.12E08.002Z.spec.gz', 'Inst.12E08.02Z.spec.gz', 'Inst.12E08.04Z.spec.gz', 'Inst.12E08.1Z.spec.gz', 'Inst.12E08.25Z.spec.gz', 'Inst.12E09.0005Z.spec.gz', 'Inst.12E09.002Z.spec.gz', 'Inst.12E09.02Z.spec.gz', 'Inst.12E09.04Z.spec.gz', 'Inst.12E09.1Z.spec.gz', 'Inst.12E09.25Z.spec.gz', 'Inst.12E10.0005Z.spec.gz', 'Inst.12E10.002Z.spec.gz', 'Inst.12E10.02Z.spec.gz', 'Inst.12E10.04Z.spec.gz', 'Inst.12E10.1Z.spec.gz', 'Inst.12E10.25Z.spec.gz', 'Inst.15E06.0005Z.spec.gz', 'Inst.15E06.002Z.spec.gz', 'Inst.15E06.02Z.spec.gz', 'Inst.15E06.04Z.spec.gz', 'Inst.15E06.1Z.spec.gz', 'Inst.15E06.25Z.spec.gz', 'Inst.15E07.0005Z.spec.gz', 'Inst.15E07.002Z.spec.gz', 'Inst.15E07.02Z.spec.gz', 'Inst.15E07.04Z.spec.gz', 'Inst.15E07.1Z.spec.gz', 'Inst.15E07.25Z.spec.gz', 'Inst.16E08.0005Z.spec.gz', 'Inst.16E08.002Z.spec.gz', 'Inst.16E08.02Z.spec.gz', 'Inst.16E08.04Z.spec.gz', 'Inst.16E08.1Z.spec.gz', 'Inst.16E08.25Z.spec.gz', 'Inst.16E09.0005Z.spec.gz', 'Inst.16E09.002Z.spec.gz', 'Inst.16E09.02Z.spec.gz', 'Inst.16E09.04Z.spec.gz', 'Inst.16E09.1Z.spec.gz', 'Inst.16E09.25Z.spec.gz', 'Inst.19E06.0005Z.spec.gz', 'Inst.19E06.002Z.spec.gz', 'Inst.19E06.02Z.spec.gz', 'Inst.19E06.04Z.spec.gz', 'Inst.19E06.1Z.spec.gz', 'Inst.19E06.25Z.spec.gz', 'Inst.19E07.0005Z.spec.gz', 'Inst.19E07.002Z.spec.gz', 'Inst.19E07.02Z.spec.gz', 'Inst.19E07.04Z.spec.gz', 'Inst.19E07.1Z.spec.gz', 'Inst.19E07.25Z.spec.gz', 'Inst.20E08.0005Z.spec.gz', 'Inst.20E08.002Z.spec.gz', 'Inst.20E08.02Z.spec.gz', 'Inst.20E08.04Z.spec.gz', 'Inst.20E08.1Z.spec.gz', 'Inst.20E08.25Z.spec.gz', 'Inst.20E09.0005Z.spec.gz', 'Inst.20E09.002Z.spec.gz', 'Inst.20E09.02Z.spec.gz', 'Inst.20E09.04Z.spec.gz', 'Inst.20E09.1Z.spec.gz', 'Inst.20E09.25Z.spec.gz', 'Inst.25E06.0005Z.spec.gz', 'Inst.25E06.002Z.spec.gz', 'Inst.25E06.02Z.spec.gz', 'Inst.25E06.04Z.spec.gz', 'Inst.25E06.1Z.spec.gz', 'Inst.25E06.25Z.spec.gz', 'Inst.25E07.0005Z.spec.gz', 'Inst.25E07.002Z.spec.gz', 'Inst.25E07.02Z.spec.gz', 'Inst.25E07.04Z.spec.gz', 'Inst.25E07.1Z.spec.gz', 'Inst.25E07.25Z.spec.gz', 'Inst.25E08.0005Z.spec.gz', 'Inst.25E08.002Z.spec.gz', 'Inst.25E08.02Z.spec.gz', 'Inst.25E08.04Z.spec.gz', 'Inst.25E08.1Z.spec.gz', 'Inst.25E08.25Z.spec.gz', 'Inst.25E09.0005Z.spec.gz', 'Inst.25E09.002Z.spec.gz', 'Inst.25E09.02Z.spec.gz', 'Inst.25E09.04Z.spec.gz', 'Inst.25E09.1Z.spec.gz', 'Inst.25E09.25Z.spec.gz', 'Inst.31E06.0005Z.spec.gz', 'Inst.31E06.002Z.spec.gz', 'Inst.31E06.02Z.spec.gz', 'Inst.31E06.04Z.spec.gz', 'Inst.31E06.1Z.spec.gz', 'Inst.31E06.25Z.spec.gz', 'Inst.32E07.0005Z.spec.gz', 'Inst.32E07.002Z.spec.gz', 'Inst.32E07.02Z.spec.gz', 'Inst.32E07.04Z.spec.gz', 'Inst.32E07.1Z.spec.gz', 'Inst.32E07.25Z.spec.gz', 'Inst.32E08.0005Z.spec.gz', 'Inst.32E08.002Z.spec.gz', 'Inst.32E08.02Z.spec.gz', 'Inst.32E08.04Z.spec.gz', 'Inst.32E08.1Z.spec.gz', 'Inst.32E08.25Z.spec.gz', 'Inst.32E09.0005Z.spec.gz', 'Inst.32E09.002Z.spec.gz', 'Inst.32E09.02Z.spec.gz', 'Inst.32E09.04Z.spec.gz', 'Inst.32E09.1Z.spec.gz', 'Inst.32E09.25Z.spec.gz', 'Inst.39E06.0005Z.spec.gz', 'Inst.39E06.002Z.spec.gz', 'Inst.39E06.02Z.spec.gz', 'Inst.39E06.04Z.spec.gz', 'Inst.39E06.1Z.spec.gz', 'Inst.39E06.25Z.spec.gz', 'Inst.40E07.0005Z.spec.gz', 'Inst.40E07.002Z.spec.gz', 'Inst.40E07.02Z.spec.gz', 'Inst.40E07.04Z.spec.gz', 'Inst.40E07.1Z.spec.gz', 'Inst.40E07.25Z.spec.gz', 'Inst.40E08.0005Z.spec.gz', 'Inst.40E08.002Z.spec.gz', 'Inst.40E08.02Z.spec.gz', 'Inst.40E08.04Z.spec.gz', 'Inst.40E08.1Z.spec.gz', 'Inst.40E08.25Z.spec.gz', 'Inst.40E09.0005Z.spec.gz', 'Inst.40E09.002Z.spec.gz', 'Inst.40E09.02Z.spec.gz', 'Inst.40E09.04Z.spec.gz', 'Inst.40E09.1Z.spec.gz', 'Inst.40E09.25Z.spec.gz', 'Inst.50E06.0005Z.spec.gz', 'Inst.50E06.002Z.spec.gz', 'Inst.50E06.02Z.spec.gz', 'Inst.50E06.04Z.spec.gz', 'Inst.50E06.1Z.spec.gz', 'Inst.50E06.25Z.spec.gz', 'Inst.50E07.0005Z.spec.gz', 'Inst.50E07.002Z.spec.gz', 'Inst.50E07.02Z.spec.gz', 'Inst.50E07.04Z.spec.gz', 'Inst.50E07.1Z.spec.gz', 'Inst.50E07.25Z.spec.gz', 'Inst.50E08.0005Z.spec.gz', 'Inst.50E08.002Z.spec.gz', 'Inst.50E08.02Z.spec.gz', 'Inst.50E08.04Z.spec.gz', 'Inst.50E08.1Z.spec.gz', 'Inst.50E08.25Z.spec.gz', 'Inst.50E09.0005Z.spec.gz', 'Inst.50E09.002Z.spec.gz', 'Inst.50E09.02Z.spec.gz', 'Inst.50E09.04Z.spec.gz', 'Inst.50E09.1Z.spec.gz', 'Inst.50E09.25Z.spec.gz', 'Inst.62E09.0005Z.spec.gz', 'Inst.62E09.002Z.spec.gz', 'Inst.62E09.02Z.spec.gz', 'Inst.62E09.04Z.spec.gz', 'Inst.62E09.1Z.spec.gz', 'Inst.62E09.25Z.spec.gz', 'Inst.63E06.0005Z.spec.gz', 'Inst.63E06.002Z.spec.gz', 'Inst.63E06.02Z.spec.gz', 'Inst.63E06.04Z.spec.gz', 'Inst.63E06.1Z.spec.gz', 'Inst.63E06.25Z.spec.gz', 'Inst.64E07.0005Z.spec.gz', 'Inst.64E07.002Z.spec.gz', 'Inst.64E07.02Z.spec.gz', 'Inst.64E07.04Z.spec.gz', 'Inst.64E07.1Z.spec.gz', 'Inst.64E07.25Z.spec.gz', 'Inst.64E08.0005Z.spec.gz', 'Inst.64E08.002Z.spec.gz', 'Inst.64E08.02Z.spec.gz', 'Inst.64E08.04Z.spec.gz', 'Inst.64E08.1Z.spec.gz', 'Inst.64E08.25Z.spec.gz', 'Inst.79E06.0005Z.spec.gz', 'Inst.79E06.002Z.spec.gz', 'Inst.79E06.02Z.spec.gz', 'Inst.79E06.04Z.spec.gz', 'Inst.79E06.1Z.spec.gz', 'Inst.79E06.25Z.spec.gz', 'Inst.80E07.0005Z.spec.gz', 'Inst.80E07.002Z.spec.gz', 'Inst.80E07.02Z.spec.gz', 'Inst.80E07.04Z.spec.gz', 'Inst.80E07.1Z.spec.gz', 'Inst.80E07.25Z.spec.gz', 'Inst.80E08.0005Z.spec.gz', 'Inst.80E08.002Z.spec.gz', 'Inst.80E08.02Z.spec.gz', 'Inst.80E08.04Z.spec.gz', 'Inst.80E08.1Z.spec.gz', 'Inst.80E08.25Z.spec.gz', 'Inst.80E09.0005Z.spec.gz', 'Inst.80E09.002Z.spec.gz', 'Inst.80E09.02Z.spec.gz', 'Inst.80E09.04Z.spec.gz', 'Inst.80E09.1Z.spec.gz', 'Inst.80E09.25Z.spec.gz']\n"
       ]
      }
     ],
     "prompt_number": 4
    },
    {
     "cell_type": "code",
     "collapsed": false,
     "input": [
      "from AtmoBuilder import AtmoBuilder"
     ],
     "language": "python",
     "metadata": {},
     "outputs": [],
     "prompt_number": 14
    },
    {
     "cell_type": "code",
     "collapsed": false,
     "input": [
      "ab = AtmoBuilder()"
     ],
     "language": "python",
     "metadata": {},
     "outputs": [
      {
       "output_type": "stream",
       "stream": "stdout",
       "text": [
        "Found 16 MODTRAN files:\n",
        "Pachon_MODTRAN.10.7sc\n",
        "Pachon_MODTRAN.11.7sc\n",
        "Pachon_MODTRAN.12.7sc\n",
        "Pachon_MODTRAN.13.7sc\n",
        "Pachon_MODTRAN.14.7sc\n",
        "Pachon_MODTRAN.15.7sc\n",
        "Pachon_MODTRAN.16.7sc\n",
        "Pachon_MODTRAN.17.7sc\n",
        "Pachon_MODTRAN.18.7sc"
       ]
      },
      {
       "output_type": "stream",
       "stream": "stdout",
       "text": [
        "\n",
        "Pachon_MODTRAN.19.7sc\n",
        "Pachon_MODTRAN.20.7sc\n",
        "Pachon_MODTRAN.21.7sc\n",
        "Pachon_MODTRAN.22.7sc\n",
        "Pachon_MODTRAN.23.7sc\n",
        "Pachon_MODTRAN.24.7sc\n",
        "Pachon_MODTRAN.25.7sc"
       ]
      },
      {
       "output_type": "stream",
       "stream": "stdout",
       "text": [
        "\n",
        "MODTRAN files have been read.\n"
       ]
      }
     ],
     "prompt_number": 15
    },
    {
     "cell_type": "code",
     "collapsed": false,
     "input": [
      "ab.readGalaxies()"
     ],
     "language": "python",
     "metadata": {},
     "outputs": [
      {
       "output_type": "stream",
       "stream": "stdout",
       "text": [
        "# Generated 2880 galaxies at redshifts between 0.000000 and 1.500000\n"
       ]
      }
     ],
     "prompt_number": 16
    },
    {
     "cell_type": "code",
     "collapsed": false,
     "input": [
      "print ab.galredshifts"
     ],
     "language": "python",
     "metadata": {},
     "outputs": [
      {
       "output_type": "stream",
       "stream": "stdout",
       "text": [
        "[ 0.   0.3  0.6  0.9  1.2  1.5]\n"
       ]
      }
     ],
     "prompt_number": 17
    },
    {
     "cell_type": "code",
     "collapsed": false,
     "input": [],
     "language": "python",
     "metadata": {},
     "outputs": []
    }
   ],
   "metadata": {}
  }
 ]
}