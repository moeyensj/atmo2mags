{
 "metadata": {
  "name": ""
 },
 "nbformat": 3,
 "nbformat_minor": 0,
 "worksheets": [
  {
   "cells": [
    {
     "cell_type": "code",
     "collapsed": false,
     "input": [
      "# General\n",
      "from AtmoCompMod import AtmoComp as ac\n",
      "from plot_dmagsMod import plot_dmags as dm\n",
      "import lsst.sims.photUtils\n",
      "import lsst.sims.coordUtils"
     ],
     "language": "python",
     "metadata": {},
     "outputs": [],
     "prompt_number": 1
    },
    {
     "cell_type": "code",
     "collapsed": false,
     "input": [
      "# Specific (trivial if parent class works)\n",
      "import lsst.sims.photUtils.Sed as Sed\n",
      "import lsst.sims.photUtils.Bandpass as Bandpass"
     ],
     "language": "python",
     "metadata": {},
     "outputs": [],
     "prompt_number": 2
    },
    {
     "cell_type": "code",
     "collapsed": false,
     "input": [],
     "language": "python",
     "metadata": {},
     "outputs": []
    }
   ],
   "metadata": {}
  }
 ]
}