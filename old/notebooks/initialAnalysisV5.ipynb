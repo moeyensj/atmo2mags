{
 "cells": [
  {
   "cell_type": "markdown",
   "metadata": {},
   "source": [
    "## Initial Analysis - Constraints on Atmospheric Transmissivity from Stellar Photometry - May/June 2015\n",
    "\n",
    "This ipython notebook will run through the initial analysis described in section 2.2 of the research paper titled above. Note: This notebook contains LSST stack dependencies and several script imports; this notebook uses the atmoBuilder class contrary to the original initialAnalysis notebook. Furthermore, this notebook will focus on integrating principles from AstroML:  Chapter 8 on linear and nonlinear regressions with log-likelihood functions.\n",
    "\n",
    "Requires the following to be sourced / setup with eups:\n",
    "- setup sims_photUtils -t sims\n",
    "- setup sims_sed_library -t sims\n",
    "\n",
    "Requires astroML to be installed"
   ]
  },
  {
   "cell_type": "markdown",
   "metadata": {},
   "source": [
    "Regression Types:\n",
    "- [$H_2O$ and $O_2$](#$H_2O$-and-$O_2$:)\n",
    "- [$O_2$ and $O_3$](#$O_2$-and-$O_3$:)\n",
    "- [Rayleigh and Aerosol](#Rayleigh-and-Aerosol:)\n",
    "- [Rayleigh and Alpha](#Rayleigh-and-Alpha:)\n",
    "- [Aerosol and Alpha](#Aerosol-and-Alpha:)"
   ]
  },
  {
   "cell_type": "code",
   "execution_count": null,
   "metadata": {
    "collapsed": true
   },
   "outputs": [],
   "source": [
    "from AtmoBuilder import AtmoBuilder\n",
    "\n",
    "% matplotlib inline"
   ]
  },
  {
   "cell_type": "code",
   "execution_count": null,
   "metadata": {
    "collapsed": false
   },
   "outputs": [],
   "source": [
    "ab = AtmoBuilder()"
   ]
  },
  {
   "cell_type": "code",
   "execution_count": null,
   "metadata": {
    "collapsed": false
   },
   "outputs": [],
   "source": [
    "ab.readAll()"
   ]
  },
  {
   "cell_type": "code",
   "execution_count": null,
   "metadata": {
    "collapsed": false
   },
   "outputs": [],
   "source": [
    "atmo_H2O = ab.buildAtmo([2.5,1.0,1.0,1.0,1.0,1.7],1.4)\n",
    "ab.transPlot(atmo_H2O, includeStdAtmo=True)"
   ]
  },
  {
   "cell_type": "code",
   "execution_count": null,
   "metadata": {
    "collapsed": false
   },
   "outputs": [],
   "source": [
    "atmo_O2 = ab.buildAtmo([1.0,2.5,1.0,1.0,1.0,1.7],1.4)\n",
    "ab.transPlot(atmo_O2, includeStdAtmo=True)"
   ]
  },
  {
   "cell_type": "code",
   "execution_count": null,
   "metadata": {
    "collapsed": false
   },
   "outputs": [],
   "source": [
    "atmo_O3 = ab.buildAtmo([1.0,1.0,2.5,1.0,1.0,1.7],1.4)\n",
    "ab.transPlot(atmo_O3, includeStdAtmo=True)"
   ]
  },
  {
   "cell_type": "code",
   "execution_count": null,
   "metadata": {
    "collapsed": false
   },
   "outputs": [],
   "source": [
    "atmo_Rayleigh = ab.buildAtmo([1.0,1.0,1.0,2.5,1.0,1.7],1.4)\n",
    "ab.transPlot(atmo_Rayleigh, includeStdAtmo=True)"
   ]
  },
  {
   "cell_type": "code",
   "execution_count": null,
   "metadata": {
    "collapsed": false
   },
   "outputs": [],
   "source": [
    "atmo_Aerosol = ab.buildAtmo([1.0,1.0,1.0,1.0,2.5,1.7],1.4)\n",
    "ab.transPlot(atmo_Aerosol, includeStdAtmo=True)"
   ]
  },
  {
   "cell_type": "code",
   "execution_count": null,
   "metadata": {
    "collapsed": false
   },
   "outputs": [],
   "source": [
    "atmo_Alpha = ab.buildAtmo([1.0,1.0,1.0,1.0,1.0,2.2],1.4)\n",
    "ab.transPlot(atmo_Alpha, includeStdAtmo=True)"
   ]
  },
  {
   "cell_type": "markdown",
   "metadata": {
    "collapsed": true
   },
   "source": [
    "### $H_2O$ and $O_2$:"
   ]
  },
  {
   "cell_type": "code",
   "execution_count": null,
   "metadata": {
    "collapsed": false,
    "scrolled": false
   },
   "outputs": [],
   "source": [
    "atmo = ab.buildAtmo([1.5,0.5,1.0,1.0,1.0,1.7],1.4)\n",
    "ab.computeAtmoFit('H2O','O2',atmo)"
   ]
  },
  {
   "cell_type": "code",
   "execution_count": null,
   "metadata": {
    "collapsed": false,
    "scrolled": false
   },
   "outputs": [],
   "source": [
    "atmo = ab.buildAtmo([0.5,1.5,1.0,1.0,1.0,1.7],1.4)\n",
    "ab.computeAtmoFit('H2O','O2',atmo)"
   ]
  },
  {
   "cell_type": "markdown",
   "metadata": {
    "collapsed": true
   },
   "source": [
    "### $O_2$ and $O_3$:"
   ]
  },
  {
   "cell_type": "code",
   "execution_count": null,
   "metadata": {
    "collapsed": false,
    "scrolled": false
   },
   "outputs": [],
   "source": [
    "atmo = ab.buildAtmo([1.0,1.5,0.5,1.0,1.0,1.7],1.4)\n",
    "ab.computeAtmoFit('O2','O3',atmo)"
   ]
  },
  {
   "cell_type": "code",
   "execution_count": null,
   "metadata": {
    "collapsed": false,
    "scrolled": false
   },
   "outputs": [],
   "source": [
    "atmo = ab.buildAtmo([1.0,0.5,1.5,1.0,1.0,1.7],1.4)\n",
    "ab.computeAtmoFit('O2','O3',atmo)"
   ]
  },
  {
   "cell_type": "markdown",
   "metadata": {},
   "source": [
    "### Rayleigh and Aerosol:"
   ]
  },
  {
   "cell_type": "code",
   "execution_count": null,
   "metadata": {
    "collapsed": false,
    "scrolled": false
   },
   "outputs": [],
   "source": [
    "atmo = ab.buildAtmo([1.0,1.0,1.0,1.5,0.5,1.7],1.4)\n",
    "ab.computeAtmoFit('Rayleigh','Aerosol',atmo)"
   ]
  },
  {
   "cell_type": "code",
   "execution_count": null,
   "metadata": {
    "collapsed": false,
    "scrolled": false
   },
   "outputs": [],
   "source": [
    "atmo = ab.buildAtmo([1.0,1.0,1.0,0.5,1.5,1.7],1.4)\n",
    "ab.computeAtmoFit('Rayleigh','Aerosol',atmo)"
   ]
  },
  {
   "cell_type": "markdown",
   "metadata": {},
   "source": [
    "### Rayleigh and Alpha:"
   ]
  },
  {
   "cell_type": "code",
   "execution_count": null,
   "metadata": {
    "collapsed": false,
    "scrolled": false
   },
   "outputs": [],
   "source": [
    "atmo = ab.buildAtmo([1.0,1.0,1.0,0.5,1.0,2.2],1.4)\n",
    "ab.computeAtmoFit('Rayleigh','Alpha',atmo)"
   ]
  },
  {
   "cell_type": "code",
   "execution_count": null,
   "metadata": {
    "collapsed": false,
    "scrolled": false
   },
   "outputs": [],
   "source": [
    "atmo = ab.buildAtmo([1.0,1.0,1.0,1.5,1.0,1.2],1.4)\n",
    "ab.computeAtmoFit('Rayleigh','Alpha',atmo)"
   ]
  },
  {
   "cell_type": "markdown",
   "metadata": {},
   "source": [
    "### Aerosol and Alpha:"
   ]
  },
  {
   "cell_type": "code",
   "execution_count": null,
   "metadata": {
    "collapsed": false,
    "scrolled": false
   },
   "outputs": [],
   "source": [
    "atmo = ab.buildAtmo([1.0,1.0,1.0,1.0,1.5,1.2],1.4)\n",
    "ab.computeAtmoFit('Alpha','Aerosol',atmo)"
   ]
  },
  {
   "cell_type": "code",
   "execution_count": null,
   "metadata": {
    "collapsed": false,
    "scrolled": false
   },
   "outputs": [],
   "source": [
    "atmo = ab.buildAtmo([1.0,1.0,1.0,1.0,0.5,2.2],1.4)\n",
    "ab.computeAtmoFit('Alpha','Aerosol',atmo)"
   ]
  },
  {
   "cell_type": "code",
   "execution_count": null,
   "metadata": {
    "collapsed": false,
    "scrolled": false
   },
   "outputs": [],
   "source": [
    "atmo = ab.buildAtmo([1.0,1.0,1.0,1.0,0.5,2.2],1.4)\n",
    "ab.computeAtmoFit('Alpha','Aerosol',atmo)"
   ]
  },
  {
   "cell_type": "code",
   "execution_count": null,
   "metadata": {
    "collapsed": false,
    "scrolled": false
   },
   "outputs": [],
   "source": [
    "ab.computeAtmoFit('Alpha','Aerosol',atmo,deltaGrey=20.0)"
   ]
  },
  {
   "cell_type": "code",
   "execution_count": null,
   "metadata": {
    "collapsed": false,
    "scrolled": false
   },
   "outputs": [],
   "source": [
    "ab.computeAtmoFit('Alpha','Aerosol',atmo,deltaGrey=40.0)"
   ]
  },
  {
   "cell_type": "code",
   "execution_count": null,
   "metadata": {
    "collapsed": false,
    "scrolled": false
   },
   "outputs": [],
   "source": [
    "ab.computeAtmoFit('Alpha','Aerosol',atmo,deltaGrey=100.0)"
   ]
  },
  {
   "cell_type": "code",
   "execution_count": null,
   "metadata": {
    "collapsed": false,
    "scrolled": false
   },
   "outputs": [],
   "source": [
    "ab.computeAtmoFit('Alpha','Aerosol',atmo,deltaGrey=500.0)"
   ]
  },
  {
   "cell_type": "code",
   "execution_count": null,
   "metadata": {
    "collapsed": false,
    "scrolled": false
   },
   "outputs": [],
   "source": [
    "ab.computeAtmoFit('Alpha','Aerosol',atmo,deltaGrey=-1.0)"
   ]
  },
  {
   "cell_type": "code",
   "execution_count": null,
   "metadata": {
    "collapsed": false,
    "scrolled": false
   },
   "outputs": [],
   "source": [
    "atmo = ab.buildAtmo([1.0,1.0,1.0,1.0,0.5,2.2],1.4)\n",
    "ab.computeAtmoFit('Alpha','Aerosol',atmo,deltaGrey=30.0, pickleString='dGTEST')"
   ]
  },
  {
   "cell_type": "code",
   "execution_count": null,
   "metadata": {
    "collapsed": false,
    "scrolled": false
   },
   "outputs": [],
   "source": [
    "atmo = ab.buildAtmo([1.0,1.0,1.0,1.0,1.1,3.2],1.4)\n",
    "ab.computeAtmoFit('Alpha','Aerosol',atmo,deltaGrey=30.0, pickleString='dGTEST2')"
   ]
  },
  {
   "cell_type": "code",
   "execution_count": null,
   "metadata": {
    "collapsed": true
   },
   "outputs": [],
   "source": []
  }
 ],
 "metadata": {
  "kernelspec": {
   "display_name": "Python 2",
   "language": "python",
   "name": "python2"
  },
  "language_info": {
   "codemirror_mode": {
    "name": "ipython",
    "version": 2
   },
   "file_extension": ".py",
   "mimetype": "text/x-python",
   "name": "python",
   "nbconvert_exporter": "python",
   "pygments_lexer": "ipython2",
   "version": "2.7.10"
  }
 },
 "nbformat": 4,
 "nbformat_minor": 0
}
