{
 "cells": [
  {
   "cell_type": "code",
   "execution_count": 1,
   "metadata": {
    "collapsed": true
   },
   "outputs": [],
   "source": [
    "global_max = 5.0\n",
    "global_min = 0.2\n",
    "airmass = 2.0\n",
    "deltaGrey_obs = 12.0"
   ]
  },
  {
   "cell_type": "code",
   "execution_count": 2,
   "metadata": {
    "collapsed": false
   },
   "outputs": [],
   "source": [
    "from AtmoBuilder import AtmoBuilder\n",
    "\n",
    "import numpy as np\n",
    "import matplotlib.pyplot as plt\n",
    "import copy\n",
    "\n",
    "% matplotlib inline"
   ]
  },
  {
   "cell_type": "code",
   "execution_count": 3,
   "metadata": {
    "collapsed": false
   },
   "outputs": [
    {
     "name": "stdout",
     "output_type": "stream",
     "text": [
      "Found 16 MODTRAN files:\n",
      "Pachon_MODTRAN.10.7sc\n",
      "Pachon_MODTRAN.11.7sc\n",
      "Pachon_MODTRAN.12.7sc\n",
      "Pachon_MODTRAN.13.7sc\n",
      "Pachon_MODTRAN.14.7sc\n",
      "Pachon_MODTRAN.15.7sc\n",
      "Pachon_MODTRAN.16.7sc\n",
      "Pachon_MODTRAN.17.7sc\n",
      "Pachon_MODTRAN.18.7sc\n",
      "Pachon_MODTRAN.19.7sc\n",
      "Pachon_MODTRAN.20.7sc\n",
      "Pachon_MODTRAN.21.7sc\n",
      "Pachon_MODTRAN.22.7sc\n",
      "Pachon_MODTRAN.23.7sc\n",
      "Pachon_MODTRAN.24.7sc\n",
      "Pachon_MODTRAN.25.7sc\n",
      "MODTRAN files have been read.\n",
      "\n",
      "Read filter data from LSST software stack.\n",
      "Filters: ['u', 'g', 'r', 'i', 'z', 'y4']\n",
      "Read hardware data from LSST software stack.\n"
     ]
    }
   ],
   "source": [
    "ab = AtmoBuilder()"
   ]
  },
  {
   "cell_type": "code",
   "execution_count": 4,
   "metadata": {
    "collapsed": false
   },
   "outputs": [
    {
     "name": "stdout",
     "output_type": "stream",
     "text": [
      "# Read 988 MS stars from /Users/joachim/lsst/DarwinX86/sims_sed_library/2014.10.06/starSED/kurucz/\n",
      "# Read 849 white dwarfs from /Users/joachim/lsst/DarwinX86/sims_sed_library/2014.10.06/starSED/wDs/\n",
      "# Read 74 mlt stars from /Users/joachim/lsst/DarwinX86/sims_sed_library/2014.10.06/starSED/mlt/\n",
      "# Generated 2520 galaxies at redshifts between 0.000000 and 3.000000\n",
      "# Generated 76 quasars at redshifts between 0.000000 and 7.500000\n",
      "# Generated 39 sn's at redshifts between 0.000000 and 1.200000 on days ['0', '20', '40']\n"
     ]
    }
   ],
   "source": [
    "ab.readAll()"
   ]
  },
  {
   "cell_type": "code",
   "execution_count": null,
   "metadata": {
    "collapsed": true
   },
   "outputs": [],
   "source": [
    "def deltaGreyLimitPlot(comp, minp=global_min, maxp=global_max, deltaGrey=deltaGrey_obs, \n",
    "                       deltaGreyRange=[-20.0,20.0], err=5.0, componentBins=50, deltaGreyBins=51, regressionSed='mss'):\n",
    "    \n",
    "    prange, pnum = ab._componentCheck(comp,20)\n",
    "    \n",
    "    max_p = copy.deepcopy(ab.parameters)\n",
    "    min_p = copy.deepcopy(ab.parameters)\n",
    "    max_p[pnum] = maxp\n",
    "    min_p[pnum] = minp\n",
    "    \n",
    "    atmo_max = ab.buildAtmo(max_p, airmass)\n",
    "    atmo_min = ab.buildAtmo(min_p, airmass)\n",
    "    \n",
    "    name_max = 'max_dGTest'\n",
    "    name_min = 'min_dGTest'\n",
    "    \n",
    "    ab.computeDeltaGreyFit(comp, deltaGrey, atmo_max, deltaGreyRange=deltaGreyRange, componentBins=componentBins, \n",
    "                           deltaGreyBins=deltaGreyBins, regressionSed=regressionSed, pickleString=name_max)\n",
    "    ab.computeDeltaGreyFit(comp, deltaGrey, atmo_min, deltaGreyRange=deltaGreyRange, componentBins=componentBins, \n",
    "                           deltaGreyBins=deltaGreyBins, regressionSed=regressionSed, pickleString=name_min)\n",
    "    return    "
   ]
  },
  {
   "cell_type": "markdown",
   "metadata": {},
   "source": [
    "## Components:\n",
    "- [$H_20$](#$H_2O$)\n",
    "- [$O_2$](#$O_2$)\n",
    "- [$O_3$](#$O_3$)\n",
    "- [Rayleigh](#Rayleigh)\n",
    "- [Aerosol](#Aerosol)\n",
    "- [Alpha](#Alpha)"
   ]
  },
  {
   "cell_type": "markdown",
   "metadata": {},
   "source": [
    "### $H_2O$"
   ]
  },
  {
   "cell_type": "code",
   "execution_count": null,
   "metadata": {
    "collapsed": false,
    "scrolled": false
   },
   "outputs": [
    {
     "name": "stdout",
     "output_type": "stream",
     "text": [
      "Computing nonlinear regression for H2O.\n",
      "Observed atmosphere parameters: [5.0, 1.0, 1.0, 1.0, 1.0, 1.7]\n",
      "Observed atmosphere airmass:    2.0\n",
      "Standard atmosphere parameters: [1.0, 1.0, 1.0, 1.0, 1.0, 1.7]\n",
      "Standard atmosphere airmass:    1.2\n",
      "Observed atmosphere parameter for H2O: 5.0\n",
      "\n",
      "Fitting for H2O between 0.20 and 5.00 in 50 bins.\n",
      "\n",
      "Fitting for deltaGrey between -20.00 and 20.00 mmags in 51 bins.\n",
      "\n",
      "Regressing 2550 parameter combinations per filter...\n",
      "\n",
      "Calculating best fit parameters for u filter...\n",
      "@pickle_results: computing results and saving to 'pickles/X20_P501010101017_H2O_dG_XSTD12_DG120_DGR-2020_E5_mss_u_51dgb_50b_max_dGTest.pkl'\n",
      "Saved LogL at best fit deltaGrey for u filter."
     ]
    }
   ],
   "source": [
    "deltaGreyLimitPlot('H2O')"
   ]
  },
  {
   "cell_type": "code",
   "execution_count": null,
   "metadata": {
    "collapsed": false,
    "scrolled": false
   },
   "outputs": [],
   "source": [
    "deltaGreyLimitPlot('H2O',deltaGreyBins=50)"
   ]
  },
  {
   "cell_type": "markdown",
   "metadata": {},
   "source": [
    "### $O_2$"
   ]
  },
  {
   "cell_type": "code",
   "execution_count": null,
   "metadata": {
    "collapsed": false
   },
   "outputs": [],
   "source": [
    "deltaGreyLimitPlot('O2')"
   ]
  },
  {
   "cell_type": "code",
   "execution_count": null,
   "metadata": {
    "collapsed": false
   },
   "outputs": [],
   "source": [
    "deltaGreyLimitPlot('O2',deltaGreyBins=50)"
   ]
  },
  {
   "cell_type": "markdown",
   "metadata": {},
   "source": [
    "### $O_3$"
   ]
  },
  {
   "cell_type": "code",
   "execution_count": null,
   "metadata": {
    "collapsed": false
   },
   "outputs": [],
   "source": [
    "deltaGreyLimitPlot('O3')"
   ]
  },
  {
   "cell_type": "code",
   "execution_count": null,
   "metadata": {
    "collapsed": false
   },
   "outputs": [],
   "source": [
    "deltaGreyLimitPlot('O3',deltaGreyBins=50)"
   ]
  },
  {
   "cell_type": "markdown",
   "metadata": {},
   "source": [
    "### Rayleigh"
   ]
  },
  {
   "cell_type": "code",
   "execution_count": null,
   "metadata": {
    "collapsed": false
   },
   "outputs": [],
   "source": [
    "deltaGreyLimitPlot('Rayleigh')"
   ]
  },
  {
   "cell_type": "code",
   "execution_count": null,
   "metadata": {
    "collapsed": false
   },
   "outputs": [],
   "source": [
    "deltaGreyLimitPlot('Rayleigh',deltaGreyBins=50)"
   ]
  },
  {
   "cell_type": "markdown",
   "metadata": {},
   "source": [
    "### Aerosol"
   ]
  },
  {
   "cell_type": "code",
   "execution_count": null,
   "metadata": {
    "collapsed": false
   },
   "outputs": [],
   "source": [
    "deltaGreyLimitPlot('Aerosol')"
   ]
  },
  {
   "cell_type": "code",
   "execution_count": null,
   "metadata": {
    "collapsed": false
   },
   "outputs": [],
   "source": [
    "deltaGreyLimitPlot('Aerosol',deltaGreyBins=50)"
   ]
  },
  {
   "cell_type": "markdown",
   "metadata": {},
   "source": [
    "### Alpha"
   ]
  },
  {
   "cell_type": "code",
   "execution_count": null,
   "metadata": {
    "collapsed": false
   },
   "outputs": [],
   "source": [
    "deltaGreyLimitPlot('Alpha')"
   ]
  },
  {
   "cell_type": "code",
   "execution_count": null,
   "metadata": {
    "collapsed": false
   },
   "outputs": [],
   "source": [
    "deltaGreyLimitPlot('Alpha',deltaGreyBins=50)"
   ]
  },
  {
   "cell_type": "code",
   "execution_count": null,
   "metadata": {
    "collapsed": false
   },
   "outputs": [],
   "source": []
  }
 ],
 "metadata": {
  "kernelspec": {
   "display_name": "Python 2",
   "language": "python",
   "name": "python2"
  },
  "language_info": {
   "codemirror_mode": {
    "name": "ipython",
    "version": 2
   },
   "file_extension": ".py",
   "mimetype": "text/x-python",
   "name": "python",
   "nbconvert_exporter": "python",
   "pygments_lexer": "ipython2",
   "version": "2.7.10"
  }
 },
 "nbformat": 4,
 "nbformat_minor": 0
}
