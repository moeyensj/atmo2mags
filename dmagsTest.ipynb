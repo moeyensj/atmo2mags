{
 "metadata": {
  "name": ""
 },
 "nbformat": 3,
 "nbformat_minor": 0,
 "worksheets": [
  {
   "cells": [
    {
     "cell_type": "code",
     "collapsed": false,
     "input": [
      "% matplotlib inline\n",
      "\n",
      "import os\n",
      "import numpy\n",
      "import pylab\n",
      "import AtmoCompMod as ac\n",
      "import plot_dmagsMod as dm\n",
      "import lsst.sims.photUtils.Sed as Sed\n",
      "import lsst.sims.photUtils.Bandpass as Bandpass"
     ],
     "language": "python",
     "metadata": {},
     "outputs": [],
     "prompt_number": 22
    },
    {
     "cell_type": "code",
     "collapsed": false,
     "input": [
      "import os\n",
      "homedir = os.getenv(\"HOME\") \n",
      "stardir = os.path.join(homedir, \"lsst/atmo/starSED/kuruczSample/\")\n",
      "allfilelist = os.listdir(stardir)"
     ],
     "language": "python",
     "metadata": {},
     "outputs": [],
     "prompt_number": 23
    },
    {
     "cell_type": "code",
     "collapsed": false,
     "input": [
      "test = allfilelist[0]\n",
      "print test\n",
      "print test[-8:-5]"
     ],
     "language": "python",
     "metadata": {},
     "outputs": [
      {
       "output_type": "stream",
       "stream": "stdout",
       "text": [
        "km01_7750.fits_g40_7870\n",
        "g40\n"
       ]
      }
     ],
     "prompt_number": 24
    },
    {
     "cell_type": "code",
     "collapsed": false,
     "input": [
      "# Excerpt from original plot_dmags.py, had to modify to read files correctly, modification below:\n",
      "\n",
      "\"\"\" old\n",
      "\n",
      "starlist = []\n",
      "# make preliminary cut for ms, g40 stars\n",
      "\n",
      "for filename in allfilelist:\n",
      "    if filename[-3:] == 'g40':\n",
      "        starlist.append(filename)\n",
      "    if filename[-3:] == 'g20':\n",
      "        starlist.append(filename)\n",
      "\"\"\"\n",
      "starlist = []\n",
      "# make preliminary cut for ms, g40 stars\n",
      "\n",
      "for filename in allfilelist:\n",
      "    if filename[-8:-5] == 'g40':\n",
      "        starlist.append(filename)\n",
      "    if filename[-8:-5] == 'g20':\n",
      "        starlist.append(filename)"
     ],
     "language": "python",
     "metadata": {},
     "outputs": [],
     "prompt_number": 25
    },
    {
     "cell_type": "code",
     "collapsed": false,
     "input": [
      "run plot_dmagsMod.py"
     ],
     "language": "python",
     "metadata": {},
     "outputs": [
      {
       "output_type": "stream",
       "stream": "stdout",
       "text": [
        "u 3.56262734665\n",
        "g 4.7487958666\n",
        "r 6.19758919843\n",
        "i 7.53510150717\n",
        "z 8.70567981186\n",
        "y4 10.3458112545\n",
        "Generating interpolated atmospheric absorption profiles for this airmass 1.000000"
       ]
      },
      {
       "output_type": "stream",
       "stream": "stdout",
       "text": [
        "\n",
        "This is the same as one of the modtran profiles, so I'll use that.\n",
        "Generating interpolated atmospheric absorption profiles for this airmass 2.000000\n",
        "This is the same as one of the modtran profiles, so I'll use that.\n",
        "# Read 42 MS stars from /home/joachim/lsst/atmo/starSED/kuruczSample/"
       ]
      },
      {
       "output_type": "stream",
       "stream": "stdout",
       "text": [
        "\n",
        "Kurucz  7750.0 7000.0 -0.1 -0.1\n",
        "u"
       ]
      },
      {
       "output_type": "stream",
       "stream": "stdout",
       "text": [
        " -17.3453741412 -17.4050626032\n",
        "g -18.3604071607 -18.3807525333\n",
        "r"
       ]
      },
      {
       "output_type": "stream",
       "stream": "stdout",
       "text": [
        " -18.335203768 -18.4929075898\n",
        "i -18.2070076857 -18.4646979163\n",
        "z"
       ]
      },
      {
       "output_type": "stream",
       "stream": "stdout",
       "text": [
        " -18.0846573607 -18.3911049069\n",
        "y4 -18.0654916956 -18.3630144948\n",
        "u"
       ]
      },
      {
       "output_type": "stream",
       "stream": "stdout",
       "text": [
        " -17.3383317085 -17.398994397\n",
        "g -18.3604018118 -18.380694395\n",
        "r"
       ]
      },
      {
       "output_type": "stream",
       "stream": "stdout",
       "text": [
        " -18.3352157257 -18.4929278015\n",
        "i -18.2069775499 -18.4646881925\n",
        "z"
       ]
      },
      {
       "output_type": "stream",
       "stream": "stdout",
       "text": [
        " -18.0847870065 -18.3911281607\n",
        "y4 -18.0661635263 -18.3634643421\n",
        "u"
       ]
      },
      {
       "output_type": "stream",
       "stream": "stdout",
       "text": [
        " -17.3792051736 -17.433360984\n",
        "g -18.3655991016 -18.3825901135\n",
        "r"
       ]
      },
      {
       "output_type": "stream",
       "stream": "stdout",
       "text": [
        " -18.3340363025 -18.4928052809\n",
        "i -18.206539544 -18.4644976434\n",
        "z"
       ]
      },
      {
       "output_type": "stream",
       "stream": "stdout",
       "text": [
        " -18.0844719913 -18.3910391254\n",
        "y4 -18.0648337898 -18.3625932219\n",
        "u -7.04243268159 -6.01134950954\n",
        "g -0.058138306219 -0.00534890388337\n",
        "r 0.0119577192024 0.0202116770147\n",
        "i -0.0301358334021 -0.00972380202668\n",
        "z 0.023253779748 0.129645870487\n",
        "y4 0.4498473672 0.671830677199\n",
        "# looking at kurucz\n",
        "0.0 []\n"
       ]
      },
      {
       "output_type": "stream",
       "stream": "stderr",
       "text": [
        "plot_dmagsMod.py:581: RuntimeWarning: invalid value encountered in double_scalars\n",
        "  metbins = numpy.arange(metallicity.min(), metallicity.max() + metbinsize, metbinsize)\n"
       ]
      },
      {
       "metadata": {},
       "output_type": "display_data",
       "png": "[encoded data removed]",
       "text": [
        "<matplotlib.figure.Figure at 0x53fcf10>"
       ]
      }
     ],
     "prompt_number": 26
    },
    {
     "cell_type": "code",
     "collapsed": false,
     "input": [],
     "language": "python",
     "metadata": {},
     "outputs": []
    }
   ],
   "metadata": {}
  }
 ]
}