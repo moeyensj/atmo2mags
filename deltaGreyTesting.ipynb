{
 "cells": [
  {
   "cell_type": "code",
   "execution_count": 1,
   "metadata": {
    "collapsed": false
   },
   "outputs": [],
   "source": [
    "from AtmoBuilder import AtmoBuilder\n",
    "import numpy as np\n",
    "import matplotlib.pyplot as plt\n",
    "\n",
    "from astroML.plotting.mcmc import convert_to_stdev\n",
    "from astroML.decorators import pickle_results\n",
    "\n",
    "% matplotlib inline"
   ]
  },
  {
   "cell_type": "code",
   "execution_count": 2,
   "metadata": {
    "collapsed": false
   },
   "outputs": [
    {
     "name": "stdout",
     "output_type": "stream",
     "text": [
      "Found 16 MODTRAN files:\n",
      "Pachon_MODTRAN.10.7sc\n",
      "Pachon_MODTRAN.11.7sc\n",
      "Pachon_MODTRAN.12.7sc\n",
      "Pachon_MODTRAN.13.7sc\n",
      "Pachon_MODTRAN.14.7sc\n",
      "Pachon_MODTRAN.15.7sc\n",
      "Pachon_MODTRAN.16.7sc\n",
      "Pachon_MODTRAN.17.7sc\n",
      "Pachon_MODTRAN.18.7sc\n",
      "Pachon_MODTRAN.19.7sc\n",
      "Pachon_MODTRAN.20.7sc\n",
      "Pachon_MODTRAN.21.7sc\n",
      "Pachon_MODTRAN.22.7sc\n",
      "Pachon_MODTRAN.23.7sc\n",
      "Pachon_MODTRAN.24.7sc\n",
      "Pachon_MODTRAN.25.7sc\n",
      "MODTRAN files have been read.\n",
      "\n",
      "Read filter data from LSST software stack.\n",
      "Filters: ['u', 'g', 'r', 'i', 'z', 'y4']\n",
      "Read hardware data from LSST software stack.\n"
     ]
    }
   ],
   "source": [
    "ab = AtmoBuilder()"
   ]
  },
  {
   "cell_type": "code",
   "execution_count": 3,
   "metadata": {
    "collapsed": false
   },
   "outputs": [
    {
     "name": "stdout",
     "output_type": "stream",
     "text": [
      "# Read 988 MS stars from /Users/joachim/lsst/DarwinX86/sims_sed_library/2014.10.06/starSED/kurucz/\n",
      "# Read 849 white dwarfs from /Users/joachim/lsst/DarwinX86/sims_sed_library/2014.10.06/starSED/wDs/\n",
      "# Read 74 mlt stars from /Users/joachim/lsst/DarwinX86/sims_sed_library/2014.10.06/starSED/mlt/\n",
      "# Generated 2520 galaxies at redshifts between 0.000000 and 3.000000\n",
      "# Generated 76 quasars at redshifts between 0.000000 and 7.500000\n",
      "# Generated 39 sn's at redshifts between 0.000000 and 1.200000 on days ['0', '20', '40']\n"
     ]
    }
   ],
   "source": [
    "ab.readAll()"
   ]
  },
  {
   "cell_type": "code",
   "execution_count": 4,
   "metadata": {
    "collapsed": true
   },
   "outputs": [],
   "source": [
    "atmo = ab.buildAtmo([1.0,1.0,1.0,2.5,0.5,1.7],1.4)"
   ]
  },
  {
   "cell_type": "code",
   "execution_count": 13,
   "metadata": {
    "collapsed": false,
    "scrolled": false
   },
   "outputs": [
    {
     "name": "stdout",
     "output_type": "stream",
     "text": [
      "Computing nonlinear regression for Rayleigh and Aerosol.\n",
      "Observed atmosphere parameters: [1.0, 1.0, 1.0, 2.5, 0.5, 1.7]\n",
      "Observed atmosphere airmass:    1.4\n",
      "Standard atmosphere parameters: [1.0, 1.0, 1.0, 1.0, 1.0, 1.7]\n",
      "Standard atmosphere airmass:    1.2\n",
      "Observed atmosphere parameter for Rayleigh: 2.5\n",
      "Observed atmosphere parameter for Aerosol: 0.5\n",
      "\n",
      "Fitting for Rayleigh between 0.20 and 5.00 in 100 bins.\n",
      "Fitting for Aerosol between 0.20 and 5.00 in 100 bins.\n",
      "\n",
      "Non-zero deltaGrey detected.\n",
      "Fitting for deltaGrey between -50.00 and 50.00 mmags in 100 bins.\n",
      "\n",
      "Regressing 1000000 parameter combinations per filter...\n",
      "\n",
      "Calculating best fit parameters for u filter...\n",
      "@pickle_results: using precomputed results from 'pickles/X14_P101010250517_Rayleigh_Aerosol_XSTD12_DG400_E5_mss_u_100b.pkl'\n"
     ]
    },
    {
     "ename": "ValueError",
     "evalue": "need more than 4 values to unpack",
     "output_type": "error",
     "traceback": [
      "\u001b[0;31m---------------------------------------------------------------------------\u001b[0m",
      "\u001b[0;31mValueError\u001b[0m                                Traceback (most recent call last)",
      "\u001b[0;32m<ipython-input-13-9d76c24b8f5e>\u001b[0m in \u001b[0;36m<module>\u001b[0;34m()\u001b[0m\n\u001b[0;32m----> 1\u001b[0;31m \u001b[0mget_ipython\u001b[0m\u001b[0;34m(\u001b[0m\u001b[0;34m)\u001b[0m\u001b[0;34m.\u001b[0m\u001b[0mmagic\u001b[0m\u001b[0;34m(\u001b[0m\u001b[0;34mu\"time a,b,c,d = ab.computeAtmoFit('Rayleigh','Aerosol',atmo, deltaGrey=40, componentBins=100, deltaGreyBins=100)\"\u001b[0m\u001b[0;34m)\u001b[0m\u001b[0;34m\u001b[0m\u001b[0m\n\u001b[0m",
      "\u001b[0;32m/Users/joachim/lsst/DarwinX86/anaconda/2.2.0/lib/python2.7/site-packages/IPython/core/interactiveshell.pyc\u001b[0m in \u001b[0;36mmagic\u001b[0;34m(self, arg_s)\u001b[0m\n\u001b[1;32m   2302\u001b[0m         \u001b[0mmagic_name\u001b[0m\u001b[0;34m,\u001b[0m \u001b[0m_\u001b[0m\u001b[0;34m,\u001b[0m \u001b[0mmagic_arg_s\u001b[0m \u001b[0;34m=\u001b[0m \u001b[0marg_s\u001b[0m\u001b[0;34m.\u001b[0m\u001b[0mpartition\u001b[0m\u001b[0;34m(\u001b[0m\u001b[0;34m' '\u001b[0m\u001b[0;34m)\u001b[0m\u001b[0;34m\u001b[0m\u001b[0m\n\u001b[1;32m   2303\u001b[0m         \u001b[0mmagic_name\u001b[0m \u001b[0;34m=\u001b[0m \u001b[0mmagic_name\u001b[0m\u001b[0;34m.\u001b[0m\u001b[0mlstrip\u001b[0m\u001b[0;34m(\u001b[0m\u001b[0mprefilter\u001b[0m\u001b[0;34m.\u001b[0m\u001b[0mESC_MAGIC\u001b[0m\u001b[0;34m)\u001b[0m\u001b[0;34m\u001b[0m\u001b[0m\n\u001b[0;32m-> 2304\u001b[0;31m         \u001b[0;32mreturn\u001b[0m \u001b[0mself\u001b[0m\u001b[0;34m.\u001b[0m\u001b[0mrun_line_magic\u001b[0m\u001b[0;34m(\u001b[0m\u001b[0mmagic_name\u001b[0m\u001b[0;34m,\u001b[0m \u001b[0mmagic_arg_s\u001b[0m\u001b[0;34m)\u001b[0m\u001b[0;34m\u001b[0m\u001b[0m\n\u001b[0m\u001b[1;32m   2305\u001b[0m \u001b[0;34m\u001b[0m\u001b[0m\n\u001b[1;32m   2306\u001b[0m     \u001b[0;31m#-------------------------------------------------------------------------\u001b[0m\u001b[0;34m\u001b[0m\u001b[0;34m\u001b[0m\u001b[0m\n",
      "\u001b[0;32m/Users/joachim/lsst/DarwinX86/anaconda/2.2.0/lib/python2.7/site-packages/IPython/core/interactiveshell.pyc\u001b[0m in \u001b[0;36mrun_line_magic\u001b[0;34m(self, magic_name, line)\u001b[0m\n\u001b[1;32m   2223\u001b[0m                 \u001b[0mkwargs\u001b[0m\u001b[0;34m[\u001b[0m\u001b[0;34m'local_ns'\u001b[0m\u001b[0;34m]\u001b[0m \u001b[0;34m=\u001b[0m \u001b[0msys\u001b[0m\u001b[0;34m.\u001b[0m\u001b[0m_getframe\u001b[0m\u001b[0;34m(\u001b[0m\u001b[0mstack_depth\u001b[0m\u001b[0;34m)\u001b[0m\u001b[0;34m.\u001b[0m\u001b[0mf_locals\u001b[0m\u001b[0;34m\u001b[0m\u001b[0m\n\u001b[1;32m   2224\u001b[0m             \u001b[0;32mwith\u001b[0m \u001b[0mself\u001b[0m\u001b[0;34m.\u001b[0m\u001b[0mbuiltin_trap\u001b[0m\u001b[0;34m:\u001b[0m\u001b[0;34m\u001b[0m\u001b[0m\n\u001b[0;32m-> 2225\u001b[0;31m                 \u001b[0mresult\u001b[0m \u001b[0;34m=\u001b[0m \u001b[0mfn\u001b[0m\u001b[0;34m(\u001b[0m\u001b[0;34m*\u001b[0m\u001b[0margs\u001b[0m\u001b[0;34m,\u001b[0m\u001b[0;34m**\u001b[0m\u001b[0mkwargs\u001b[0m\u001b[0;34m)\u001b[0m\u001b[0;34m\u001b[0m\u001b[0m\n\u001b[0m\u001b[1;32m   2226\u001b[0m             \u001b[0;32mreturn\u001b[0m \u001b[0mresult\u001b[0m\u001b[0;34m\u001b[0m\u001b[0m\n\u001b[1;32m   2227\u001b[0m \u001b[0;34m\u001b[0m\u001b[0m\n",
      "\u001b[0;32m/Users/joachim/lsst/DarwinX86/anaconda/2.2.0/lib/python2.7/site-packages/IPython/core/magics/execution.pyc\u001b[0m in \u001b[0;36mtime\u001b[0;34m(self, line, cell, local_ns)\u001b[0m\n",
      "\u001b[0;32m/Users/joachim/lsst/DarwinX86/anaconda/2.2.0/lib/python2.7/site-packages/IPython/core/magic.pyc\u001b[0m in \u001b[0;36m<lambda>\u001b[0;34m(f, *a, **k)\u001b[0m\n\u001b[1;32m    191\u001b[0m     \u001b[0;31m# but it's overkill for just that one bit of state.\u001b[0m\u001b[0;34m\u001b[0m\u001b[0;34m\u001b[0m\u001b[0m\n\u001b[1;32m    192\u001b[0m     \u001b[0;32mdef\u001b[0m \u001b[0mmagic_deco\u001b[0m\u001b[0;34m(\u001b[0m\u001b[0marg\u001b[0m\u001b[0;34m)\u001b[0m\u001b[0;34m:\u001b[0m\u001b[0;34m\u001b[0m\u001b[0m\n\u001b[0;32m--> 193\u001b[0;31m         \u001b[0mcall\u001b[0m \u001b[0;34m=\u001b[0m \u001b[0;32mlambda\u001b[0m \u001b[0mf\u001b[0m\u001b[0;34m,\u001b[0m \u001b[0;34m*\u001b[0m\u001b[0ma\u001b[0m\u001b[0;34m,\u001b[0m \u001b[0;34m**\u001b[0m\u001b[0mk\u001b[0m\u001b[0;34m:\u001b[0m \u001b[0mf\u001b[0m\u001b[0;34m(\u001b[0m\u001b[0;34m*\u001b[0m\u001b[0ma\u001b[0m\u001b[0;34m,\u001b[0m \u001b[0;34m**\u001b[0m\u001b[0mk\u001b[0m\u001b[0;34m)\u001b[0m\u001b[0;34m\u001b[0m\u001b[0m\n\u001b[0m\u001b[1;32m    194\u001b[0m \u001b[0;34m\u001b[0m\u001b[0m\n\u001b[1;32m    195\u001b[0m         \u001b[0;32mif\u001b[0m \u001b[0mcallable\u001b[0m\u001b[0;34m(\u001b[0m\u001b[0marg\u001b[0m\u001b[0;34m)\u001b[0m\u001b[0;34m:\u001b[0m\u001b[0;34m\u001b[0m\u001b[0m\n",
      "\u001b[0;32m/Users/joachim/lsst/DarwinX86/anaconda/2.2.0/lib/python2.7/site-packages/IPython/core/magics/execution.pyc\u001b[0m in \u001b[0;36mtime\u001b[0;34m(self, line, cell, local_ns)\u001b[0m\n\u001b[1;32m   1164\u001b[0m         \u001b[0;32melse\u001b[0m\u001b[0;34m:\u001b[0m\u001b[0;34m\u001b[0m\u001b[0m\n\u001b[1;32m   1165\u001b[0m             \u001b[0mst\u001b[0m \u001b[0;34m=\u001b[0m \u001b[0mclock2\u001b[0m\u001b[0;34m(\u001b[0m\u001b[0;34m)\u001b[0m\u001b[0;34m\u001b[0m\u001b[0m\n\u001b[0;32m-> 1166\u001b[0;31m             \u001b[0;32mexec\u001b[0m\u001b[0;34m(\u001b[0m\u001b[0mcode\u001b[0m\u001b[0;34m,\u001b[0m \u001b[0mglob\u001b[0m\u001b[0;34m,\u001b[0m \u001b[0mlocal_ns\u001b[0m\u001b[0;34m)\u001b[0m\u001b[0;34m\u001b[0m\u001b[0m\n\u001b[0m\u001b[1;32m   1167\u001b[0m             \u001b[0mend\u001b[0m \u001b[0;34m=\u001b[0m \u001b[0mclock2\u001b[0m\u001b[0;34m(\u001b[0m\u001b[0;34m)\u001b[0m\u001b[0;34m\u001b[0m\u001b[0m\n\u001b[1;32m   1168\u001b[0m             \u001b[0mout\u001b[0m \u001b[0;34m=\u001b[0m \u001b[0mNone\u001b[0m\u001b[0;34m\u001b[0m\u001b[0m\n",
      "\u001b[0;32m<timed exec>\u001b[0m in \u001b[0;36m<module>\u001b[0;34m()\u001b[0m\n",
      "\u001b[0;32m/Users/joachim/atmo2mags/AtmoBuilder.pyc\u001b[0m in \u001b[0;36mcomputeAtmoFit\u001b[0;34m(self, comp1, comp2, atmo_obs, err, componentBins, deltaGrey, deltaGreyBins, deltaGreyRange, computeChiSquared, regressionSed, comparisonSeds, generateFig, generateDphi, saveLogL, useLogL, plotLogL, plotBoth, normalize, includeColorBar, pickleString, filters, dmagLimit, returnData, verbose)\u001b[0m\n\u001b[1;32m   1154\u001b[0m                 \u001b[0;32mreturn\u001b[0m \u001b[0mcomp1best\u001b[0m\u001b[0;34m,\u001b[0m \u001b[0mcomp2best\u001b[0m\u001b[0;34m,\u001b[0m \u001b[0mdgbest\u001b[0m\u001b[0;34m,\u001b[0m \u001b[0mdmagsbest\u001b[0m\u001b[0;34m,\u001b[0m \u001b[0mlogL\u001b[0m\u001b[0;34m,\u001b[0m \u001b[0mchisquared\u001b[0m\u001b[0;34m,\u001b[0m \u001b[0mchisquaredbest\u001b[0m\u001b[0;34m\u001b[0m\u001b[0m\n\u001b[1;32m   1155\u001b[0m \u001b[0;34m\u001b[0m\u001b[0m\n\u001b[0;32m-> 1156\u001b[0;31m             \u001b[0mcomp1best\u001b[0m\u001b[0;34m[\u001b[0m\u001b[0mf\u001b[0m\u001b[0;34m]\u001b[0m\u001b[0;34m,\u001b[0m \u001b[0mcomp2best\u001b[0m\u001b[0;34m[\u001b[0m\u001b[0mf\u001b[0m\u001b[0;34m]\u001b[0m\u001b[0;34m,\u001b[0m \u001b[0mdgbest\u001b[0m\u001b[0;34m[\u001b[0m\u001b[0mf\u001b[0m\u001b[0;34m]\u001b[0m\u001b[0;34m,\u001b[0m \u001b[0mdmagsbest\u001b[0m\u001b[0;34m[\u001b[0m\u001b[0mf\u001b[0m\u001b[0;34m]\u001b[0m\u001b[0;34m,\u001b[0m \u001b[0mlogL\u001b[0m\u001b[0;34m[\u001b[0m\u001b[0mf\u001b[0m\u001b[0;34m]\u001b[0m\u001b[0;34m,\u001b[0m \u001b[0mchisquared\u001b[0m\u001b[0;34m[\u001b[0m\u001b[0mf\u001b[0m\u001b[0;34m]\u001b[0m\u001b[0;34m,\u001b[0m \u001b[0mchisquaredbest\u001b[0m\u001b[0;34m[\u001b[0m\u001b[0mf\u001b[0m\u001b[0;34m]\u001b[0m \u001b[0;34m=\u001b[0m \u001b[0mrun_regression\u001b[0m\u001b[0;34m(\u001b[0m\u001b[0mcomp1\u001b[0m\u001b[0;34m,\u001b[0m \u001b[0mcomp2\u001b[0m\u001b[0;34m,\u001b[0m \u001b[0mf\u001b[0m\u001b[0;34m)\u001b[0m\u001b[0;34m\u001b[0m\u001b[0m\n\u001b[0m\u001b[1;32m   1157\u001b[0m \u001b[0;34m\u001b[0m\u001b[0m\n\u001b[1;32m   1158\u001b[0m             \u001b[0;32mprint\u001b[0m \u001b[0;34m'Completed '\u001b[0m \u001b[0;34m+\u001b[0m \u001b[0mf\u001b[0m \u001b[0;34m+\u001b[0m \u001b[0;34m' filter.'\u001b[0m\u001b[0;34m\u001b[0m\u001b[0m\n",
      "\u001b[0;31mValueError\u001b[0m: need more than 4 values to unpack"
     ]
    }
   ],
   "source": [
    "%time a,b,c,d = ab.computeAtmoFit('Rayleigh','Aerosol',atmo, deltaGrey=40, componentBins=100, deltaGreyBins=100)"
   ]
  },
  {
   "cell_type": "code",
   "execution_count": null,
   "metadata": {
    "collapsed": true
   },
   "outputs": [],
   "source": [
    "LABELSIZE = 10\n",
    "\n",
    "def _logL(fig, ax, logL, plotType, comp1, comp1_obs, comp1_best, comp2, comp2_obs, comp2_best, deltaGrey, dgbest, bins,\n",
    "        normalize=True, includeColorBar=False, text=None):\n",
    "        \"\"\"Plots desired logL plot type given figure and axis object along with appropriate data.\"\"\"\n",
    "        comp1_range, pNum1 = ab._componentCheck(comp1,bins)\n",
    "        comp2_range, pNum2 = ab._componentCheck(comp2,bins)\n",
    "        dgrange, dgnum = ab._componentCheck('deltaGrey', bins)\n",
    "\n",
    "        \"\"\"\n",
    "        if deltaGrey != 0.0:\n",
    "            logL = logL[:][:][np.where(dgrange == dgbest)[0][0]]\n",
    "        else:\n",
    "            logL = logL[:][:][0]\n",
    "        \"\"\"\n",
    "\n",
    "        if normalize: \n",
    "            logL = logL / np.median(-logL)\n",
    "        else:\n",
    "            logL = logL\n",
    "\n",
    "        if plotType == 'contour':\n",
    "            contour = ax.contour(comp1_range, comp2_range, convert_to_stdev(logL.T), levels=(0.683, 0.955, 0.997), colors='k')\n",
    "            ax.scatter(comp1_obs, comp2_obs, marker='o', s=25, facecolors='none', edgecolors='b', label='Truth')\n",
    "            ax.clabel(contour, fontsize=9, inline=1)\n",
    "\n",
    "        elif plotType == 'imshow':\n",
    "            im = ax.imshow(logL.T, interpolation='nearest', cmap=plt.cm.bone, extent=(0.0,5.0,0.0,5.0), origin='lower')\n",
    "            ax.scatter(comp1_obs, comp2_obs, marker='o', s=25, facecolors='none', edgecolors='b', label='Truth')\n",
    "            if includeColorBar:\n",
    "                fig.colorbar(im, ax=ax, format='%.0e')\n",
    "\n",
    "        elif plotType == 'both':\n",
    "            contour = ax.contour(comp1_range, comp2_range, convert_to_stdev(logL.T), levels=(0.683, 0.955, 0.997), colors='k')\n",
    "            ax.scatter(comp1_obs, comp2_obs, marker='o', s=25, facecolors='none', edgecolors='b', label='Truth')\n",
    "            ax.clabel(contour, fontsize=9, inline=1)\n",
    "            im = ax.imshow(logL.T, interpolation='nearest', cmap=plt.cm.bone, extent=(0.0,5.0,0.0,5.0), origin='lower')\n",
    "            if includeColorBar:\n",
    "                fig.colorbar(im, ax=ax, format='%.0e')\n",
    "\n",
    "        # Plot dashed lines at best fit parameters\n",
    "        ax.axvline(comp1_best, color='black', linestyle='--', label='Fit')\n",
    "        ax.axhline(comp2_best, color='black', linestyle='--')\n",
    "\n",
    "        # Set y-axis, x-axis limits\n",
    "        ax.set_xlim(min(comp1_range), max(comp1_range))\n",
    "        ax.set_ylim(min(comp2_range), max(comp2_range))\n",
    "\n",
    "        # Label axes\n",
    "        if deltaGrey != 0.0:\n",
    "            str1 = r'%s (fit: %.2f, truth: %.2f, $\\delta$G: %.2f)' % (comp1, comp1_best, comp1_obs, dgbest)\n",
    "            str2 = r'%s (fit: %.2f, truth: %.2f, $\\delta$G: %.2f)' % (comp2, comp2_best, comp2_obs, dgbest)\n",
    "        else:\n",
    "            str1 = r'%s (fit: %.2f, truth: %.2f)' % (comp1, comp1_best, comp1_obs)\n",
    "            str2 = r'%s (fit: %.2f, truth: %.2f)' % (comp2, comp2_best, comp2_obs)\n",
    "        ax.set_xlabel(str1, fontsize=LABELSIZE)\n",
    "        ax.set_ylabel(str2, fontsize=LABELSIZE)\n",
    "        \n",
    "        if text != None:\n",
    "            ax.text(5.2,4.5,text)\n",
    "\n",
    "        return"
   ]
  },
  {
   "cell_type": "code",
   "execution_count": null,
   "metadata": {
    "collapsed": false,
    "scrolled": false
   },
   "outputs": [],
   "source": [
    "fig, ax = plt.subplots(100,1)\n",
    "fig.set_size_inches(1*4,100*4)\n",
    "\n",
    "logLu = d['u']\n",
    "logLu.size\n",
    "\n",
    "dgrange = np.linspace(-50,50,100)\n",
    "\n",
    "for i in range(100):\n",
    "    _logL(fig, ax[i], logLu[:][:][i], 'both', 'Rayleigh', atmo.P[4], a['u'], 'Aerosol', atmo.P[5], b['u'], 0.0, c['u'], 100, text=dgrange[i]) "
   ]
  },
  {
   "cell_type": "code",
   "execution_count": null,
   "metadata": {
    "collapsed": true
   },
   "outputs": [],
   "source": []
  }
 ],
 "metadata": {
  "kernelspec": {
   "display_name": "Python 2",
   "language": "python",
   "name": "python2"
  },
  "language_info": {
   "codemirror_mode": {
    "name": "ipython",
    "version": 2
   },
   "file_extension": ".py",
   "mimetype": "text/x-python",
   "name": "python",
   "nbconvert_exporter": "python",
   "pygments_lexer": "ipython2",
   "version": "2.7.10"
  }
 },
 "nbformat": 4,
 "nbformat_minor": 0
}
