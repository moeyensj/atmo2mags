{
 "cells": [
  {
   "cell_type": "code",
   "execution_count": 1,
   "metadata": {
    "collapsed": true
   },
   "outputs": [],
   "source": [
    "from AtmoBuilder import AtmoBuilder\n",
    "import numpy as np"
   ]
  },
  {
   "cell_type": "code",
   "execution_count": 2,
   "metadata": {
    "collapsed": false
   },
   "outputs": [
    {
     "name": "stdout",
     "output_type": "stream",
     "text": [
      "Found 16 MODTRAN files:\n",
      "Pachon_MODTRAN.10.7sc\n",
      "Pachon_MODTRAN.11.7sc\n",
      "Pachon_MODTRAN.12.7sc\n",
      "Pachon_MODTRAN.13.7sc\n",
      "Pachon_MODTRAN.14.7sc\n",
      "Pachon_MODTRAN.15.7sc\n",
      "Pachon_MODTRAN.16.7sc\n",
      "Pachon_MODTRAN.17.7sc\n",
      "Pachon_MODTRAN.18.7sc\n",
      "Pachon_MODTRAN.19.7sc\n",
      "Pachon_MODTRAN.20.7sc\n",
      "Pachon_MODTRAN.21.7sc\n",
      "Pachon_MODTRAN.22.7sc\n",
      "Pachon_MODTRAN.23.7sc\n",
      "Pachon_MODTRAN.24.7sc\n",
      "Pachon_MODTRAN.25.7sc\n",
      "MODTRAN files have been read.\n",
      "\n",
      "Read filter data from LSST software stack.\n",
      "Filters: ['u', 'g', 'r', 'i', 'z', 'y4']\n",
      "Read hardware data from LSST software stack.\n"
     ]
    }
   ],
   "source": [
    "ab = AtmoBuilder()"
   ]
  },
  {
   "cell_type": "code",
   "execution_count": 3,
   "metadata": {
    "collapsed": false
   },
   "outputs": [
    {
     "name": "stdout",
     "output_type": "stream",
     "text": [
      "# Read 988 MS stars from /Users/joachim/lsst/DarwinX86/sims_sed_library/2014.10.06/starSED/kurucz/\n",
      "# Read 849 white dwarfs from /Users/joachim/lsst/DarwinX86/sims_sed_library/2014.10.06/starSED/wDs/\n",
      "# Read 74 mlt stars from /Users/joachim/lsst/DarwinX86/sims_sed_library/2014.10.06/starSED/mlt/\n",
      "# Generated 2520 galaxies at redshifts between 0.000000 and 3.000000\n",
      "# Generated 76 quasars at redshifts between 0.000000 and 7.500000\n",
      "# Generated 39 sn's at redshifts between 0.000000 and 1.200000 on days ['0', '20', '40']\n"
     ]
    }
   ],
   "source": [
    "ab.readAll()"
   ]
  },
  {
   "cell_type": "code",
   "execution_count": null,
   "metadata": {
    "collapsed": true
   },
   "outputs": [],
   "source": []
  }
 ],
 "metadata": {
  "kernelspec": {
   "display_name": "Python 2",
   "language": "python",
   "name": "python2"
  },
  "language_info": {
   "codemirror_mode": {
    "name": "ipython",
    "version": 2
   },
   "file_extension": ".py",
   "mimetype": "text/x-python",
   "name": "python",
   "nbconvert_exporter": "python",
   "pygments_lexer": "ipython2",
   "version": "2.7.10"
  }
 },
 "nbformat": 4,
 "nbformat_minor": 0
}
