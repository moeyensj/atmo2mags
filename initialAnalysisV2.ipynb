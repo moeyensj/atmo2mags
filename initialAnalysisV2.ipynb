{
 "metadata": {
  "name": ""
 },
 "nbformat": 3,
 "nbformat_minor": 0,
 "worksheets": [
  {
   "cells": [
    {
     "cell_type": "markdown",
     "metadata": {},
     "source": [
      "## Initial Analysis - Constraints on Atmospheric Transmissivity from Stellar Photometry - December 2014 \n",
      "\n",
      "This ipython notebook will run through the initial analysis described in section 2.1 of the research paper titled above. Note: This notebook contains LSST stack dependencies and several imports of scripts, this notebook uses the atmoBuilder class contrary to the original initialAnalysis notebook."
     ]
    },
    {
     "cell_type": "code",
     "collapsed": false,
     "input": [
      "% matplotlib inline\n",
      "\n",
      "from atmoBuilder import atmoBuilder"
     ],
     "language": "python",
     "metadata": {},
     "outputs": [
      {
       "ename": "IndentationError",
       "evalue": "unexpected indent (atmoBuilder.py, line 110)",
       "output_type": "pyerr",
       "traceback": [
        "\u001b[0;36m  File \u001b[0;32m\"atmoBuilder.py\"\u001b[0;36m, line \u001b[0;32m110\u001b[0m\n\u001b[0;31m    def readHardware(self):\u001b[0m\n\u001b[0m    ^\u001b[0m\n\u001b[0;31mIndentationError\u001b[0m\u001b[0;31m:\u001b[0m unexpected indent\n"
       ]
      }
     ],
     "prompt_number": 1
    },
    {
     "cell_type": "code",
     "collapsed": false,
     "input": [
      "# Initialize class object and individual atmosphere parameters\n",
      "a = atmoBuilder()\n",
      "H2O = [2.0,0.5,0.5,0.5,0.5,1.7]\n",
      "O2 = [0.5,2.0,0.5,0.5,0.5,1.7]\n",
      "O3 = [0.5,0.5,2.0,0.5,0.5,1.7]\n",
      "Rayleigh = [0.5,0.5,0.5,2.0,0.5,1.7]\n",
      "Aerosol = [0.5,0.5,0.5,0.5,2.0,1.7]\n",
      "Alpha = [0.5,0.5,0.5,0.5,0.5,2.0]\n",
      "std2 = [1.0,1.0,1.0,1.0,1.0,1.7]"
     ],
     "language": "python",
     "metadata": {},
     "outputs": [
      {
       "output_type": "stream",
       "stream": "stdout",
       "text": [
        "Found 16 MODTRAN files:\n",
        "Pachon_MODTRAN.10.7sc\n",
        "Pachon_MODTRAN.11.7sc\n",
        "Pachon_MODTRAN.12.7sc\n",
        "Pachon_MODTRAN.13.7sc\n",
        "Pachon_MODTRAN.14.7sc\n",
        "Pachon_MODTRAN.15.7sc\n",
        "Pachon_MODTRAN.16.7sc\n",
        "Pachon_MODTRAN.17.7sc"
       ]
      },
      {
       "output_type": "stream",
       "stream": "stdout",
       "text": [
        "\n",
        "Pachon_MODTRAN.18.7sc\n",
        "Pachon_MODTRAN.19.7sc\n",
        "Pachon_MODTRAN.20.7sc\n",
        "Pachon_MODTRAN.21.7sc\n",
        "Pachon_MODTRAN.22.7sc\n",
        "Pachon_MODTRAN.23.7sc\n",
        "Pachon_MODTRAN.24.7sc"
       ]
      },
      {
       "output_type": "stream",
       "stream": "stdout",
       "text": [
        "\n",
        "Pachon_MODTRAN.25.7sc\n",
        "MODTRAN files have been read.\n"
       ]
      }
     ],
     "prompt_number": 9
    },
    {
     "cell_type": "code",
     "collapsed": false,
     "input": [
      "a.allPlot(std2,X=2.0)"
     ],
     "language": "python",
     "metadata": {},
     "outputs": [
      {
       "ename": "TypeError",
       "evalue": "allPlot() got an unexpected keyword argument 'X'",
       "output_type": "pyerr",
       "traceback": [
        "\u001b[0;31m---------------------------------------------------------------------------\u001b[0m\n\u001b[0;31mTypeError\u001b[0m                                 Traceback (most recent call last)",
        "\u001b[0;32m<ipython-input-10-cac9c6cf42ff>\u001b[0m in \u001b[0;36m<module>\u001b[0;34m()\u001b[0m\n\u001b[0;32m----> 1\u001b[0;31m \u001b[0ma\u001b[0m\u001b[0;34m.\u001b[0m\u001b[0mallPlot\u001b[0m\u001b[0;34m(\u001b[0m\u001b[0mstd2\u001b[0m\u001b[0;34m,\u001b[0m\u001b[0mX\u001b[0m\u001b[0;34m=\u001b[0m\u001b[0;36m2.0\u001b[0m\u001b[0;34m)\u001b[0m\u001b[0;34m\u001b[0m\u001b[0m\n\u001b[0m",
        "\u001b[0;31mTypeError\u001b[0m: allPlot() got an unexpected keyword argument 'X'"
       ]
      }
     ],
     "prompt_number": 10
    },
    {
     "cell_type": "code",
     "collapsed": false,
     "input": [],
     "language": "python",
     "metadata": {},
     "outputs": []
    }
   ],
   "metadata": {}
  }
 ]
}