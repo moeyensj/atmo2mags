{
 "metadata": {
  "name": ""
 },
 "nbformat": 3,
 "nbformat_minor": 0,
 "worksheets": [
  {
   "cells": [
    {
     "cell_type": "markdown",
     "metadata": {},
     "source": [
      "## Initial Analysis - Constraints on Atmospheric Transmissivity from Stellar Photometry - December 2014 \n",
      "\n",
      "This ipython notebook will run through the initial analysis described in section 2.1 of the research paper titled above. Note: This notebook contains LSST stack dependencies and several imports of scripts, this notebook uses the atmoBuilder class contrary to the original initialAnalysis notebook."
     ]
    },
    {
     "cell_type": "code",
     "collapsed": false,
     "input": [
      "% matplotlib inline\n",
      "\n",
      "from atmoBuilder import AtmoBuilder"
     ],
     "language": "python",
     "metadata": {},
     "outputs": [],
     "prompt_number": 1
    },
    {
     "cell_type": "code",
     "collapsed": false,
     "input": [
      "# Initialize class object and individual atmosphere parameters\n",
      "a = AtmoBuilder()\n",
      "H2O = [2.0,0.5,0.5,0.5,0.5,1.7]\n",
      "O2 = [0.5,2.0,0.5,0.5,0.5,1.7]\n",
      "O3 = [0.5,0.5,2.0,0.5,0.5,1.7]\n",
      "Rayleigh = [0.5,0.5,0.5,2.0,0.5,1.7]\n",
      "Aerosol = [0.5,0.5,0.5,0.5,2.0,1.7]\n",
      "Alpha = [0.5,0.5,0.5,0.5,0.5,2.0]\n",
      "std2 = [1.0,1.0,1.0,1.0,1.0,1.7]"
     ],
     "language": "python",
     "metadata": {},
     "outputs": [
      {
       "output_type": "stream",
       "stream": "stdout",
       "text": [
        "Found 16 MODTRAN files:\n",
        "Pachon_MODTRAN.10.7sc\n",
        "Pachon_MODTRAN.11.7sc\n",
        "Pachon_MODTRAN.12.7sc\n",
        "Pachon_MODTRAN.13.7sc\n",
        "Pachon_MODTRAN.14.7sc\n",
        "Pachon_MODTRAN.15.7sc\n",
        "Pachon_MODTRAN.16.7sc\n",
        "Pachon_MODTRAN.17.7sc"
       ]
      },
      {
       "output_type": "stream",
       "stream": "stdout",
       "text": [
        "\n",
        "Pachon_MODTRAN.18.7sc\n",
        "Pachon_MODTRAN.19.7sc\n",
        "Pachon_MODTRAN.20.7sc\n",
        "Pachon_MODTRAN.21.7sc\n",
        "Pachon_MODTRAN.22.7sc\n",
        "Pachon_MODTRAN.23.7sc"
       ]
      },
      {
       "output_type": "stream",
       "stream": "stdout",
       "text": [
        "\n",
        "Pachon_MODTRAN.24.7sc\n",
        "Pachon_MODTRAN.25.7sc\n",
        "MODTRAN files have been read.\n"
       ]
      }
     ],
     "prompt_number": 2
    },
    {
     "cell_type": "code",
     "collapsed": false,
     "input": [
      "a.readKurucz()"
     ],
     "language": "python",
     "metadata": {},
     "outputs": [
      {
       "output_type": "stream",
       "stream": "stdout",
       "text": [
        "# Read 988 MS stars from /Users/joachim/lsst/DarwinX86/sims_sed_library/2014.10.06/starSED/kurucz/\n"
       ]
      }
     ],
     "prompt_number": 3
    },
    {
     "cell_type": "code",
     "collapsed": true,
     "input": [
      "a.allPlot(H2O,figName='H2O')"
     ],
     "language": "python",
     "metadata": {},
     "outputs": []
    },
    {
     "cell_type": "code",
     "collapsed": true,
     "input": [
      "a.allPlot(O2,figName='O2')"
     ],
     "language": "python",
     "metadata": {},
     "outputs": []
    },
    {
     "cell_type": "code",
     "collapsed": false,
     "input": [
      "a.allPlot(O3,figName='O3')"
     ],
     "language": "python",
     "metadata": {},
     "outputs": []
    },
    {
     "cell_type": "code",
     "collapsed": false,
     "input": [
      "a.allPlot(Rayleigh,figName='Rayleigh')"
     ],
     "language": "python",
     "metadata": {},
     "outputs": []
    },
    {
     "cell_type": "code",
     "collapsed": false,
     "input": [
      "a.allPlot(Aerosol,figName='Aerosol')"
     ],
     "language": "python",
     "metadata": {},
     "outputs": []
    },
    {
     "cell_type": "code",
     "collapsed": false,
     "input": [
      "a.allPlot(Alpha,figName='Alpha')"
     ],
     "language": "python",
     "metadata": {},
     "outputs": []
    },
    {
     "cell_type": "code",
     "collapsed": false,
     "input": [
      "a.allPlot([2.0,2.0,2.0,2.0,2.0,2.0])"
     ],
     "language": "python",
     "metadata": {},
     "outputs": []
    },
    {
     "cell_type": "code",
     "collapsed": false,
     "input": [
      "\n"
     ],
     "language": "python",
     "metadata": {},
     "outputs": [
      {
       "output_type": "stream",
       "stream": "stdout",
       "text": [
        "u -16.0421355594 -17.5599604907\n",
        "g"
       ]
      },
      {
       "output_type": "stream",
       "stream": "stdout",
       "text": [
        " -18.2210537284 -18.430900196\n",
        "r"
       ]
      },
      {
       "output_type": "stream",
       "stream": "stdout",
       "text": [
        " -18.1988188525 -19.0425836862\n",
        "i"
       ]
      },
      {
       "output_type": "stream",
       "stream": "stdout",
       "text": [
        " -17.9590405996 -19.34247591\n",
        "z"
       ]
      },
      {
       "output_type": "stream",
       "stream": "stdout",
       "text": [
        " -17.7849868721 -19.5044891209\n",
        "y4"
       ]
      },
      {
       "ename": "TypeError",
       "evalue": "unsupported operand type(s) for -: 'chararray' and 'int'",
       "output_type": "pyerr",
       "traceback": [
        "\u001b[0;31m---------------------------------------------------------------------------\u001b[0m\n\u001b[0;31mTypeError\u001b[0m                                 Traceback (most recent call last)",
        "\u001b[0;32m<ipython-input-4-c336413580fb>\u001b[0m in \u001b[0;36m<module>\u001b[0;34m()\u001b[0m\n\u001b[1;32m      2\u001b[0m \u001b[0mtest_bp\u001b[0m \u001b[0;34m=\u001b[0m \u001b[0ma\u001b[0m\u001b[0;34m.\u001b[0m\u001b[0mcombineThroughputs\u001b[0m\u001b[0;34m(\u001b[0m\u001b[0mtest\u001b[0m\u001b[0;34m)\u001b[0m\u001b[0;34m\u001b[0m\u001b[0m\n\u001b[1;32m      3\u001b[0m \u001b[0;34m\u001b[0m\u001b[0m\n\u001b[0;32m----> 4\u001b[0;31m \u001b[0ma\u001b[0m\u001b[0;34m.\u001b[0m\u001b[0mcolorcolorPlot\u001b[0m\u001b[0;34m(\u001b[0m\u001b[0mtest_bp\u001b[0m\u001b[0;34m)\u001b[0m\u001b[0;34m\u001b[0m\u001b[0m\n\u001b[0m",
        "\u001b[0;32m/Users/joachim/atmo2mags/atmoBuilder.py\u001b[0m in \u001b[0;36mcolorcolorPlot\u001b[0;34m(self, bpDict, newfig, titletext)\u001b[0m\n\u001b[1;32m    443\u001b[0m         \u001b[0mi\u001b[0m \u001b[0;34m=\u001b[0m \u001b[0;36m1\u001b[0m\u001b[0;34m\u001b[0m\u001b[0m\n\u001b[1;32m    444\u001b[0m         \u001b[0;31m# use a different subplot for each color/color combo\u001b[0m\u001b[0;34m\u001b[0m\u001b[0;34m\u001b[0m\u001b[0m\n\u001b[0;32m--> 445\u001b[0;31m         \u001b[0;32mfor\u001b[0m \u001b[0mi\u001b[0m \u001b[0;32min\u001b[0m \u001b[0mrange\u001b[0m\u001b[0;34m(\u001b[0m\u001b[0mlen\u001b[0m\u001b[0;34m(\u001b[0m\u001b[0mcolorlabels\u001b[0m\u001b[0;34m-\u001b[0m\u001b[0;36m1\u001b[0m\u001b[0;34m)\u001b[0m\u001b[0;34m)\u001b[0m\u001b[0;34m:\u001b[0m\u001b[0;34m\u001b[0m\u001b[0m\n\u001b[0m\u001b[1;32m    446\u001b[0m             \u001b[0max\u001b[0m \u001b[0;34m=\u001b[0m \u001b[0mpylab\u001b[0m\u001b[0;34m.\u001b[0m\u001b[0msubplot\u001b[0m\u001b[0;34m(\u001b[0m\u001b[0;36m3\u001b[0m\u001b[0;34m,\u001b[0m\u001b[0;36m2\u001b[0m\u001b[0;34m,\u001b[0m\u001b[0mi\u001b[0m\u001b[0;34m)\u001b[0m\u001b[0;34m\u001b[0m\u001b[0m\n\u001b[1;32m    447\u001b[0m             \u001b[0;32mfor\u001b[0m \u001b[0mmetidx\u001b[0m \u001b[0;32min\u001b[0m \u001b[0mrange\u001b[0m\u001b[0;34m(\u001b[0m\u001b[0mlen\u001b[0m\u001b[0;34m(\u001b[0m\u001b[0mmetbins\u001b[0m\u001b[0;34m)\u001b[0m\u001b[0;34m)\u001b[0m\u001b[0;34m:\u001b[0m\u001b[0;34m\u001b[0m\u001b[0m\n",
        "\u001b[0;31mTypeError\u001b[0m: unsupported operand type(s) for -: 'chararray' and 'int'"
       ]
      },
      {
       "output_type": "stream",
       "stream": "stdout",
       "text": [
        " -17.747183974 -19.590738477\n",
        "1.0 [-5. -4. -3. -2. -1.  0.  1.]\n"
       ]
      }
     ],
     "prompt_number": 4
    },
    {
     "cell_type": "code",
     "collapsed": false,
     "input": [
      "print a.starlist"
     ],
     "language": "python",
     "metadata": {},
     "outputs": [
      {
       "output_type": "stream",
       "stream": "stdout",
       "text": [
        "['km01_7000.fits_g40_7120.gz', 'km01_7000.fits_g40_7140.gz', 'km01_7000.fits_g40_7160.gz', 'km01_7000.fits_g40_7180.gz', 'km01_7000.fits_g40_7200.gz', 'km01_7000.fits_g40_7220.gz', 'km01_7000.fits_g40_7240.gz', 'km01_7250.fits_g40_7270.gz', 'km01_7250.fits_g40_7290.gz', 'km01_7250.fits_g40_7310.gz', 'km01_7250.fits_g40_7330.gz', 'km01_7250.fits_g40_7350.gz', 'km01_7250.fits_g40_7370.gz', 'km01_7250.fits_g40_7390.gz', 'km01_7250.fits_g40_7410.gz', 'km01_7250.fits_g40_7430.gz', 'km01_7250.fits_g40_7450.gz', 'km01_7250.fits_g40_7470.gz', 'km01_7250.fits_g40_7490.gz', 'km01_7500.fits_g40_7500.gz', 'km01_7500.fits_g40_7520.gz', 'km01_7500.fits_g40_7540.gz', 'km01_7500.fits_g40_7560.gz', 'km01_7500.fits_g40_7580.gz', 'km01_7500.fits_g40_7600.gz', 'km01_7500.fits_g40_7620.gz', 'km01_7500.fits_g40_7640.gz', 'km01_7500.fits_g40_7660.gz', 'km01_7500.fits_g40_7680.gz', 'km01_7500.fits_g40_7700.gz', 'km01_7500.fits_g40_7720.gz', 'km01_7500.fits_g40_7740.gz', 'km01_7750.fits_g40_7750.gz', 'km01_7750.fits_g40_7770.gz', 'km01_7750.fits_g40_7790.gz', 'km01_7750.fits_g40_7810.gz', 'km01_7750.fits_g40_7830.gz', 'km01_7750.fits_g40_7850.gz', 'km01_7750.fits_g40_7870.gz', 'km01_7750.fits_g40_7890.gz', 'km01_7750.fits_g40_7910.gz', 'km01_7750.fits_g40_7930.gz', 'km01_7750.fits_g40_7950.gz', 'km01_7750.fits_g40_7970.gz', 'km01_7750.fits_g40_7990.gz', 'km01_8000.fits_g40_8000.gz', 'km02_7000.fits_g40_7060.gz', 'km02_7000.fits_g40_7080.gz', 'km02_7000.fits_g40_7100.gz', 'km02_7000.fits_g40_7120.gz', 'km02_7000.fits_g40_7140.gz', 'km02_7250.fits_g40_7350.gz', 'km02_7250.fits_g40_7370.gz', 'km02_7250.fits_g40_7390.gz', 'km02_7250.fits_g40_7410.gz', 'km02_7250.fits_g40_7430.gz', 'km02_7250.fits_g40_7450.gz', 'km02_7250.fits_g40_7470.gz', 'km02_7250.fits_g40_7490.gz', 'km02_7500.fits_g40_7500.gz', 'km02_7500.fits_g40_7520.gz', 'km02_7500.fits_g40_7540.gz', 'km02_7500.fits_g40_7560.gz', 'km02_7500.fits_g40_7580.gz', 'km02_7500.fits_g40_7600.gz', 'km02_7500.fits_g40_7620.gz', 'km02_7500.fits_g40_7640.gz', 'km02_7500.fits_g40_7660.gz', 'km02_7500.fits_g40_7680.gz', 'km02_7500.fits_g40_7700.gz', 'km02_7500.fits_g40_7720.gz', 'km02_7500.fits_g40_7740.gz', 'km02_7750.fits_g40_7750.gz', 'km02_7750.fits_g40_7770.gz', 'km02_7750.fits_g40_7790.gz', 'km02_7750.fits_g40_7810.gz', 'km03_5750.fits_g20_5930.gz', 'km03_5750.fits_g20_5950.gz', 'km03_5750.fits_g20_5970.gz', 'km03_5750.fits_g20_5990.gz', 'km05_4500.fits_g20_4600.gz', 'km05_4500.fits_g20_4620.gz', 'km05_4500.fits_g20_4640.gz', 'km05_4500.fits_g20_4660.gz', 'km05_4500.fits_g20_4680.gz', 'km05_4500.fits_g20_4700.gz', 'km05_4500.fits_g20_4720.gz', 'km05_5500.fits_g20_5640.gz', 'km05_5500.fits_g20_5660.gz', 'km05_5500.fits_g20_5680.gz', 'km05_5500.fits_g20_5700.gz', 'km05_6000.fits_g40_6040.gz', 'km05_6000.fits_g40_6060.gz', 'km05_6000.fits_g40_6080.gz', 'km05_6000.fits_g40_6100.gz', 'km10_4750.fits_g20_4950.gz', 'km10_4750.fits_g20_4970.gz', 'km10_4750.fits_g20_4990.gz', 'km10_4750.fits_g40_4870.gz', 'km10_5000.fits_g20_5000.gz', 'km10_5000.fits_g20_5020.gz', 'km10_5000.fits_g20_5040.gz', 'km10_5000.fits_g20_5060.gz', 'km10_5000.fits_g20_5080.gz', 'km10_5000.fits_g20_5100.gz', 'km10_5000.fits_g20_5120.gz', 'km10_5000.fits_g20_5140.gz', 'km10_5000.fits_g20_5160.gz', 'km10_5000.fits_g20_5180.gz', 'km10_5000.fits_g20_5200.gz', 'km10_5000.fits_g20_5220.gz', 'km10_5000.fits_g20_5240.gz', 'km10_5000.fits_g40_5000.gz', 'km10_5000.fits_g40_5020.gz', 'km10_5000.fits_g40_5040.gz', 'km10_5000.fits_g40_5060.gz', 'km10_5000.fits_g40_5080.gz', 'km10_5000.fits_g40_5100.gz', 'km10_5000.fits_g40_5120.gz', 'km10_5000.fits_g40_5140.gz', 'km10_5000.fits_g40_5160.gz', 'km10_5000.fits_g40_5180.gz', 'km10_5000.fits_g40_5200.gz', 'km10_5000.fits_g40_5220.gz', 'km10_5000.fits_g40_5240.gz', 'km10_5250.fits_g20_5250.gz', 'km10_5250.fits_g20_5270.gz', 'km10_5250.fits_g20_5290.gz', 'km10_5250.fits_g20_5310.gz', 'km10_5250.fits_g20_5330.gz', 'km10_5250.fits_g20_5350.gz', 'km10_5250.fits_g20_5370.gz', 'km10_5250.fits_g20_5390.gz', 'km10_5250.fits_g20_5410.gz', 'km10_5250.fits_g20_5430.gz', 'km10_5250.fits_g20_5450.gz', 'km10_5250.fits_g20_5470.gz', 'km10_5250.fits_g20_5490.gz', 'km10_5250.fits_g40_5250.gz', 'km10_5250.fits_g40_5270.gz', 'km10_5250.fits_g40_5290.gz', 'km10_5250.fits_g40_5310.gz', 'km10_5250.fits_g40_5330.gz', 'km10_5250.fits_g40_5350.gz', 'km10_5250.fits_g40_5370.gz', 'km10_5250.fits_g40_5390.gz', 'km10_5250.fits_g40_5410.gz', 'km10_5250.fits_g40_5430.gz', 'km10_5250.fits_g40_5450.gz', 'km10_5250.fits_g40_5490.gz', 'km10_5500.fits_g20_5500.gz', 'km10_5500.fits_g20_5520.gz', 'km10_5500.fits_g20_5540.gz', 'km10_5500.fits_g20_5560.gz', 'km10_5500.fits_g20_5580.gz', 'km10_5500.fits_g20_5600.gz', 'km10_5500.fits_g20_5620.gz', 'km10_5500.fits_g20_5640.gz', 'km10_5500.fits_g20_5660.gz', 'km10_5500.fits_g20_5680.gz', 'km10_5500.fits_g20_5700.gz', 'km10_5500.fits_g20_5720.gz', 'km10_5500.fits_g20_5740.gz', 'km10_5500.fits_g40_5500.gz', 'km10_5500.fits_g40_5520.gz', 'km10_5500.fits_g40_5540.gz', 'km10_5500.fits_g40_5560.gz', 'km10_5500.fits_g40_5580.gz', 'km10_5500.fits_g40_5600.gz', 'km10_5500.fits_g40_5620.gz', 'km10_5500.fits_g40_5640.gz', 'km10_5500.fits_g40_5660.gz', 'km10_5500.fits_g40_5680.gz', 'km10_5750.fits_g20_5750.gz', 'km10_5750.fits_g20_5770.gz', 'km10_5750.fits_g20_5790.gz', 'km10_5750.fits_g20_5810.gz', 'km10_5750.fits_g20_5830.gz', 'km10_5750.fits_g20_5850.gz', 'km10_5750.fits_g20_5870.gz', 'km10_5750.fits_g20_5890.gz', 'km10_5750.fits_g20_5910.gz', 'km10_5750.fits_g20_5930.gz', 'km10_5750.fits_g20_5950.gz', 'km10_5750.fits_g20_5970.gz', 'km10_5750.fits_g20_5990.gz', 'km10_5750.fits_g40_5910.gz', 'km10_5750.fits_g40_5930.gz', 'km10_5750.fits_g40_5950.gz', 'km10_6000.fits_g20_6000.gz', 'km10_6000.fits_g20_6020.gz', 'km10_6000.fits_g20_6040.gz', 'km10_6000.fits_g20_6060.gz', 'km10_6000.fits_g20_6080.gz', 'km15_5000.fits_g20_5000.gz', 'km15_5000.fits_g20_5020.gz', 'km15_5000.fits_g20_5040.gz', 'km15_5000.fits_g20_5060.gz', 'km15_5000.fits_g20_5080.gz', 'km15_5000.fits_g20_5100.gz', 'km15_5000.fits_g20_5120.gz', 'km15_5000.fits_g20_5140.gz', 'km15_5000.fits_g20_5160.gz', 'km15_5000.fits_g20_5180.gz', 'km15_5000.fits_g20_5200.gz', 'km15_5250.fits_g20_5250.gz', 'km15_5250.fits_g20_5270.gz', 'km15_5250.fits_g20_5290.gz', 'km15_5250.fits_g20_5310.gz', 'km15_5250.fits_g20_5330.gz', 'km15_5250.fits_g20_5350.gz', 'km15_5250.fits_g20_5370.gz', 'km15_5250.fits_g20_5390.gz', 'km15_5250.fits_g20_5410.gz', 'km15_5250.fits_g20_5430.gz', 'km15_5250.fits_g20_5450.gz', 'km15_5250.fits_g20_5470.gz', 'km15_5250.fits_g20_5490.gz', 'km15_5250.fits_g40_5390.gz', 'km15_5250.fits_g40_5410.gz', 'km15_5250.fits_g40_5430.gz', 'km15_5250.fits_g40_5450.gz', 'km15_5250.fits_g40_5490.gz', 'km15_5500.fits_g20_5500.gz', 'km15_5500.fits_g20_5520.gz', 'km15_5500.fits_g20_5540.gz', 'km15_5500.fits_g20_5560.gz', 'km15_5500.fits_g20_5580.gz', 'km15_5500.fits_g20_5600.gz', 'km15_5500.fits_g20_5620.gz', 'km15_5500.fits_g20_5640.gz', 'km15_5500.fits_g20_5660.gz', 'km15_5500.fits_g20_5680.gz', 'km15_5500.fits_g20_5700.gz', 'km15_5500.fits_g20_5720.gz', 'km15_5500.fits_g20_5740.gz', 'km15_5500.fits_g40_5500.gz', 'km15_5500.fits_g40_5520.gz', 'km15_5500.fits_g40_5540.gz', 'km15_5500.fits_g40_5560.gz', 'km15_5500.fits_g40_5580.gz', 'km15_5500.fits_g40_5600.gz', 'km15_5500.fits_g40_5620.gz', 'km15_5500.fits_g40_5640.gz', 'km15_5500.fits_g40_5660.gz', 'km15_5500.fits_g40_5680.gz', 'km15_5500.fits_g40_5700.gz', 'km15_5500.fits_g40_5720.gz', 'km15_5500.fits_g40_5740.gz', 'km15_5750.fits_g20_5750.gz', 'km15_5750.fits_g20_5770.gz', 'km15_5750.fits_g20_5790.gz', 'km15_5750.fits_g20_5810.gz', 'km15_5750.fits_g20_5830.gz', 'km15_5750.fits_g20_5850.gz', 'km15_5750.fits_g20_5870.gz', 'km15_5750.fits_g20_5890.gz', 'km15_5750.fits_g20_5910.gz', 'km15_5750.fits_g20_5930.gz', 'km15_5750.fits_g20_5950.gz', 'km15_5750.fits_g20_5970.gz', 'km15_5750.fits_g20_5990.gz', 'km15_5750.fits_g40_5750.gz', 'km15_5750.fits_g40_5770.gz', 'km15_5750.fits_g40_5790.gz', 'km15_5750.fits_g40_5810.gz', 'km15_5750.fits_g40_5830.gz', 'km15_5750.fits_g40_5850.gz', 'km15_5750.fits_g40_5870.gz', 'km15_5750.fits_g40_5890.gz', 'km15_5750.fits_g40_5910.gz', 'km15_5750.fits_g40_5930.gz', 'km15_5750.fits_g40_5950.gz', 'km15_5750.fits_g40_5970.gz', 'km15_5750.fits_g40_5990.gz', 'km15_6000.fits_g20_6000.gz', 'km15_6000.fits_g20_6020.gz', 'km15_6000.fits_g20_6040.gz', 'km15_6000.fits_g20_6060.gz', 'km15_6000.fits_g20_6080.gz', 'km15_6000.fits_g20_6100.gz', 'km15_6000.fits_g20_6120.gz', 'km15_6000.fits_g40_6000.gz', 'km15_6000.fits_g40_6020.gz', 'km15_6000.fits_g40_6040.gz', 'km15_6000.fits_g40_6060.gz', 'km15_6000.fits_g40_6080.gz', 'km15_6000.fits_g40_6100.gz', 'km15_6000.fits_g40_6120.gz', 'km15_6000.fits_g40_6140.gz', 'km15_6000.fits_g40_6160.gz', 'km15_6000.fits_g40_6180.gz', 'km15_6000.fits_g40_6200.gz', 'km15_6000.fits_g40_6220.gz', 'km20_5500.fits_g20_5620.gz', 'km20_5500.fits_g20_5640.gz', 'km20_5500.fits_g20_5660.gz', 'km20_5500.fits_g20_5680.gz', 'km20_5500.fits_g20_5700.gz', 'km20_5500.fits_g20_5720.gz', 'km20_5500.fits_g20_5740.gz', 'km20_5500.fits_g40_5580.gz', 'km20_5500.fits_g40_5600.gz', 'km20_5500.fits_g40_5620.gz', 'km20_5500.fits_g40_5640.gz', 'km20_5500.fits_g40_5660.gz', 'km20_5500.fits_g40_5680.gz', 'km20_5500.fits_g40_5700.gz', 'km20_5500.fits_g40_5720.gz', 'km20_5500.fits_g40_5740.gz', 'km20_5750.fits_g20_5750.gz', 'km20_5750.fits_g20_5770.gz', 'km20_5750.fits_g20_5790.gz', 'km20_5750.fits_g20_5810.gz', 'km20_5750.fits_g20_5830.gz', 'km20_5750.fits_g20_5850.gz', 'km20_5750.fits_g20_5870.gz', 'km20_5750.fits_g20_5890.gz', 'km20_5750.fits_g20_5910.gz', 'km20_5750.fits_g20_5930.gz', 'km20_5750.fits_g20_5950.gz', 'km20_5750.fits_g20_5970.gz', 'km20_5750.fits_g20_5990.gz', 'km20_5750.fits_g40_5750.gz', 'km20_5750.fits_g40_5770.gz', 'km20_5750.fits_g40_5790.gz', 'km20_5750.fits_g40_5810.gz', 'km20_5750.fits_g40_5830.gz', 'km20_5750.fits_g40_5850.gz', 'km20_5750.fits_g40_5870.gz', 'km20_5750.fits_g40_5890.gz', 'km20_5750.fits_g40_5910.gz', 'km20_5750.fits_g40_5930.gz', 'km20_5750.fits_g40_5950.gz', 'km20_5750.fits_g40_5970.gz', 'km20_5750.fits_g40_5990.gz', 'km20_6000.fits_g20_6000.gz', 'km20_6000.fits_g20_6020.gz', 'km20_6000.fits_g20_6040.gz', 'km20_6000.fits_g20_6060.gz', 'km20_6000.fits_g20_6080.gz', 'km20_6000.fits_g20_6100.gz', 'km20_6000.fits_g20_6120.gz', 'km20_6000.fits_g20_6140.gz', 'km20_6000.fits_g40_6000.gz', 'km20_6000.fits_g40_6020.gz', 'km20_6000.fits_g40_6040.gz', 'km20_6000.fits_g40_6060.gz', 'km20_6000.fits_g40_6080.gz', 'km20_6000.fits_g40_6100.gz', 'km20_6000.fits_g40_6120.gz', 'km20_6000.fits_g40_6140.gz', 'km20_6000.fits_g40_6160.gz', 'km20_6000.fits_g40_6180.gz', 'km20_6000.fits_g40_6200.gz', 'km20_6000.fits_g40_6220.gz', 'km20_6250.fits_g20_6390.gz', 'km20_6250.fits_g20_6410.gz', 'km20_6250.fits_g40_6330.gz', 'km20_6250.fits_g40_6350.gz', 'km20_6250.fits_g40_6370.gz', 'km20_6250.fits_g40_6390.gz', 'km20_6250.fits_g40_6410.gz', 'km20_6250.fits_g40_6430.gz', 'km20_6250.fits_g40_6450.gz', 'km20_6250.fits_g40_6470.gz', 'km20_6250.fits_g40_6490.gz', 'km20_6500.fits_g40_6500.gz', 'km20_6500.fits_g40_6520.gz', 'km20_6500.fits_g40_6540.gz', 'km20_6500.fits_g40_6560.gz', 'km20_6500.fits_g40_6580.gz', 'km25_5250.fits_g20_5490.gz', 'km25_5500.fits_g20_5500.gz', 'km25_5500.fits_g20_5520.gz', 'km25_5500.fits_g20_5540.gz', 'km25_5500.fits_g20_5560.gz', 'km25_5500.fits_g20_5580.gz', 'km25_5500.fits_g20_5600.gz', 'km25_5500.fits_g20_5620.gz', 'km25_5500.fits_g20_5640.gz', 'km25_5500.fits_g20_5660.gz', 'km25_5500.fits_g20_5680.gz', 'km25_5500.fits_g20_5700.gz', 'km25_5500.fits_g20_5720.gz', 'km25_5500.fits_g20_5740.gz', 'km25_5750.fits_g20_5750.gz', 'km25_5750.fits_g20_5770.gz', 'km25_5750.fits_g20_5790.gz', 'km25_5750.fits_g20_5810.gz', 'km25_5750.fits_g20_5830.gz', 'km25_5750.fits_g20_5850.gz', 'km25_5750.fits_g20_5870.gz', 'km25_5750.fits_g20_5890.gz', 'km25_5750.fits_g20_5910.gz', 'km25_5750.fits_g20_5930.gz', 'km25_5750.fits_g20_5950.gz', 'km25_5750.fits_g20_5970.gz', 'km25_5750.fits_g20_5990.gz', 'km25_5750.fits_g40_5890.gz', 'km25_5750.fits_g40_5910.gz', 'km25_5750.fits_g40_5930.gz', 'km25_5750.fits_g40_5950.gz', 'km25_5750.fits_g40_5970.gz', 'km25_5750.fits_g40_5990.gz', 'km25_6000.fits_g20_6000.gz', 'km25_6000.fits_g20_6020.gz', 'km25_6000.fits_g20_6040.gz', 'km25_6000.fits_g20_6060.gz', 'km25_6000.fits_g20_6080.gz', 'km25_6000.fits_g20_6100.gz', 'km25_6000.fits_g20_6120.gz', 'km25_6000.fits_g20_6140.gz', 'km25_6000.fits_g20_6160.gz', 'km25_6000.fits_g40_6000.gz', 'km25_6000.fits_g40_6020.gz', 'km25_6000.fits_g40_6040.gz', 'km25_6000.fits_g40_6060.gz', 'km25_6000.fits_g40_6080.gz', 'km25_6000.fits_g40_6100.gz', 'km25_6000.fits_g40_6120.gz', 'km25_6000.fits_g40_6140.gz', 'km25_6000.fits_g40_6160.gz', 'km25_6000.fits_g40_6180.gz', 'km25_6000.fits_g40_6200.gz', 'km25_6000.fits_g40_6220.gz', 'km25_6000.fits_g40_6240.gz', 'km25_6250.fits_g20_6430.gz', 'km25_6250.fits_g20_6450.gz', 'km25_6250.fits_g20_6470.gz', 'km25_6250.fits_g20_6490.gz', 'km25_6250.fits_g40_6250.gz', 'km25_6250.fits_g40_6270.gz', 'km25_6250.fits_g40_6290.gz', 'km25_6250.fits_g40_6310.gz', 'km25_6250.fits_g40_6330.gz', 'km25_6250.fits_g40_6350.gz', 'km25_6250.fits_g40_6370.gz', 'km25_6250.fits_g40_6390.gz', 'km25_6250.fits_g40_6410.gz', 'km25_6250.fits_g40_6430.gz', 'km25_6250.fits_g40_6450.gz', 'km25_6250.fits_g40_6470.gz', 'km25_6250.fits_g40_6490.gz', 'km25_6500.fits_g40_6500.gz', 'km25_6500.fits_g40_6520.gz', 'km25_6500.fits_g40_6540.gz', 'km25_6500.fits_g40_6560.gz', 'km25_6500.fits_g40_6580.gz', 'km25_6500.fits_g40_6600.gz', 'km30_5250.fits_g20_5290.gz', 'km30_5250.fits_g20_5310.gz', 'km30_5250.fits_g20_5330.gz', 'km30_5250.fits_g20_5350.gz', 'km30_5250.fits_g20_5370.gz', 'km30_5250.fits_g20_5390.gz', 'km30_5250.fits_g20_5410.gz', 'km30_5250.fits_g20_5430.gz', 'km30_5250.fits_g20_5450.gz', 'km30_5250.fits_g20_5470.gz', 'km30_5250.fits_g20_5490.gz', 'km30_5500.fits_g20_5500.gz', 'km30_5500.fits_g20_5520.gz', 'km30_5500.fits_g20_5540.gz', 'km30_5500.fits_g20_5560.gz', 'km30_5500.fits_g20_5580.gz', 'km30_5500.fits_g20_5600.gz', 'km30_5500.fits_g20_5620.gz', 'km30_5500.fits_g20_5640.gz', 'km30_5500.fits_g20_5660.gz', 'km30_5500.fits_g20_5680.gz', 'km30_5500.fits_g20_5700.gz', 'km30_5500.fits_g20_5720.gz', 'km30_5500.fits_g20_5740.gz', 'km30_5750.fits_g20_5750.gz', 'km30_5750.fits_g20_5770.gz', 'km30_5750.fits_g20_5790.gz', 'km30_5750.fits_g20_5810.gz', 'km30_5750.fits_g20_5830.gz', 'km30_5750.fits_g20_5850.gz', 'km30_5750.fits_g20_5870.gz', 'km30_5750.fits_g20_5890.gz', 'km30_5750.fits_g20_5910.gz', 'km30_5750.fits_g20_5930.gz', 'km30_5750.fits_g20_5950.gz', 'km30_5750.fits_g20_5970.gz', 'km30_5750.fits_g20_5990.gz', 'km30_5750.fits_g40_5910.gz', 'km30_5750.fits_g40_5930.gz', 'km30_5750.fits_g40_5950.gz', 'km30_5750.fits_g40_5970.gz', 'km30_5750.fits_g40_5990.gz', 'km30_6000.fits_g20_6000.gz', 'km30_6000.fits_g20_6020.gz', 'km30_6000.fits_g20_6040.gz', 'km30_6000.fits_g20_6060.gz', 'km30_6000.fits_g20_6080.gz', 'km30_6000.fits_g20_6100.gz', 'km30_6000.fits_g20_6120.gz', 'km30_6000.fits_g20_6140.gz', 'km30_6000.fits_g20_6160.gz', 'km30_6000.fits_g40_6000.gz', 'km30_6000.fits_g40_6020.gz', 'km30_6000.fits_g40_6040.gz', 'km30_6000.fits_g40_6060.gz', 'km30_6000.fits_g40_6080.gz', 'km30_6000.fits_g40_6100.gz', 'km30_6000.fits_g40_6120.gz', 'km30_6000.fits_g40_6140.gz', 'km30_6000.fits_g40_6160.gz', 'km30_6000.fits_g40_6180.gz', 'km30_6000.fits_g40_6200.gz', 'km30_6000.fits_g40_6220.gz', 'km30_6000.fits_g40_6240.gz', 'km30_6250.fits_g40_6250.gz', 'km30_6250.fits_g40_6270.gz', 'km30_6250.fits_g40_6290.gz', 'km30_6250.fits_g40_6310.gz', 'km30_6250.fits_g40_6330.gz', 'km30_6250.fits_g40_6350.gz', 'km30_6250.fits_g40_6370.gz', 'km30_6250.fits_g40_6390.gz', 'km30_6250.fits_g40_6410.gz', 'km30_6250.fits_g40_6430.gz', 'km30_6250.fits_g40_6450.gz', 'km30_6250.fits_g40_6470.gz', 'km30_6250.fits_g40_6490.gz', 'km30_6500.fits_g20_6620.gz', 'km30_6500.fits_g20_6640.gz', 'km30_6500.fits_g40_6500.gz', 'km30_6500.fits_g40_6520.gz', 'km30_6500.fits_g40_6540.gz', 'km30_6500.fits_g40_6560.gz', 'km30_6500.fits_g40_6580.gz', 'km30_6500.fits_g40_6600.gz', 'km35_5250.fits_g20_5330.gz', 'km35_5250.fits_g20_5350.gz', 'km35_5250.fits_g20_5370.gz', 'km35_5250.fits_g20_5390.gz', 'km35_5250.fits_g20_5410.gz', 'km35_5250.fits_g20_5430.gz', 'km35_5250.fits_g20_5450.gz', 'km35_5250.fits_g20_5470.gz', 'km35_5250.fits_g20_5490.gz', 'km35_5500.fits_g20_5500.gz', 'km35_5500.fits_g20_5520.gz', 'km35_5500.fits_g20_5540.gz', 'km35_5500.fits_g20_5560.gz', 'km35_5500.fits_g20_5580.gz', 'km35_5500.fits_g20_5600.gz', 'km35_5500.fits_g20_5620.gz', 'km35_5500.fits_g20_5640.gz', 'km35_5500.fits_g20_5660.gz', 'km35_5500.fits_g20_5680.gz', 'km35_5500.fits_g20_5700.gz', 'km35_5500.fits_g20_5720.gz', 'km35_5500.fits_g20_5740.gz', 'km35_5750.fits_g20_5750.gz', 'km35_5750.fits_g20_5770.gz', 'km35_5750.fits_g20_5790.gz', 'km35_5750.fits_g20_5810.gz', 'km35_5750.fits_g20_5830.gz', 'km35_5750.fits_g20_5850.gz', 'km35_5750.fits_g20_5870.gz', 'km35_5750.fits_g20_5890.gz', 'km35_5750.fits_g20_5910.gz', 'km35_5750.fits_g20_5930.gz', 'km35_5750.fits_g20_5950.gz', 'km35_5750.fits_g20_5970.gz', 'km35_5750.fits_g20_5990.gz', 'km35_5750.fits_g40_5950.gz', 'km35_5750.fits_g40_5970.gz', 'km35_5750.fits_g40_5990.gz', 'km35_6000.fits_g20_6000.gz', 'km35_6000.fits_g20_6020.gz', 'km35_6000.fits_g20_6040.gz', 'km35_6000.fits_g20_6060.gz', 'km35_6000.fits_g20_6080.gz', 'km35_6000.fits_g20_6100.gz', 'km35_6000.fits_g20_6120.gz', 'km35_6000.fits_g20_6140.gz', 'km35_6000.fits_g20_6160.gz', 'km35_6000.fits_g20_6180.gz', 'km35_6000.fits_g40_6000.gz', 'km35_6000.fits_g40_6020.gz', 'km35_6000.fits_g40_6040.gz', 'km35_6000.fits_g40_6060.gz', 'km35_6000.fits_g40_6080.gz', 'km35_6000.fits_g40_6100.gz', 'km35_6000.fits_g40_6120.gz', 'km35_6000.fits_g40_6140.gz', 'km35_6000.fits_g40_6160.gz', 'km35_6000.fits_g40_6180.gz', 'km35_6000.fits_g40_6200.gz', 'km35_6000.fits_g40_6220.gz', 'km35_6000.fits_g40_6240.gz', 'km35_6250.fits_g40_6250.gz', 'km35_6250.fits_g40_6270.gz', 'km35_6250.fits_g40_6290.gz', 'km35_6250.fits_g40_6310.gz', 'km35_6250.fits_g40_6330.gz', 'km35_6250.fits_g40_6350.gz', 'km35_6250.fits_g40_6370.gz', 'km35_6250.fits_g40_6390.gz', 'km35_6250.fits_g40_6410.gz', 'km35_6250.fits_g40_6430.gz', 'km35_6250.fits_g40_6450.gz', 'km35_6250.fits_g40_6470.gz', 'km35_6250.fits_g40_6490.gz', 'km35_6500.fits_g20_6600.gz', 'km35_6500.fits_g20_6620.gz', 'km35_6500.fits_g20_6640.gz', 'km35_6500.fits_g20_6660.gz', 'km35_6500.fits_g40_6500.gz', 'km35_6500.fits_g40_6520.gz', 'km35_6500.fits_g40_6540.gz', 'km35_6500.fits_g40_6560.gz', 'km35_6500.fits_g40_6580.gz', 'km35_6500.fits_g40_6600.gz', 'km40_5250.fits_g20_5350.gz', 'km40_5250.fits_g20_5370.gz', 'km40_5250.fits_g20_5390.gz', 'km40_5250.fits_g20_5410.gz', 'km40_5250.fits_g20_5430.gz', 'km40_5250.fits_g20_5450.gz', 'km40_5250.fits_g20_5470.gz', 'km40_5250.fits_g20_5490.gz', 'km40_5500.fits_g20_5500.gz', 'km40_5500.fits_g20_5520.gz', 'km40_5500.fits_g20_5540.gz', 'km40_5500.fits_g20_5560.gz', 'km40_5500.fits_g20_5580.gz', 'km40_5500.fits_g20_5600.gz', 'km40_5500.fits_g20_5620.gz', 'km40_5500.fits_g20_5640.gz', 'km40_5500.fits_g20_5660.gz', 'km40_5500.fits_g20_5680.gz', 'km40_5500.fits_g20_5700.gz', 'km40_5500.fits_g20_5720.gz', 'km40_5500.fits_g20_5740.gz', 'km40_5750.fits_g20_5750.gz', 'km40_5750.fits_g20_5770.gz', 'km40_5750.fits_g20_5790.gz', 'km40_5750.fits_g20_5810.gz', 'km40_5750.fits_g20_5830.gz', 'km40_5750.fits_g20_5850.gz', 'km40_5750.fits_g20_5870.gz', 'km40_5750.fits_g20_5890.gz', 'km40_5750.fits_g20_5910.gz', 'km40_5750.fits_g20_5930.gz', 'km40_5750.fits_g20_5950.gz', 'km40_5750.fits_g20_5970.gz', 'km40_5750.fits_g20_5990.gz', 'km40_6000.fits_g20_6000.gz', 'km40_6000.fits_g20_6020.gz', 'km40_6000.fits_g20_6040.gz', 'km40_6000.fits_g20_6060.gz', 'km40_6000.fits_g20_6080.gz', 'km40_6000.fits_g20_6100.gz', 'km40_6000.fits_g20_6120.gz', 'km40_6000.fits_g20_6140.gz', 'km40_6000.fits_g20_6160.gz', 'km40_6000.fits_g20_6180.gz', 'km40_6000.fits_g40_6040.gz', 'km40_6000.fits_g40_6060.gz', 'km40_6000.fits_g40_6080.gz', 'km40_6000.fits_g40_6100.gz', 'km40_6000.fits_g40_6120.gz', 'km40_6000.fits_g40_6140.gz', 'km40_6000.fits_g40_6160.gz', 'km40_6000.fits_g40_6180.gz', 'km40_6000.fits_g40_6200.gz', 'km40_6000.fits_g40_6220.gz', 'km40_6000.fits_g40_6240.gz', 'km40_6250.fits_g40_6250.gz', 'km40_6250.fits_g40_6270.gz', 'km40_6250.fits_g40_6290.gz', 'km40_6250.fits_g40_6310.gz', 'km40_6250.fits_g40_6330.gz', 'km40_6250.fits_g40_6350.gz', 'km40_6250.fits_g40_6370.gz', 'km40_6250.fits_g40_6390.gz', 'km40_6250.fits_g40_6410.gz', 'km40_6250.fits_g40_6430.gz', 'km40_6250.fits_g40_6450.gz', 'km40_6250.fits_g40_6470.gz', 'km40_6250.fits_g40_6490.gz', 'km40_6500.fits_g20_6660.gz', 'km40_6500.fits_g20_6680.gz', 'km40_6500.fits_g40_6500.gz', 'km40_6500.fits_g40_6520.gz', 'km40_6500.fits_g40_6540.gz', 'km40_6500.fits_g40_6560.gz', 'km40_6500.fits_g40_6580.gz', 'km40_6500.fits_g40_6600.gz', 'km40_6500.fits_g40_6620.gz', 'km40_8000.fits_g20_8100.gz', 'km45_5250.fits_g20_5370.gz', 'km45_5250.fits_g20_5390.gz', 'km45_5250.fits_g20_5410.gz', 'km45_5250.fits_g20_5430.gz', 'km45_5250.fits_g20_5450.gz', 'km45_5250.fits_g20_5470.gz', 'km45_5250.fits_g20_5490.gz', 'km45_5500.fits_g20_5500.gz', 'km45_5500.fits_g20_5520.gz', 'km45_5500.fits_g20_5540.gz', 'km45_5500.fits_g20_5560.gz', 'km45_5500.fits_g20_5580.gz', 'km45_5500.fits_g20_5600.gz', 'km45_5500.fits_g20_5620.gz', 'km45_5500.fits_g20_5640.gz', 'km45_5500.fits_g20_5660.gz', 'km45_5500.fits_g20_5680.gz', 'km45_5500.fits_g20_5700.gz', 'km45_5500.fits_g20_5720.gz', 'km45_5500.fits_g20_5740.gz', 'km45_5750.fits_g20_5750.gz', 'km45_5750.fits_g20_5770.gz', 'km45_5750.fits_g20_5790.gz', 'km45_5750.fits_g20_5810.gz', 'km45_5750.fits_g20_5830.gz', 'km45_5750.fits_g20_5850.gz', 'km45_5750.fits_g20_5870.gz', 'km45_5750.fits_g20_5890.gz', 'km45_5750.fits_g20_5910.gz', 'km45_5750.fits_g20_5930.gz', 'km45_5750.fits_g20_5950.gz', 'km45_5750.fits_g20_5970.gz', 'km45_5750.fits_g20_5990.gz', 'km45_6000.fits_g20_6000.gz', 'km45_6000.fits_g20_6020.gz', 'km45_6000.fits_g20_6040.gz', 'km45_6000.fits_g20_6060.gz', 'km45_6000.fits_g20_6080.gz', 'km45_6000.fits_g20_6100.gz', 'km45_6000.fits_g20_6120.gz', 'km45_6000.fits_g20_6140.gz', 'km45_6000.fits_g20_6160.gz', 'km45_6000.fits_g20_6180.gz', 'km45_6000.fits_g40_6080.gz', 'km45_6000.fits_g40_6100.gz', 'km45_6000.fits_g40_6120.gz', 'km45_6000.fits_g40_6140.gz', 'km45_6000.fits_g40_6160.gz', 'km45_6000.fits_g40_6180.gz', 'km45_6000.fits_g40_6200.gz', 'km45_6000.fits_g40_6220.gz', 'km45_6000.fits_g40_6240.gz', 'km45_6250.fits_g40_6250.gz', 'km45_6250.fits_g40_6270.gz', 'km45_6250.fits_g40_6290.gz', 'km45_6250.fits_g40_6310.gz', 'km45_6250.fits_g40_6330.gz', 'km45_6250.fits_g40_6350.gz', 'km45_6250.fits_g40_6370.gz', 'km45_6250.fits_g40_6390.gz', 'km45_6250.fits_g40_6410.gz', 'km45_6250.fits_g40_6430.gz', 'km45_6250.fits_g40_6450.gz', 'km45_6250.fits_g40_6470.gz', 'km45_6250.fits_g40_6490.gz', 'km45_6500.fits_g20_6680.gz', 'km45_6500.fits_g40_6500.gz', 'km45_6500.fits_g40_6520.gz', 'km45_6500.fits_g40_6560.gz', 'km45_6500.fits_g40_6580.gz', 'km45_6500.fits_g40_6620.gz', 'km45_8000.fits_g20_8060.gz', 'km50_5250.fits_g20_5390.gz', 'km50_5250.fits_g20_5410.gz', 'km50_5250.fits_g20_5430.gz', 'km50_5250.fits_g20_5450.gz', 'km50_5250.fits_g20_5470.gz', 'km50_5250.fits_g20_5490.gz', 'km50_5500.fits_g20_5500.gz', 'km50_5500.fits_g20_5520.gz', 'km50_5500.fits_g20_5540.gz', 'km50_5500.fits_g20_5560.gz', 'km50_5500.fits_g20_5580.gz', 'km50_5500.fits_g20_5600.gz', 'km50_5500.fits_g20_5620.gz', 'km50_5500.fits_g20_5640.gz', 'km50_5500.fits_g20_5660.gz', 'km50_5500.fits_g20_5680.gz', 'km50_5500.fits_g20_5700.gz', 'km50_5500.fits_g20_5720.gz', 'km50_5500.fits_g20_5740.gz', 'km50_5750.fits_g20_5750.gz', 'km50_5750.fits_g20_5770.gz', 'km50_5750.fits_g20_5790.gz', 'km50_5750.fits_g20_5810.gz', 'km50_5750.fits_g20_5830.gz', 'km50_5750.fits_g20_5850.gz', 'km50_5750.fits_g20_5870.gz', 'km50_5750.fits_g20_5890.gz', 'km50_5750.fits_g20_5910.gz', 'km50_5750.fits_g20_5930.gz', 'km50_5750.fits_g20_5950.gz', 'km50_5750.fits_g20_5970.gz', 'km50_5750.fits_g20_5990.gz', 'km50_6000.fits_g20_6000.gz', 'km50_6000.fits_g20_6020.gz', 'km50_6000.fits_g20_6040.gz', 'km50_6000.fits_g20_6060.gz', 'km50_6000.fits_g20_6080.gz', 'km50_6000.fits_g20_6100.gz', 'km50_6000.fits_g20_6120.gz', 'km50_6000.fits_g20_6140.gz', 'km50_6000.fits_g20_6160.gz', 'km50_6000.fits_g20_6180.gz', 'km50_6000.fits_g40_6100.gz', 'km50_6000.fits_g40_6120.gz', 'km50_6000.fits_g40_6140.gz', 'km50_6000.fits_g40_6160.gz', 'km50_6000.fits_g40_6180.gz', 'km50_6000.fits_g40_6200.gz', 'km50_6000.fits_g40_6220.gz', 'km50_6000.fits_g40_6240.gz', 'km50_6250.fits_g40_6250.gz', 'km50_6250.fits_g40_6270.gz', 'km50_6250.fits_g40_6290.gz', 'km50_6250.fits_g40_6310.gz', 'km50_6250.fits_g40_6330.gz', 'km50_6250.fits_g40_6350.gz', 'km50_6250.fits_g40_6370.gz', 'km50_6250.fits_g40_6390.gz', 'km50_6250.fits_g40_6410.gz', 'km50_6250.fits_g40_6430.gz', 'km50_6250.fits_g40_6450.gz', 'km50_6250.fits_g40_6470.gz', 'km50_6250.fits_g40_6490.gz', 'km50_6500.fits_g20_6680.gz', 'km50_6500.fits_g20_6700.gz', 'km50_6500.fits_g20_6720.gz', 'km50_6500.fits_g20_6740.gz', 'km50_6500.fits_g40_6500.gz', 'km50_6500.fits_g40_6520.gz', 'km50_6500.fits_g40_6540.gz', 'km50_6500.fits_g40_6560.gz', 'km50_6500.fits_g40_6580.gz', 'km50_6500.fits_g40_6600.gz', 'km50_6500.fits_g40_6620.gz', 'km50_6750.fits_g20_6750.gz', 'km50_6750.fits_g20_6770.gz', 'km50_8000.fits_g20_8040.gz', 'km50_8000.fits_g20_8080.gz', 'km50_8000.fits_g20_8100.gz', 'km50_8000.fits_g20_8120.gz', 'km50_8000.fits_g20_8140.gz', 'km50_8000.fits_g20_8160.gz', 'kp01_7000.fits_g40_7220.gz', 'kp01_7000.fits_g40_7240.gz', 'kp01_7250.fits_g40_7250.gz', 'kp01_7250.fits_g40_7270.gz', 'kp01_7250.fits_g40_7290.gz', 'kp01_7250.fits_g40_7310.gz', 'kp01_7250.fits_g40_7330.gz', 'kp01_7250.fits_g40_7350.gz', 'kp01_7250.fits_g40_7370.gz', 'kp01_7250.fits_g40_7390.gz', 'kp01_7250.fits_g40_7410.gz', 'kp01_7250.fits_g40_7430.gz', 'kp01_7250.fits_g40_7450.gz', 'kp01_7250.fits_g40_7470.gz', 'kp01_7250.fits_g40_7490.gz', 'kp01_7500.fits_g40_7500.gz', 'kp01_7500.fits_g40_7520.gz', 'kp01_7500.fits_g40_7540.gz', 'kp01_7500.fits_g40_7560.gz', 'kp01_7500.fits_g40_7580.gz', 'kp01_7500.fits_g40_7600.gz', 'kp01_7500.fits_g40_7620.gz', 'kp01_7500.fits_g40_7640.gz', 'kp01_7500.fits_g40_7660.gz', 'kp01_7500.fits_g40_7680.gz', 'kp01_7500.fits_g40_7700.gz', 'kp01_7500.fits_g40_7720.gz', 'kp01_7500.fits_g40_7740.gz', 'kp01_7750.fits_g40_7750.gz', 'kp01_7750.fits_g40_7770.gz', 'kp01_7750.fits_g40_7790.gz', 'kp01_7750.fits_g40_7810.gz', 'kp01_7750.fits_g40_7830.gz', 'kp01_7750.fits_g40_7850.gz', 'kp01_7750.fits_g40_7870.gz', 'kp01_7750.fits_g40_7890.gz', 'kp01_7750.fits_g40_7910.gz', 'kp01_7750.fits_g40_7930.gz', 'kp01_7750.fits_g40_7950.gz', 'kp01_7750.fits_g40_7970.gz', 'kp01_7750.fits_g40_7990.gz', 'kp01_8000.fits_g40_8000.gz', 'kp01_8000.fits_g40_8020.gz', 'kp01_8000.fits_g40_8040.gz', 'kp01_8000.fits_g40_8060.gz', 'kp01_8000.fits_g40_8080.gz', 'kp01_8000.fits_g40_8100.gz', 'kp02_7750.fits_g40_7770.gz', 'kp02_7750.fits_g40_7790.gz', 'kp02_7750.fits_g40_7810.gz', 'kp02_7750.fits_g40_7830.gz', 'kp02_7750.fits_g40_7850.gz', 'kp02_7750.fits_g40_7870.gz', 'kp02_7750.fits_g40_7890.gz', 'kp02_7750.fits_g40_7910.gz', 'kp02_7750.fits_g40_7930.gz', 'kp02_7750.fits_g40_7950.gz', 'kp02_7750.fits_g40_7970.gz', 'kp02_7750.fits_g40_7990.gz', 'kp02_8000.fits_g40_8000.gz', 'kp02_8000.fits_g40_8020.gz', 'kp02_8000.fits_g40_8040.gz', 'kp02_8000.fits_g40_8060.gz', 'kp02_8000.fits_g40_8080.gz', 'kp02_8000.fits_g40_8100.gz', 'kp02_8000.fits_g40_8120.gz', 'kp02_8000.fits_g40_8140.gz', 'kp02_8000.fits_g40_8160.gz', 'kp03_7750.fits_g40_7910.gz', 'kp03_7750.fits_g40_7930.gz', 'kp03_7750.fits_g40_7950.gz', 'kp03_7750.fits_g40_7970.gz', 'kp03_7750.fits_g40_7990.gz', 'kp03_8000.fits_g40_8000.gz', 'kp03_8000.fits_g40_8020.gz', 'kp03_8000.fits_g40_8040.gz', 'kp03_8000.fits_g40_8060.gz', 'kp03_8000.fits_g40_8080.gz', 'kp03_8000.fits_g40_8100.gz', 'kp03_8000.fits_g40_8120.gz', 'kp03_8000.fits_g40_8140.gz', 'kp03_8000.fits_g40_8160.gz', 'kp03_8000.fits_g40_8180.gz', 'kp03_8000.fits_g40_8200.gz', 'kp03_8000.fits_g40_8220.gz', 'kp03_8000.fits_g40_8240.gz', 'kp03_8250.fits_g40_8250.gz', 'kp05_8000.fits_g40_8080.gz', 'kp05_8000.fits_g40_8100.gz', 'kp05_8000.fits_g40_8120.gz', 'kp05_8000.fits_g40_8140.gz', 'kp05_8000.fits_g40_8160.gz', 'kp05_8000.fits_g40_8180.gz', 'kp05_8000.fits_g40_8200.gz', 'kp05_8000.fits_g40_8220.gz', 'kp05_8000.fits_g40_8240.gz', 'kp05_8250.fits_g40_8250.gz', 'kp05_8250.fits_g40_8270.gz', 'kp05_8250.fits_g40_8290.gz', 'kp05_8250.fits_g40_8310.gz', 'kp05_8250.fits_g40_8330.gz', 'kp05_8250.fits_g40_8350.gz', 'kp05_8250.fits_g40_8370.gz', 'kp05_8250.fits_g40_8390.gz', 'kp05_8250.fits_g40_8410.gz', 'kp05_9000.fits_g40_9000.gz', 'kp05_9000.fits_g40_9020.gz', 'kp05_9000.fits_g40_9040.gz', 'kp05_9000.fits_g40_9060.gz', 'kp05_9000.fits_g40_9080.gz', 'kp10_8250.fits_g40_8430.gz', 'kp10_8250.fits_g40_8450.gz', 'kp10_8250.fits_g40_8470.gz', 'kp10_9000.fits_g40_9060.gz', 'kp10_9000.fits_g40_9080.gz', 'kp10_9000.fits_g40_9100.gz', 'kp10_9000.fits_g40_9120.gz', 'kp10_9000.fits_g40_9140.gz', 'kp10_9000.fits_g40_9160.gz', 'kp10_9000.fits_g40_9180.gz', 'kp10_9000.fits_g40_9200.gz', 'kp10_9000.fits_g40_9220.gz', 'kp10_9000.fits_g40_9240.gz', 'kp10_9250.fits_g40_9250.gz', 'kp10_9250.fits_g40_9270.gz', 'kp10_9250.fits_g40_9290.gz', 'kp10_9250.fits_g40_9310.gz', 'kp10_9250.fits_g40_9330.gz', 'kp10_9250.fits_g40_9350.gz', 'kp10_9250.fits_g40_9370.gz', 'kp10_9250.fits_g40_9390.gz', 'kp10_9250.fits_g40_9410.gz', 'kp10_9250.fits_g40_9430.gz', 'kp10_9250.fits_g40_9450.gz', 'kp10_9250.fits_g40_9470.gz', 'kp10_9250.fits_g40_9490.gz', 'kp10_9500.fits_g40_9500.gz']\n"
       ]
      }
     ],
     "prompt_number": 5
    },
    {
     "cell_type": "code",
     "collapsed": false,
     "input": [],
     "language": "python",
     "metadata": {},
     "outputs": []
    }
   ],
   "metadata": {}
  }
 ]
}