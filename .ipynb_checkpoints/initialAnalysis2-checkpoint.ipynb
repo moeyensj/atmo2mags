{
 "metadata": {
  "name": ""
 },
 "nbformat": 3,
 "nbformat_minor": 0,
 "worksheets": [
  {
   "cells": [
    {
     "cell_type": "code",
     "collapsed": false,
     "input": [
      "from atmo import atmo as atm\n",
      "from AtmoCompMod import AtmoComp as ac\n",
      "from plot_dmagsMod import plot_dmags as dm\n",
      "import lsst.sims.photUtils.Sed as Sed\n",
      "import lsst.sims.photUtils.Bandpass as Bandpass\n",
      "import lsst.sims.photUtils.photUtils as photUtils\n",
      "\n",
      "import os\n",
      "import numpy\n",
      "import pylab\n",
      "import matplotlib\n",
      "\n",
      "% matplotlib inline"
     ],
     "language": "python",
     "metadata": {},
     "outputs": [],
     "prompt_number": 17
    },
    {
     "cell_type": "code",
     "collapsed": false,
     "input": [
      "# Initialize atmo function\n",
      "a = atm()\n",
      "a.readModtranFiles()\n",
      "print a.components\n",
      "print a.wavelength"
     ],
     "language": "python",
     "metadata": {},
     "outputs": [
      {
       "output_type": "stream",
       "stream": "stdout",
       "text": [
        "Found 16 MODTRAN files:\n",
        "Pachon_MODTRAN.10.7sc\n",
        "Pachon_MODTRAN.11.7sc\n",
        "Pachon_MODTRAN.12.7sc\n",
        "Pachon_MODTRAN.13.7sc\n",
        "Pachon_MODTRAN.14.7sc\n",
        "Pachon_MODTRAN.15.7sc\n",
        "Pachon_MODTRAN.16.7sc\n",
        "Pachon_MODTRAN.17.7sc\n",
        "Pachon_MODTRAN.18.7sc"
       ]
      },
      {
       "output_type": "stream",
       "stream": "stdout",
       "text": [
        "\n",
        "Pachon_MODTRAN.19.7sc\n",
        "Pachon_MODTRAN.20.7sc\n",
        "Pachon_MODTRAN.21.7sc\n",
        "Pachon_MODTRAN.22.7sc\n",
        "Pachon_MODTRAN.23.7sc\n",
        "Pachon_MODTRAN.24.7sc\n",
        "Pachon_MODTRAN.25.7sc"
       ]
      },
      {
       "output_type": "stream",
       "stream": "stdout",
       "text": [
        "\n",
        "MODTRAN files have been read.\n",
        "['H2O', 'O2', 'O3', 'Rayleigh', 'Aerosol']\n",
        "[  250.    250.5   251.  ...,  1099.   1099.5  1100. ]\n"
       ]
      }
     ],
     "prompt_number": 18
    },
    {
     "cell_type": "code",
     "collapsed": false,
     "input": [
      "# Generating 7 atmospheres\n",
      "w = a.wavelength\n",
      "atmo1 = a.genAtmo(w,[2.0,0.5,0.5,0.5,0.5,2.0])\n",
      "atmo2 = a.genAtmo(w,[0.5,2.0,0.5,0.5,0.5,2.0])\n",
      "atmo3 = a.genAtmo(w,[0.5,0.5,2.0,0.5,0.5,2.0])\n",
      "atmo4 = a.genAtmo(w,[0.5,0.5,0.5,2.0,0.5,2.0])\n",
      "atmo5 = a.genAtmo(w,[0.5,0.5,0.5,0.5,2.0,2.0])\n",
      "atmo6 = a.genAtmo(w,[0.5,0.5,0.5,0.5,0.5,2.5])\n",
      "atmo7 = a.genAtmo(w,[0.5,0.5,0.5,0.5,0.5,2.0],X=2.0)"
     ],
     "language": "python",
     "metadata": {},
     "outputs": [],
     "prompt_number": 19
    },
    {
     "cell_type": "code",
     "collapsed": false,
     "input": [
      "python dm.read_kurucz()"
     ],
     "language": "python",
     "metadata": {},
     "outputs": [
      {
       "ename": "SyntaxError",
       "evalue": "invalid syntax (<ipython-input-23-c7d4d26b8b32>, line 1)",
       "output_type": "pyerr",
       "traceback": [
        "\u001b[0;36m  File \u001b[0;32m\"<ipython-input-23-c7d4d26b8b32>\"\u001b[0;36m, line \u001b[0;32m1\u001b[0m\n\u001b[0;31m    $ python dm.read_kurucz()\u001b[0m\n\u001b[0m    ^\u001b[0m\n\u001b[0;31mSyntaxError\u001b[0m\u001b[0;31m:\u001b[0m invalid syntax\n"
       ]
      }
     ],
     "prompt_number": 23
    },
    {
     "cell_type": "code",
     "collapsed": false,
     "input": [],
     "language": "python",
     "metadata": {},
     "outputs": []
    }
   ],
   "metadata": {}
  }
 ]
}