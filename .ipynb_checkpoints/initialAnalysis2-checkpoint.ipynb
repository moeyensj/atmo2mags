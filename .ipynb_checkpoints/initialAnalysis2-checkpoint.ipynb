{
 "metadata": {
  "name": ""
 },
 "nbformat": 3,
 "nbformat_minor": 0,
 "worksheets": [
  {
   "cells": [
    {
     "cell_type": "markdown",
     "metadata": {},
     "source": [
      "## Initial Analysis - Constraints on Atmospheric Transmissivity from Stellar Photometry - November 2014 - Part 2\n",
      "\n",
      "This ipython notebook will run through the initial analysis described in section 2.1 of the research paper titled above. Note: This notebook contains LSST stack dependencies and several imports of scripts."
     ]
    },
    {
     "cell_type": "code",
     "collapsed": false,
     "input": [
      "from atmo import atmo as atm\n",
      "from AtmoCompMod import AtmoComp as ac\n",
      "from plot_dmagsMod import plot_dmags as dm\n",
      "import lsst.sims.photUtils.Sed as Sed\n",
      "import lsst.sims.photUtils.Bandpass as Bandpass\n",
      "import lsst.sims.photUtils.BandpassSet as BandpassSet\n",
      "\n",
      "import os\n",
      "import numpy\n",
      "import pylab\n",
      "import matplotlib\n",
      "import scipy.integrate\n",
      "\n",
      "filterlist = ['u', 'g', 'r', 'i', 'z', 'y4']\n",
      "\n",
      "% matplotlib inline"
     ],
     "language": "python",
     "metadata": {},
     "outputs": [],
     "prompt_number": 71
    },
    {
     "cell_type": "code",
     "collapsed": false,
     "input": [
      "# Initialize atmo function\n",
      "a = atm()\n",
      "a.readModtranFiles()\n",
      "print a.components\n",
      "print a.wavelength"
     ],
     "language": "python",
     "metadata": {},
     "outputs": [
      {
       "output_type": "stream",
       "stream": "stdout",
       "text": [
        "Found 16 MODTRAN files:\n",
        "Pachon_MODTRAN.10.7sc\n",
        "Pachon_MODTRAN.11.7sc\n",
        "Pachon_MODTRAN.12.7sc\n",
        "Pachon_MODTRAN.13.7sc\n",
        "Pachon_MODTRAN.14.7sc\n",
        "Pachon_MODTRAN.15.7sc\n",
        "Pachon_MODTRAN.16.7sc\n",
        "Pachon_MODTRAN.17.7sc"
       ]
      },
      {
       "output_type": "stream",
       "stream": "stdout",
       "text": [
        "\n",
        "Pachon_MODTRAN.18.7sc\n",
        "Pachon_MODTRAN.19.7sc\n",
        "Pachon_MODTRAN.20.7sc\n",
        "Pachon_MODTRAN.21.7sc\n",
        "Pachon_MODTRAN.22.7sc\n",
        "Pachon_MODTRAN.23.7sc"
       ]
      },
      {
       "output_type": "stream",
       "stream": "stdout",
       "text": [
        "\n",
        "Pachon_MODTRAN.24.7sc\n",
        "Pachon_MODTRAN.25.7sc\n",
        "MODTRAN files have been read.\n",
        "['H2O', 'O2', 'O3', 'Rayleigh', 'Aerosol']\n",
        "[  300.    300.5   301.  ...,  1099.   1099.5  1100. ]\n"
       ]
      }
     ],
     "prompt_number": 45
    },
    {
     "cell_type": "code",
     "collapsed": false,
     "input": [
      "# Generating 7 atmospheres, plus standard atmo\n",
      "w = a.wavelength\n",
      "atmoStd = a.genAtmo(w,[1.0,1.0,1.0,1.0,1.0,1.7])\n",
      "atmo1 = a.genAtmo(w,[2.0,0.5,0.5,0.5,0.5,2.0])\n",
      "atmo2 = a.genAtmo(w,[0.5,2.0,0.5,0.5,0.5,2.0])\n",
      "atmo3 = a.genAtmo(w,[0.5,0.5,2.0,0.5,0.5,2.0])\n",
      "atmo4 = a.genAtmo(w,[0.5,0.5,0.5,2.0,0.5,2.0])\n",
      "atmo5 = a.genAtmo(w,[0.5,0.5,0.5,0.5,2.0,2.0])\n",
      "atmo6 = a.genAtmo(w,[0.5,0.5,0.5,0.5,0.5,2.5])\n",
      "atmo7 = a.genAtmo(w,[0.5,0.5,0.5,0.5,0.5,2.0],X=2.0)"
     ],
     "language": "python",
     "metadata": {},
     "outputs": [],
     "prompt_number": 70
    },
    {
     "cell_type": "code",
     "collapsed": false,
     "input": [
      "sys = {}\n",
      "for f in filterlist:\n",
      "    sys[f] = Bandpass()"
     ],
     "language": "python",
     "metadata": {},
     "outputs": [
      {
       "ename": "TypeError",
       "evalue": "'NoneType' object has no attribute '__getitem__'",
       "output_type": "pyerr",
       "traceback": [
        "\u001b[0;31m---------------------------------------------------------------------------\u001b[0m\n\u001b[0;31mTypeError\u001b[0m                                 Traceback (most recent call last)",
        "\u001b[0;32m<ipython-input-74-580a556bc79a>\u001b[0m in \u001b[0;36m<module>\u001b[0;34m()\u001b[0m\n\u001b[1;32m      3\u001b[0m \u001b[0;32mfor\u001b[0m \u001b[0mf\u001b[0m \u001b[0;32min\u001b[0m \u001b[0mfilterlist\u001b[0m\u001b[0;34m:\u001b[0m\u001b[0;34m\u001b[0m\u001b[0m\n\u001b[1;32m      4\u001b[0m     \u001b[0msys\u001b[0m\u001b[0;34m[\u001b[0m\u001b[0mf\u001b[0m\u001b[0;34m]\u001b[0m \u001b[0;34m=\u001b[0m \u001b[0mBandpass\u001b[0m\u001b[0;34m(\u001b[0m\u001b[0;34m)\u001b[0m\u001b[0;34m\u001b[0m\u001b[0m\n\u001b[0;32m----> 5\u001b[0;31m     \u001b[0mphi\u001b[0m\u001b[0;34m[\u001b[0m\u001b[0mf\u001b[0m\u001b[0;34m]\u001b[0m \u001b[0;34m=\u001b[0m \u001b[0msys\u001b[0m\u001b[0;34m[\u001b[0m\u001b[0mf\u001b[0m\u001b[0;34m]\u001b[0m\u001b[0;34m.\u001b[0m\u001b[0msbTophi\u001b[0m\u001b[0;34m(\u001b[0m\u001b[0;34m)\u001b[0m\u001b[0;34m\u001b[0m\u001b[0m\n\u001b[0m",
        "\u001b[0;32m/Users/joachim/lsst/DarwinX86/sims_photUtils/master-g9e683f77a4+4/python/lsst/sims/photUtils/Bandpass.pyc\u001b[0m in \u001b[0;36msbTophi\u001b[0;34m(self)\u001b[0m\n\u001b[1;32m    364\u001b[0m         \u001b[0;31m# The definition of phi = (Sb/wavelength)/\\int(Sb/wavelength)dlambda.\u001b[0m\u001b[0;34m\u001b[0m\u001b[0;34m\u001b[0m\u001b[0m\n\u001b[1;32m    365\u001b[0m         \u001b[0;31m# Due to definition of class, self.sb and self.wavelen are guaranteed equal-gridded.\u001b[0m\u001b[0;34m\u001b[0m\u001b[0;34m\u001b[0m\u001b[0m\n\u001b[0;32m--> 366\u001b[0;31m         \u001b[0mdlambda\u001b[0m \u001b[0;34m=\u001b[0m \u001b[0mself\u001b[0m\u001b[0;34m.\u001b[0m\u001b[0mwavelen\u001b[0m\u001b[0;34m[\u001b[0m\u001b[0;36m1\u001b[0m\u001b[0;34m]\u001b[0m\u001b[0;34m-\u001b[0m\u001b[0mself\u001b[0m\u001b[0;34m.\u001b[0m\u001b[0mwavelen\u001b[0m\u001b[0;34m[\u001b[0m\u001b[0;36m0\u001b[0m\u001b[0;34m]\u001b[0m\u001b[0;34m\u001b[0m\u001b[0m\n\u001b[0m\u001b[1;32m    367\u001b[0m         \u001b[0mself\u001b[0m\u001b[0;34m.\u001b[0m\u001b[0mphi\u001b[0m \u001b[0;34m=\u001b[0m \u001b[0mself\u001b[0m\u001b[0;34m.\u001b[0m\u001b[0msb\u001b[0m\u001b[0;34m/\u001b[0m\u001b[0mself\u001b[0m\u001b[0;34m.\u001b[0m\u001b[0mwavelen\u001b[0m\u001b[0;34m\u001b[0m\u001b[0m\n\u001b[1;32m    368\u001b[0m         \u001b[0;31m# Normalize phi so that the integral of phi is 1.\u001b[0m\u001b[0;34m\u001b[0m\u001b[0;34m\u001b[0m\u001b[0m\n",
        "\u001b[0;31mTypeError\u001b[0m: 'NoneType' object has no attribute '__getitem__'"
       ]
      }
     ],
     "prompt_number": 74
    },
    {
     "cell_type": "code",
     "collapsed": false,
     "input": [
      "print sys"
     ],
     "language": "python",
     "metadata": {},
     "outputs": [
      {
       "output_type": "stream",
       "stream": "stdout",
       "text": [
        "{'g': <lsst.sims.photUtils.Bandpass.Bandpass instance at 0x10db02e18>, 'i': <lsst.sims.photUtils.Bandpass.Bandpass instance at 0x10db02a70>, 'r': <lsst.sims.photUtils.Bandpass.Bandpass instance at 0x10db02d88>, 'u': <lsst.sims.photUtils.Bandpass.Bandpass instance at 0x10db02ea8>, 'z': <lsst.sims.photUtils.Bandpass.Bandpass instance at 0x10db022d8>, 'y4': <lsst.sims.photUtils.Bandpass.Bandpass instance at 0x10d7c3b90>}\n"
       ]
      }
     ],
     "prompt_number": 73
    },
    {
     "cell_type": "code",
     "collapsed": false,
     "input": [],
     "language": "python",
     "metadata": {},
     "outputs": []
    }
   ],
   "metadata": {}
  }
 ]
}