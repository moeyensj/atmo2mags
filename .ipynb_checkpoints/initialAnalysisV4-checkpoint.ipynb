{
 "metadata": {
  "name": "",
  "signature": "sha256:10e88f29d0e6371b0caf8734a5d808c10973e43c79f7faebba673878334031aa"
 },
 "nbformat": 3,
 "nbformat_minor": 0,
 "worksheets": [
  {
   "cells": [
    {
     "cell_type": "markdown",
     "metadata": {},
     "source": [
      "## Initial Analysis - Constraints on Atmospheric Transmissivity from Stellar Photometry - February 2015\n",
      "\n",
      "This ipython notebook will run through the initial analysis described in section 2.2 of the research paper titled above. Note: This notebook contains LSST stack dependencies and several script imports; this notebook uses the atmoBuilder class contrary to the original initialAnalysis notebook. Furthermore, this notebook will focus on integrating principles from AstroML:  Chapter 8 on linear and nonlinear regressions with log-likelihood functions.\n",
      "\n",
      "Global variables in Sed.py, Bandpass.py must be set to following in order to match MODTRAN data: \n",
      "\n",
      "- MINWAVELEN = 300\n",
      "- MAXWAVELEN = 1100\n",
      "- WAVELENSTEP = 0.5\n",
      "\n",
      "Requires the following to be sourced / setup with eups:\n",
      "- setup sims_photUtils -t sims\n",
      "- setup sims_sed_library -t sims"
     ]
    },
    {
     "cell_type": "code",
     "collapsed": false,
     "input": [
      "import numpy \n",
      "import matplotlib.pyplot as plt\n",
      "import pylab\n",
      "from astroML.plotting.mcmc import convert_to_stdev\n",
      "from astroML.decorators import pickle_results\n",
      "\n",
      "from AtmoBuilder import AtmoBuilder\n",
      "\n",
      "% matplotlib inline"
     ],
     "language": "python",
     "metadata": {},
     "outputs": []
    },
    {
     "cell_type": "code",
     "collapsed": false,
     "input": [
      "ab = AtmoBuilder()"
     ],
     "language": "python",
     "metadata": {},
     "outputs": []
    },
    {
     "cell_type": "code",
     "collapsed": false,
     "input": [
      "# Required for dmags\n",
      "ab.readKurucz()"
     ],
     "language": "python",
     "metadata": {},
     "outputs": []
    },
    {
     "cell_type": "markdown",
     "metadata": {},
     "source": [
      "###Number of bins set to 25 for all function calls below to decrease computation time. 100 bin computations further down. "
     ]
    },
    {
     "cell_type": "code",
     "collapsed": false,
     "input": [
      "range_Rayleigh, range_Aerosol, best_Rayleigh, best_Aerosol, logL = ab.compute_mag_color_nonlinear('Rayleigh','Aerosol',[1.0,1.0,1.0,2.3,1.4,1.7],1.4,Nbins=25)"
     ],
     "language": "python",
     "metadata": {},
     "outputs": []
    },
    {
     "cell_type": "code",
     "collapsed": false,
     "input": [
      "range_Rayleigh, range_Aerosol, best_Rayleigh, best_Aerosol, logL = ab.compute_mag_color_nonlinear('Rayleigh','Aerosol',[1.0,1.0,1.0,2.3,0.8,1.7],1.4,Nbins=25)"
     ],
     "language": "python",
     "metadata": {},
     "outputs": []
    },
    {
     "cell_type": "code",
     "collapsed": false,
     "input": [
      "range_Rayleigh, range_Aerosol, best_Rayleigh, best_Aerosol, logL = ab.compute_mag_color_nonlinear('Rayleigh','Aerosol',[1.0,1.0,1.0,0.6,3.2,1.7],1.4,Nbins=25)"
     ],
     "language": "python",
     "metadata": {},
     "outputs": []
    },
    {
     "cell_type": "code",
     "collapsed": false,
     "input": [
      "range_Aerosol, range_Alpha, best_Aerosol, best_Alpha, logL = ab.compute_mag_color_nonlinear('Aerosol','Alpha',[1.0,1.0,1.0,1.0,0.2,2.9],1.4,Nbins=25)"
     ],
     "language": "python",
     "metadata": {},
     "outputs": []
    },
    {
     "cell_type": "code",
     "collapsed": false,
     "input": [
      "range_Aerosol, range_Alpha, best_Aerosol, best_Alpha, logL = ab.compute_mag_color_nonlinear('Aerosol','Alpha',[1.0,1.0,1.0,1.0,2.5,0.9],1.4,Nbins=25)"
     ],
     "language": "python",
     "metadata": {},
     "outputs": []
    },
    {
     "cell_type": "code",
     "collapsed": false,
     "input": [
      "# 03,02 out of curiosity\n",
      "range_O2, range_O3, best_O2, best_O3, logL = ab.compute_mag_color_nonlinear('O2','O3',[1.0,0.3,2.2,1.0,1.0,1.7],1.4,Nbins=25)"
     ],
     "language": "python",
     "metadata": {},
     "outputs": []
    },
    {
     "cell_type": "code",
     "collapsed": false,
     "input": [
      "range_H2O, range_O3, best_H2O, best_O3, logL = ab.compute_mag_color_nonlinear('H2O','O3',[2.6,1.0,1.7,1.0,1.0,1.7],1.4,Nbins=25)"
     ],
     "language": "python",
     "metadata": {},
     "outputs": []
    },
    {
     "cell_type": "markdown",
     "metadata": {},
     "source": [
      "### 100 bin computation"
     ]
    },
    {
     "cell_type": "code",
     "collapsed": false,
     "input": [
      "range_Aerosol, range_Alpha, best_Aerosol, best_Alpha, logL = ab.compute_mag_color_nonlinear('Aerosol','Alpha',[1.0,1.0,1.0,1.0,0.2,2.9],1.4,Nbins=100)"
     ],
     "language": "python",
     "metadata": {},
     "outputs": []
    },
    {
     "cell_type": "code",
     "collapsed": false,
     "input": [
      "range_Rayleigh, range_Alpha, best_Rayleigh, best_Alpha, logL = ab.compute_mag_color_nonlinear('Rayleigh','Alpha',[1.0,1.0,1.0,0.2,1.0,2.9],1.4,Nbins=100)"
     ],
     "language": "python",
     "metadata": {},
     "outputs": []
    },
    {
     "cell_type": "code",
     "collapsed": false,
     "input": [
      "range_Rayleigh, range_Alpha, best_Rayleigh, best_Alpha, logL = ab.compute_mag_color_nonlinear('Rayleigh','Alpha',[1.0,1.0,1.0,1.1,1.0,1.7],1.4,Nbins=100)"
     ],
     "language": "python",
     "metadata": {},
     "outputs": []
    },
    {
     "cell_type": "code",
     "collapsed": false,
     "input": [
      "range_Rayleigh, range_Alpha, best_Rayleigh, best_Alpha, logL = ab.compute_mag_color_nonlinear('Rayleigh','Alpha',[1.0,1.0,1.0,1.2,1.0,1.7],1.4,Nbins=100)"
     ],
     "language": "python",
     "metadata": {},
     "outputs": []
    },
    {
     "cell_type": "code",
     "collapsed": false,
     "input": [
      "range_Rayleigh, range_Alpha, best_Rayleigh, best_Alpha, logL = ab.compute_mag_color_nonlinear('Rayleigh','Alpha',[1.0,1.0,1.0,1.3,1.0,1.7],1.4,Nbins=100)"
     ],
     "language": "python",
     "metadata": {},
     "outputs": []
    }
   ],
   "metadata": {}
  }
 ]
}