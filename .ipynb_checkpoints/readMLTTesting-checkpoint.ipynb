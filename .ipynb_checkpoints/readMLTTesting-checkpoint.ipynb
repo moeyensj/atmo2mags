{
 "metadata": {
  "name": "",
  "signature": "sha256:80b0f7eda401bfdeb1dd4276a907dbd2e147972386d41f9b6561c6240b1f40ad"
 },
 "nbformat": 3,
 "nbformat_minor": 0,
 "worksheets": [
  {
   "cells": [
    {
     "cell_type": "code",
     "collapsed": false,
     "input": [
      "import os\n",
      "import lsst.sims.photUtils.Sed as Sed\n",
      "import lsst.sims.photUtils.Bandpass as Bandpass\n",
      "import lsst.sims.photUtils.photUtils as photUtils"
     ],
     "language": "python",
     "metadata": {},
     "outputs": [],
     "prompt_number": 3
    },
    {
     "cell_type": "code",
     "collapsed": false,
     "input": [
      "def read_mlt():\n",
      "    # read mlt stars - only keep 'm's\n",
      "    # find the filenames and mark 'm', 'l', 't' stars separately\n",
      "    homedir = os.getenv(\"SIMS_SED_LIBRARY\")\n",
      "    mltdir = os.path.join(homedir, \"starSED/mlt/\")\n",
      "    allfilelist = os.listdir(mltdir)\n",
      "    mltlist = []\n",
      "    mlist = []\n",
      "    llist = []\n",
      "    tlist = []\n",
      "    for filename in allfilelist:\n",
      "        if filename.endswith('.dat') & filename.startswith('m'):\n",
      "            mlist.append(filename)\n",
      "        elif filename.endswith('.dat') & filename.startswith('L'):\n",
      "            llist.append(filename)\n",
      "        elif filename.startswith('burrows'):\n",
      "            tlist.append(filename)\n",
      "    mltlist = mlist # + llist + tlist\n",
      "    # read the mlt seds from disk\n",
      "    mlts = {}\n",
      "    for s in mltlist:\n",
      "        mlts[s] = Sed()\n",
      "        mlts[s].readSED_flambda(os.path.join(mltdir, s))\n",
      "    print \"# Read %d mlt stars from %s\" %(len(mltlist), mltdir)\n",
      "    # resample onto the standard bandpass for Bandpass obj's and calculate fnu to speed later calculations\n",
      "    for s in mltlist:\n",
      "        mlts[s].synchronizeSED(wavelen_min=WMIN, wavelen_max=WMAX, wavelen_step=WSTEP)\n",
      "    return mlts, mltlist, mlist, llist, tlist"
     ],
     "language": "python",
     "metadata": {},
     "outputs": [],
     "prompt_number": 2
    },
    {
     "cell_type": "code",
     "collapsed": false,
     "input": [],
     "language": "python",
     "metadata": {},
     "outputs": []
    }
   ],
   "metadata": {}
  }
 ]
}