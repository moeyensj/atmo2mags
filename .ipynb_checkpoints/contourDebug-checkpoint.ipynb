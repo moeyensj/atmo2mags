{
 "metadata": {
  "name": "",
  "signature": "sha256:46ba24d7c238c6046663cc5059fd8a3f28711fa2661043ecb8b282f7f88a809e"
 },
 "nbformat": 3,
 "nbformat_minor": 0,
 "worksheets": []
}