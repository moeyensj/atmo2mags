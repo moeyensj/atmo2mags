{
 "metadata": {
  "name": "",
  "signature": "sha256:4c86018d25f32544c300fb973634c725871582dcd563f8ae34f705aae417b8ce"
 },
 "nbformat": 3,
 "nbformat_minor": 0,
 "worksheets": [
  {
   "cells": [
    {
     "cell_type": "heading",
     "level": 1,
     "metadata": {},
     "source": [
      "Work Log"
     ]
    },
    {
     "cell_type": "markdown",
     "metadata": {},
     "source": [
      "[LSST Page](https://confluence.lsstcorp.org/display/SIM/Recovering+atmospheric+parameters+from+stellar+magnitudes)"
     ]
    },
    {
     "cell_type": "markdown",
     "metadata": {},
     "source": [
      "####*Monday, October 6 2014:*\n",
      "- Meeting with Zeljko\n",
      "    - Received background readings and link to overview website\n",
      "    - Discussed week plan and goals for quarter\n",
      "        - Best Case Scenario: Reproduce the atmosphere plots by 13/10/14\n",
      "- Background Reading \n",
      "    - Read packet on magnitudes\n",
      "    - Read first part of Photometric Calibration selection"
     ]
    },
    {
     "cell_type": "markdown",
     "metadata": {},
     "source": [
      "####*Tuesday, October 7 2014:*\n",
      "- Installed Ubuntu on laptop\n",
      "    - Installed Anaconda, updated modules\n",
      "    - Installed [LSST software dependencies](https://confluence.lsstcorp.org/display/LSWUG/Prerequisites)\n",
      "    - Installed [LSST software package](https://confluence.lsstcorp.org/display/SIM/Catalogs+and+MAF)\n",
      "    - Troubleshooting installation problems with EUPS"
     ]
    },
    {
     "cell_type": "markdown",
     "metadata": {},
     "source": [
      "####*Wednesday, October 8 2014:*\n",
      "- Background Reading\n",
      "    - Read second part of Photometric Calibration selection including part 5.2\n",
      "- Python refresher focusing on numpy, pylab, scipy, matplotlib modules"
     ]
    },
    {
     "cell_type": "markdown",
     "metadata": {},
     "source": [
      "####*Friday, October 10 2014:*\n",
      "- Re-read Calibration Paper and took notes to deepen understanding relevant equations and sources of atmospheric extinction"
     ]
    },
    {
     "cell_type": "markdown",
     "metadata": {},
     "source": [
      "####*Sunday, October 12 2014:*\n",
      "- AtmoComp.py testing and attempts to build atmospheres using coefficients and some sample Modtran files"
     ]
    },
    {
     "cell_type": "markdown",
     "metadata": {},
     "source": [
      "####*Monday, October 13 2014:*\n",
      "- AtmoComp.py plot making and playing around with atmospheric extinction components.\n",
      "    - Made folder on [Google Drive](https://drive.google.com/folderview?id=0B-CdDYz4aRcCWFBZZzA4ejV0Ymc&usp=sharing)\n",
      "- Meeting with Zeljko and Peter\n",
      "    - Reproduce delta mmag plots by 20/10/14"
     ]
    },
    {
     "cell_type": "markdown",
     "metadata": {},
     "source": [
      "####*Tuesday, October 14 2014:*\n",
      "- Troubleshooting EUPS distrib install problems: fixed (hardware related issue)\n",
      "- Installed LSST related data:\n",
      "    - Installed LSST_apps\n",
      "    - Attempted install of LSST_sims, fails at dustmaps\n",
      "    - Attempted install of sims_photUtils, fails at start"
     ]
    },
    {
     "cell_type": "markdown",
     "metadata": {},
     "source": [
      "####*Thursday, October 16 2014:*\n",
      "- Converted Google Doc [Work Log](https://docs.google.com/document/d/1ZydKeBq8if8YtpMkyr1xM4r-3Z2H4qAbLuaCtZMa0Z0/edit?usp=sharing) to ipython notebook\n",
      "- Reattemped install of sims_photUtils, fails at start\n",
      "- Uploaded current files and work progress to [GitHub](https://github.com/moeyensj/LSST-Atmospheric-Parameter-Recovery.git)"
     ]
    },
    {
     "cell_type": "markdown",
     "metadata": {},
     "source": [
      "####*Friday, October 17 2014:*\n",
      "- Meeting with Peter regarding failed sims_photUtils install\n",
      "    - To do: reinstall LSST stack from the top\n",
      "    - Result: reinstallation failed, same problem"
     ]
    },
    {
     "cell_type": "markdown",
     "metadata": {},
     "source": [
      "####*Sunday, October 19 2014:*\n",
      "- Installed Ubuntu on desktop\n",
      "    - Installed Anaconda, updated modules\n",
      "    - Installed [LSST software dependencies](https://confluence.lsstcorp.org/display/LSWUG/Prerequisites)\n",
      "    - Installed [LSST software package](https://confluence.lsstcorp.org/display/SIM/Catalogs+and+MAF)\n",
      "    - Installation of sims_photUtils successful, ready to proceed to making dmag plots\n",
      "        - Installation of sims fails beyond certain point (no apparent hindrance to current project)\n",
      "- plot_dmags.py testing:\n",
      "    - Changed script to look at newer photUtils catalog\n",
      "    - Found 'outdated' dependencies within photUtils, do they need to be changed? "
     ]
    },
    {
     "cell_type": "markdown",
     "metadata": {},
     "source": [
      "####*Monday, October 20 2014:*\n",
      "- Read through photUtils constituent files\n",
      "    - Bandpass.py: no update needed\n",
      "    - BandpassSet.py: no update needed\n",
      "    - EVB.py: \n",
      "        - pyfits (now contained in astropy)\n",
      "        - lsst.sims.catalogs.measures.instance import cached\n",
      "        - lsst.sims.coordUtils import AstrometryBase\n",
      "    - Photometry.py\n",
      "        - lsst.sims.catalogs.measures.instance import compound\n",
      "    - PhotUtils.py\n",
      "        - lsst.sims.coordUtils import compound\n",
      "    - Sed.py: no update needed\n",
      "    - SedSet.py: no update needed\n",
      "    - Variability.py:\n",
      "        - lsst.sims.catalogs.measures.instance import register_class, register_method\n",
      "- Meeting 3PM with Zeljko, Lynne and Peter\n",
      "    - Discussed plan for upcoming two weeks"
     ]
    },
    {
     "cell_type": "markdown",
     "metadata": {},
     "source": [
      "####*Wednesday, October 22 2014:*\n",
      "- Current plan as outlined in group email\n",
      "    - Find acceptable ranges for atmospheric components using newly provided python scripts (i)\n",
      "    - Update plot_dmags.py to work with new sims_photUtils and attempt to reproduce some of the plots in the Calibration Paper for the ultimate goal of understanding the code so it can be used later (ii)\n",
      "    - Create a set of files for Kurucz model stars with varying atmospheric components at specific airmasses (X = 1.0,1.4,1.6 with the potential of adding more), ideally to be completed around November 3rd (iii)\n"
     ]
    },
    {
     "cell_type": "markdown",
     "metadata": {},
     "source": [
      "####*Friday, October 24 2014:*\n",
      "- 'Housekeeping'\n",
      "    - Laptop\n",
      "        - \"Top-Down\" reinstall of Ubuntu to fix problems from earlier\n",
      "        - Successfully installed lsst_apps\n",
      "        - Failed install of lsst_sims at 53/62\n",
      "        - Successfully installed sims_photUtils\n",
      "    - Desktop\n",
      "        - Reattempted install of lsst_sims, failed at 53/62\n",
      "        - Installed emacs\n",
      "- Re-read and processed Calibration Paper for more information on relating component coefficients to their actual physical values\n",
      "    - Will attempt to create deltaCoeff vs deltaPhys graphs in appropriate ranges for completeness and code review in near future"
     ]
    },
    {
     "cell_type": "markdown",
     "metadata": {},
     "source": [
      "####*Sunday, October 26 2014:*\n",
      "- Updated plot_dmags.py to account for newer catalog (saved as plot_dmagsMod.py)\n",
      "    - Simple change to pointers as outlined by Lynne on confluence page\n",
      "- Tested project relevant imports in importTesting.ipynb\n",
      "    - No errors: updates to relevant scripts worked\n",
      "- Commented changes in all 'Mod' files for future clarity"
     ]
    },
    {
     "cell_type": "markdown",
     "metadata": {},
     "source": [
      "####*Tuesday, October 28 2014:*\n",
      "- Updated atmoTest.py for more streamline look\n",
      "- Updated specific component repositories for newer catalogs (saved as {originalname}Mod.py)\n",
      "- Ran ozone and aerosol scripts to recreate plots successfully"
     ]
    },
    {
     "cell_type": "markdown",
     "metadata": {},
     "source": [
      "####*Thursday, October 30 2014:*\n",
      "- Reattempted install of all phot_utils depedencies using eups distrib install sims_photUtils -t sims\n",
      "    - Successful on both laptop and desktop for the first time\n",
      "- Reattempted install of lsst_sims using eups distrib install lsst_sims -t sims\n",
      "    - Fails on both laptop and desktop at meas_base with error exit code 252"
     ]
    },
    {
     "cell_type": "markdown",
     "metadata": {},
     "source": [
      "####*Friday, October 31 2014:*\n",
      "- Updated plot_dmagsMod.py to slice kurucz filenames from sims_sed_library properly\n",
      "- Updated plot_dmagsMod.py wavelength range to correct for overlap errors\n",
      "    - New range 300-1100 nm"
     ]
    },
    {
     "cell_type": "markdown",
     "metadata": {},
     "source": [
      "####*Saturday, November 1 2014:*\n",
      "- Using ozone.plt files found most appropriate range for ozone variation.\n",
      "    - Confirmed physical parameter variation ranging from 200-400 Dobson units, with peak around 270-300 as shown in calibration paper plots\n",
      "- Using pwv files and plots from calibration paper attempted to establish range\n",
      "    - Definitely should be a heavily scalable value ranging from 0 mm to 8 mm on an average night with the possibility of some outliers\n",
      "    - Recreated pwv plots using the water directory, which concludes my work to reproduce some of the graphs for the component directories\n",
      "- Using aerosol files attempted to find a reasonable range for its physical values\n",
      "    - Need working data for this to happen as calibration paper has not been updated with newest values\n",
      "- Wrote up questions regarding i) for Monday's meeting"
     ]
    },
    {
     "cell_type": "markdown",
     "metadata": {},
     "source": [
      "####*Sunday, November 2 2014:*\n",
      "- Updated plot_dmagsMod.py wavelength range to account for wavelength range required by Bandpass.py\n",
      "    - New range 300-1150.1 nm\n",
      "- Ran plot_dmagsMod.py on sample set of kurucz stars, outputted empty graphs but should be very simple fix\n",
      "    - What kurucz library should I use?\n",
      "    - How are they named? \n",
      "- Wrote up questions regarding ii) and iii) for Monday's meeting"
     ]
    },
    {
     "cell_type": "markdown",
     "metadata": {},
     "source": [
      "####*Monday, November 3 2014:*\n",
      "- Meeting 3PM\n",
      "    - Questions regarding i) ii) iii)\n",
      "    - Briefly met with Zeljko and Peter regarding project specifics, especially dimensionless atmospheric equation, metadata files and code updates.\n",
      "    - Peter sent out mass email asking about kurucz model database and naming convention"
     ]
    },
    {
     "cell_type": "markdown",
     "metadata": {},
     "source": [
      "####*Wednesday, November 5 2014:*\n",
      "- Using naming conventions outlined in mass email, I updated the plot_dmagsMod.py script to properly slice files. \n",
      "    - Should work in theory\n",
      "- Took notes and created a list of questions to ask Zeljko and perhaps Lynne over the course of the next few days to sort out my uncertainty and confusion thus far\n",
      "    - Kurucz files?\n",
      "    - Modtran files to create ranges?\n",
      "    - Devil's advocate: why? \n",
      "        - Why not dimensionless and absolutely generalized equation?\n",
      "    - Atmospheric component directories\n",
      "        - Where data came from?\n",
      "        - How it was measured?\n",
      "    - Location or directory for new aerosol data?"
     ]
    },
    {
     "cell_type": "markdown",
     "metadata": {},
     "source": [
      "####*Friday, November 7 2014:*\n",
      "- Meeting 2PM with Zeljko\n",
      "    - Received new instructions with sample of \"my\" research paper written by Zeljko\n",
      "        - Stored in git directory linked on LSST confluence page\n",
      "    - Goal: Complete initial analysis outlined in research paper by Tuesday November 18 to determine absolute viability of project, if I encounter problems and questions email or ask\n",
      "    "
     ]
    },
    {
     "cell_type": "markdown",
     "metadata": {},
     "source": [
      "####*Monday, November 10 2014:*\n",
      "- Thoroughly read new paper to further and deepen understanding of the problem\n",
      "- Additional learning:\n",
      "    - Must familiarize myself with Latex, Bibtex\n",
      "    - Need more practice with GitHub and pulling, especially to keep organized. "
     ]
    },
    {
     "cell_type": "markdown",
     "metadata": {},
     "source": [
      "####*Wednesday, November 12 2014:*\n",
      "- ASTR 300 with Toby Smith now covering LaTex, BibTex and so on...\n",
      "    - Completing homework assignment for this class will be instructive in learning how to use LaTex for my own research paper\n",
      "- Further familiarization with LaTex and BibTex\n",
      "- Minor housekeeping, insuring all copies of this directory are up to sync and functioning in preparation for initial analysis"
     ]
    },
    {
     "cell_type": "code",
     "collapsed": false,
     "input": [],
     "language": "python",
     "metadata": {},
     "outputs": []
    }
   ],
   "metadata": {}
  }
 ]
}